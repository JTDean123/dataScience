{
 "cells": [
  {
   "cell_type": "markdown",
   "metadata": {},
   "source": [
    "# chapter 10"
   ]
  },
  {
   "cell_type": "code",
   "execution_count": 1,
   "metadata": {},
   "outputs": [],
   "source": [
    "import numpy as np\n",
    "import random\n",
    "import pandas as pd\n",
    "import scipy.stats\n",
    "from scipy.special import logsumexp\n",
    "from sklearn.model_selection import train_test_split\n",
    "import itertools\n",
    "\n",
    "import matplotlib as plt\n",
    "import matplotlib.pyplot as plt\n",
    "plt.rcdefaults()\n",
    "import matplotlib as mpl\n",
    "mpl.rc(\"figure\", facecolor=\"white\")\n",
    "plt.rc('axes', axisbelow=True)\n",
    "import seaborn as sns\n",
    "\n",
    "import warnings\n",
    "warnings.filterwarnings(\"ignore\")\n",
    "\n",
    "import pymc3 as pm\n",
    "import arviz as az\n",
    "\n",
    "import altair as alt\n",
    "from vega_datasets import data as data_alt"
   ]
  },
  {
   "cell_type": "code",
   "execution_count": null,
   "metadata": {},
   "outputs": [],
   "source": []
  },
  {
   "cell_type": "markdown",
   "metadata": {},
   "source": [
    "# EZ"
   ]
  },
  {
   "cell_type": "code",
   "execution_count": 2,
   "metadata": {},
   "outputs": [
    {
     "data": {
      "text/plain": [
       "-0.6190392084062235"
      ]
     },
     "execution_count": 2,
     "metadata": {},
     "output_type": "execute_result"
    }
   ],
   "source": [
    "np.log(0.35/(1-0.35))"
   ]
  },
  {
   "cell_type": "code",
   "execution_count": 3,
   "metadata": {},
   "outputs": [
    {
     "data": {
      "text/plain": [
       "0.9608342772032357"
      ]
     },
     "execution_count": 3,
     "metadata": {},
     "output_type": "execute_result"
    }
   ],
   "source": [
    "np.exp(3.2) / (1+ np.exp(3.2))"
   ]
  },
  {
   "cell_type": "code",
   "execution_count": 4,
   "metadata": {},
   "outputs": [
    {
     "data": {
      "text/plain": [
       "5.4739473917272"
      ]
     },
     "execution_count": 4,
     "metadata": {},
     "output_type": "execute_result"
    }
   ],
   "source": [
    "np.exp(1.7)"
   ]
  },
  {
   "cell_type": "code",
   "execution_count": null,
   "metadata": {},
   "outputs": [],
   "source": []
  },
  {
   "cell_type": "code",
   "execution_count": null,
   "metadata": {},
   "outputs": [],
   "source": []
  },
  {
   "cell_type": "markdown",
   "metadata": {},
   "source": [
    "# hard"
   ]
  },
  {
   "cell_type": "markdown",
   "metadata": {},
   "source": [
    "## H1 and H2"
   ]
  },
  {
   "cell_type": "code",
   "execution_count": 5,
   "metadata": {},
   "outputs": [
    {
     "data": {
      "text/html": [
       "<div>\n",
       "<style scoped>\n",
       "    .dataframe tbody tr th:only-of-type {\n",
       "        vertical-align: middle;\n",
       "    }\n",
       "\n",
       "    .dataframe tbody tr th {\n",
       "        vertical-align: top;\n",
       "    }\n",
       "\n",
       "    .dataframe thead th {\n",
       "        text-align: right;\n",
       "    }\n",
       "</style>\n",
       "<table border=\"1\" class=\"dataframe\">\n",
       "  <thead>\n",
       "    <tr style=\"text-align: right;\">\n",
       "      <th></th>\n",
       "      <th>actor</th>\n",
       "      <th>recipient</th>\n",
       "      <th>condition</th>\n",
       "      <th>block</th>\n",
       "      <th>trial</th>\n",
       "      <th>prosoc_left</th>\n",
       "      <th>chose_prosoc</th>\n",
       "      <th>pulled_left</th>\n",
       "      <th>obs</th>\n",
       "      <th>actor_1</th>\n",
       "      <th>actor_2</th>\n",
       "      <th>actor_3</th>\n",
       "      <th>actor_4</th>\n",
       "      <th>actor_5</th>\n",
       "      <th>actor_6</th>\n",
       "      <th>actor_7</th>\n",
       "    </tr>\n",
       "  </thead>\n",
       "  <tbody>\n",
       "    <tr>\n",
       "      <th>0</th>\n",
       "      <td>1</td>\n",
       "      <td>NaN</td>\n",
       "      <td>0</td>\n",
       "      <td>1</td>\n",
       "      <td>2</td>\n",
       "      <td>0</td>\n",
       "      <td>1</td>\n",
       "      <td>0</td>\n",
       "      <td>0</td>\n",
       "      <td>1</td>\n",
       "      <td>0</td>\n",
       "      <td>0</td>\n",
       "      <td>0</td>\n",
       "      <td>0</td>\n",
       "      <td>0</td>\n",
       "      <td>0</td>\n",
       "    </tr>\n",
       "    <tr>\n",
       "      <th>1</th>\n",
       "      <td>1</td>\n",
       "      <td>NaN</td>\n",
       "      <td>0</td>\n",
       "      <td>1</td>\n",
       "      <td>4</td>\n",
       "      <td>0</td>\n",
       "      <td>0</td>\n",
       "      <td>1</td>\n",
       "      <td>1</td>\n",
       "      <td>1</td>\n",
       "      <td>0</td>\n",
       "      <td>0</td>\n",
       "      <td>0</td>\n",
       "      <td>0</td>\n",
       "      <td>0</td>\n",
       "      <td>0</td>\n",
       "    </tr>\n",
       "  </tbody>\n",
       "</table>\n",
       "</div>"
      ],
      "text/plain": [
       "   actor  recipient  condition  block  trial  prosoc_left  chose_prosoc  \\\n",
       "0      1        NaN          0      1      2            0             1   \n",
       "1      1        NaN          0      1      4            0             0   \n",
       "\n",
       "   pulled_left  obs  actor_1  actor_2  actor_3  actor_4  actor_5  actor_6  \\\n",
       "0            0    0        1        0        0        0        0        0   \n",
       "1            1    1        1        0        0        0        0        0   \n",
       "\n",
       "   actor_7  \n",
       "0        0  \n",
       "1        0  "
      ]
     },
     "execution_count": 5,
     "metadata": {},
     "output_type": "execute_result"
    }
   ],
   "source": [
    "data = pd.read_csv('chimps.txt', sep=';')\n",
    "data['obs'] = data.index.to_list()\n",
    "\n",
    "# dums vars\n",
    "dums = pd.get_dummies(data['actor'])\n",
    "dums.columns = [f'actor_{i}' for i in list(dums)]\n",
    "dums['obs'] = dums.index.to_list()\n",
    "\n",
    "data = data.merge(dums)\n",
    "data.head(2)"
   ]
  },
  {
   "cell_type": "code",
   "execution_count": null,
   "metadata": {},
   "outputs": [],
   "source": []
  },
  {
   "cell_type": "code",
   "execution_count": 6,
   "metadata": {
    "scrolled": true
   },
   "outputs": [
    {
     "name": "stderr",
     "output_type": "stream",
     "text": [
      "Auto-assigning NUTS sampler...\n",
      "Initializing NUTS using jitter+adapt_diag...\n",
      "Multiprocess sampling (2 chains in 2 jobs)\n",
      "NUTS: [bPC, bP, alpha_7, alpha_6, alpha_5, alpha_4, alpha_3, alpha_2, alpha_1]\n"
     ]
    },
    {
     "data": {
      "text/html": [
       "\n",
       "    <div>\n",
       "        <style>\n",
       "            /* Turns off some styling */\n",
       "            progress {\n",
       "                /* gets rid of default border in Firefox and Opera. */\n",
       "                border: none;\n",
       "                /* Needs to be in here for Safari polyfill so background images work as expected. */\n",
       "                background-size: auto;\n",
       "            }\n",
       "            .progress-bar-interrupted, .progress-bar-interrupted::-webkit-progress-bar {\n",
       "                background: #F44336;\n",
       "            }\n",
       "        </style>\n",
       "      <progress value='4000' class='' max='4000' style='width:300px; height:20px; vertical-align: middle;'></progress>\n",
       "      100.00% [4000/4000 00:07<00:00 Sampling 2 chains, 73 divergences]\n",
       "    </div>\n",
       "    "
      ],
      "text/plain": [
       "<IPython.core.display.HTML object>"
      ]
     },
     "metadata": {},
     "output_type": "display_data"
    },
    {
     "name": "stderr",
     "output_type": "stream",
     "text": [
      "Sampling 2 chains for 1_000 tune and 1_000 draw iterations (2_000 + 2_000 draws total) took 26 seconds.\n",
      "There were 40 divergences after tuning. Increase `target_accept` or reparameterize.\n",
      "There were 33 divergences after tuning. Increase `target_accept` or reparameterize.\n"
     ]
    }
   ],
   "source": [
    "with pm.Model() as model_1:\n",
    "    \n",
    "    # priors\n",
    "    alpha_1 = pm.Normal('alpha_1', 0, 10)\n",
    "    alpha_2 = pm.Normal('alpha_2', 0, 10)\n",
    "    alpha_3 = pm.Normal('alpha_3', 0, 10)\n",
    "    alpha_4 = pm.Normal('alpha_4', 0, 10)\n",
    "    alpha_5 = pm.Normal('alpha_5', 0, 10)\n",
    "    alpha_6 = pm.Normal('alpha_6', 0, 10)\n",
    "    alpha_7 = pm.Normal('alpha_7', 0, 10)\n",
    "    \n",
    "    bP = pm.Normal('bP', 0, 10)\n",
    "    bPC = pm.Normal('bPC', 0, 10)\n",
    "    \n",
    "    # deterministic\n",
    "    prob = pm.math.sigmoid(alpha_1*data['actor_1'] + \n",
    "                           alpha_2*data['actor_2'] + \n",
    "                           alpha_3*data['actor_3'] + \n",
    "                           alpha_4*data['actor_4'] + \n",
    "                           alpha_5*data['actor_5'] + \n",
    "                           alpha_6*data['actor_6'] + \n",
    "                           alpha_7*data['actor_7'] + \n",
    "                           bP*data['condition'] + bPC*data['condition']*data['prosoc_left'])\n",
    "    \n",
    "    # likelihood\n",
    "    l_hood = pm.Binomial('l_hood', n=1, p=prob, observed=data['pulled_left'])\n",
    "    \n",
    "    # go time\n",
    "    trace_1 = pm.sample(1000)\n"
   ]
  },
  {
   "cell_type": "code",
   "execution_count": 7,
   "metadata": {},
   "outputs": [
    {
     "data": {
      "text/html": [
       "<div>\n",
       "<style scoped>\n",
       "    .dataframe tbody tr th:only-of-type {\n",
       "        vertical-align: middle;\n",
       "    }\n",
       "\n",
       "    .dataframe tbody tr th {\n",
       "        vertical-align: top;\n",
       "    }\n",
       "\n",
       "    .dataframe thead th {\n",
       "        text-align: right;\n",
       "    }\n",
       "</style>\n",
       "<table border=\"1\" class=\"dataframe\">\n",
       "  <thead>\n",
       "    <tr style=\"text-align: right;\">\n",
       "      <th></th>\n",
       "      <th>mean</th>\n",
       "      <th>sd</th>\n",
       "      <th>hdi_3%</th>\n",
       "      <th>hdi_97%</th>\n",
       "      <th>mcse_mean</th>\n",
       "      <th>mcse_sd</th>\n",
       "      <th>ess_mean</th>\n",
       "      <th>ess_sd</th>\n",
       "      <th>ess_bulk</th>\n",
       "      <th>ess_tail</th>\n",
       "      <th>r_hat</th>\n",
       "    </tr>\n",
       "  </thead>\n",
       "  <tbody>\n",
       "    <tr>\n",
       "      <th>alpha_1</th>\n",
       "      <td>-0.206</td>\n",
       "      <td>0.258</td>\n",
       "      <td>-0.699</td>\n",
       "      <td>0.245</td>\n",
       "      <td>0.006</td>\n",
       "      <td>0.005</td>\n",
       "      <td>1628.0</td>\n",
       "      <td>1124.0</td>\n",
       "      <td>1627.0</td>\n",
       "      <td>1116.0</td>\n",
       "      <td>1.0</td>\n",
       "    </tr>\n",
       "    <tr>\n",
       "      <th>alpha_2</th>\n",
       "      <td>11.186</td>\n",
       "      <td>4.905</td>\n",
       "      <td>4.070</td>\n",
       "      <td>20.399</td>\n",
       "      <td>0.179</td>\n",
       "      <td>0.127</td>\n",
       "      <td>752.0</td>\n",
       "      <td>749.0</td>\n",
       "      <td>816.0</td>\n",
       "      <td>991.0</td>\n",
       "      <td>1.0</td>\n",
       "    </tr>\n",
       "    <tr>\n",
       "      <th>alpha_3</th>\n",
       "      <td>-0.519</td>\n",
       "      <td>0.283</td>\n",
       "      <td>-1.045</td>\n",
       "      <td>0.011</td>\n",
       "      <td>0.007</td>\n",
       "      <td>0.005</td>\n",
       "      <td>1497.0</td>\n",
       "      <td>1339.0</td>\n",
       "      <td>1495.0</td>\n",
       "      <td>1027.0</td>\n",
       "      <td>1.0</td>\n",
       "    </tr>\n",
       "    <tr>\n",
       "      <th>alpha_4</th>\n",
       "      <td>-0.506</td>\n",
       "      <td>0.277</td>\n",
       "      <td>-1.040</td>\n",
       "      <td>-0.002</td>\n",
       "      <td>0.007</td>\n",
       "      <td>0.005</td>\n",
       "      <td>1437.0</td>\n",
       "      <td>1362.0</td>\n",
       "      <td>1440.0</td>\n",
       "      <td>1232.0</td>\n",
       "      <td>1.0</td>\n",
       "    </tr>\n",
       "    <tr>\n",
       "      <th>alpha_5</th>\n",
       "      <td>-0.202</td>\n",
       "      <td>0.276</td>\n",
       "      <td>-0.750</td>\n",
       "      <td>0.272</td>\n",
       "      <td>0.007</td>\n",
       "      <td>0.005</td>\n",
       "      <td>1504.0</td>\n",
       "      <td>1343.0</td>\n",
       "      <td>1520.0</td>\n",
       "      <td>1105.0</td>\n",
       "      <td>1.0</td>\n",
       "    </tr>\n",
       "    <tr>\n",
       "      <th>alpha_6</th>\n",
       "      <td>0.741</td>\n",
       "      <td>0.276</td>\n",
       "      <td>0.233</td>\n",
       "      <td>1.243</td>\n",
       "      <td>0.007</td>\n",
       "      <td>0.005</td>\n",
       "      <td>1669.0</td>\n",
       "      <td>1603.0</td>\n",
       "      <td>1675.0</td>\n",
       "      <td>1458.0</td>\n",
       "      <td>1.0</td>\n",
       "    </tr>\n",
       "    <tr>\n",
       "      <th>alpha_7</th>\n",
       "      <td>2.330</td>\n",
       "      <td>0.440</td>\n",
       "      <td>1.560</td>\n",
       "      <td>3.150</td>\n",
       "      <td>0.013</td>\n",
       "      <td>0.010</td>\n",
       "      <td>1161.0</td>\n",
       "      <td>1039.0</td>\n",
       "      <td>1244.0</td>\n",
       "      <td>988.0</td>\n",
       "      <td>1.0</td>\n",
       "    </tr>\n",
       "    <tr>\n",
       "      <th>bP</th>\n",
       "      <td>-0.752</td>\n",
       "      <td>0.264</td>\n",
       "      <td>-1.259</td>\n",
       "      <td>-0.270</td>\n",
       "      <td>0.009</td>\n",
       "      <td>0.006</td>\n",
       "      <td>956.0</td>\n",
       "      <td>921.0</td>\n",
       "      <td>959.0</td>\n",
       "      <td>985.0</td>\n",
       "      <td>1.0</td>\n",
       "    </tr>\n",
       "    <tr>\n",
       "      <th>bPC</th>\n",
       "      <td>0.917</td>\n",
       "      <td>0.312</td>\n",
       "      <td>0.254</td>\n",
       "      <td>1.440</td>\n",
       "      <td>0.009</td>\n",
       "      <td>0.007</td>\n",
       "      <td>1177.0</td>\n",
       "      <td>1112.0</td>\n",
       "      <td>1174.0</td>\n",
       "      <td>1069.0</td>\n",
       "      <td>1.0</td>\n",
       "    </tr>\n",
       "  </tbody>\n",
       "</table>\n",
       "</div>"
      ],
      "text/plain": [
       "           mean     sd  hdi_3%  hdi_97%  mcse_mean  mcse_sd  ess_mean  ess_sd  \\\n",
       "alpha_1  -0.206  0.258  -0.699    0.245      0.006    0.005    1628.0  1124.0   \n",
       "alpha_2  11.186  4.905   4.070   20.399      0.179    0.127     752.0   749.0   \n",
       "alpha_3  -0.519  0.283  -1.045    0.011      0.007    0.005    1497.0  1339.0   \n",
       "alpha_4  -0.506  0.277  -1.040   -0.002      0.007    0.005    1437.0  1362.0   \n",
       "alpha_5  -0.202  0.276  -0.750    0.272      0.007    0.005    1504.0  1343.0   \n",
       "alpha_6   0.741  0.276   0.233    1.243      0.007    0.005    1669.0  1603.0   \n",
       "alpha_7   2.330  0.440   1.560    3.150      0.013    0.010    1161.0  1039.0   \n",
       "bP       -0.752  0.264  -1.259   -0.270      0.009    0.006     956.0   921.0   \n",
       "bPC       0.917  0.312   0.254    1.440      0.009    0.007    1177.0  1112.0   \n",
       "\n",
       "         ess_bulk  ess_tail  r_hat  \n",
       "alpha_1    1627.0    1116.0    1.0  \n",
       "alpha_2     816.0     991.0    1.0  \n",
       "alpha_3    1495.0    1027.0    1.0  \n",
       "alpha_4    1440.0    1232.0    1.0  \n",
       "alpha_5    1520.0    1105.0    1.0  \n",
       "alpha_6    1675.0    1458.0    1.0  \n",
       "alpha_7    1244.0     988.0    1.0  \n",
       "bP          959.0     985.0    1.0  \n",
       "bPC        1174.0    1069.0    1.0  "
      ]
     },
     "execution_count": 7,
     "metadata": {},
     "output_type": "execute_result"
    }
   ],
   "source": [
    "pm.summary(trace_1)"
   ]
  },
  {
   "cell_type": "code",
   "execution_count": 8,
   "metadata": {},
   "outputs": [
    {
     "name": "stderr",
     "output_type": "stream",
     "text": [
      "Auto-assigning NUTS sampler...\n",
      "Initializing NUTS using jitter+adapt_diag...\n",
      "Multiprocess sampling (2 chains in 2 jobs)\n",
      "NUTS: [bPC, bP, alpha]\n"
     ]
    },
    {
     "data": {
      "text/html": [
       "\n",
       "    <div>\n",
       "        <style>\n",
       "            /* Turns off some styling */\n",
       "            progress {\n",
       "                /* gets rid of default border in Firefox and Opera. */\n",
       "                border: none;\n",
       "                /* Needs to be in here for Safari polyfill so background images work as expected. */\n",
       "                background-size: auto;\n",
       "            }\n",
       "            .progress-bar-interrupted, .progress-bar-interrupted::-webkit-progress-bar {\n",
       "                background: #F44336;\n",
       "            }\n",
       "        </style>\n",
       "      <progress value='4000' class='' max='4000' style='width:300px; height:20px; vertical-align: middle;'></progress>\n",
       "      100.00% [4000/4000 00:07<00:00 Sampling 2 chains, 0 divergences]\n",
       "    </div>\n",
       "    "
      ],
      "text/plain": [
       "<IPython.core.display.HTML object>"
      ]
     },
     "metadata": {},
     "output_type": "display_data"
    },
    {
     "name": "stderr",
     "output_type": "stream",
     "text": [
      "Sampling 2 chains for 1_000 tune and 1_000 draw iterations (2_000 + 2_000 draws total) took 16 seconds.\n"
     ]
    }
   ],
   "source": [
    "# now compare to the simple model, with only one alpha\n",
    "with pm.Model() as model_2:\n",
    "    \n",
    "    # priors\n",
    "    alpha = pm.Normal('alpha', 0, 10)\n",
    "    bP = pm.Normal('bP', 0, 10)\n",
    "    bPC = pm.Normal('bPC', 0, 10)\n",
    "    \n",
    "    # deterministic\n",
    "    prob = pm.math.sigmoid(alpha + bP*data['condition'] + bPC*data['condition']*data['prosoc_left'])\n",
    "    \n",
    "    # likelihood\n",
    "    l_hood = pm.Binomial('l_hood', n=1, p=prob, observed=data['pulled_left'])\n",
    "    \n",
    "    # go time\n",
    "    trace_2 = pm.sample(1000)"
   ]
  },
  {
   "cell_type": "code",
   "execution_count": 9,
   "metadata": {},
   "outputs": [],
   "source": [
    "model_1.name = 'model_1'\n",
    "model_2.name = 'model_2'"
   ]
  },
  {
   "cell_type": "code",
   "execution_count": 10,
   "metadata": {},
   "outputs": [
    {
     "data": {
      "text/html": [
       "<div>\n",
       "<style scoped>\n",
       "    .dataframe tbody tr th:only-of-type {\n",
       "        vertical-align: middle;\n",
       "    }\n",
       "\n",
       "    .dataframe tbody tr th {\n",
       "        vertical-align: top;\n",
       "    }\n",
       "\n",
       "    .dataframe thead th {\n",
       "        text-align: right;\n",
       "    }\n",
       "</style>\n",
       "<table border=\"1\" class=\"dataframe\">\n",
       "  <thead>\n",
       "    <tr style=\"text-align: right;\">\n",
       "      <th></th>\n",
       "      <th>rank</th>\n",
       "      <th>waic</th>\n",
       "      <th>p_waic</th>\n",
       "      <th>d_waic</th>\n",
       "      <th>weight</th>\n",
       "      <th>se</th>\n",
       "      <th>dse</th>\n",
       "      <th>warning</th>\n",
       "      <th>waic_scale</th>\n",
       "    </tr>\n",
       "  </thead>\n",
       "  <tbody>\n",
       "    <tr>\n",
       "      <th>model_1</th>\n",
       "      <td>0</td>\n",
       "      <td>-266.424</td>\n",
       "      <td>8.54563</td>\n",
       "      <td>0</td>\n",
       "      <td>1</td>\n",
       "      <td>10.0652</td>\n",
       "      <td>0</td>\n",
       "      <td>False</td>\n",
       "      <td>log</td>\n",
       "    </tr>\n",
       "    <tr>\n",
       "      <th>model_2</th>\n",
       "      <td>1</td>\n",
       "      <td>-342.403</td>\n",
       "      <td>3.2479</td>\n",
       "      <td>75.9787</td>\n",
       "      <td>1.33237e-19</td>\n",
       "      <td>4.43699</td>\n",
       "      <td>9.61186</td>\n",
       "      <td>False</td>\n",
       "      <td>log</td>\n",
       "    </tr>\n",
       "  </tbody>\n",
       "</table>\n",
       "</div>"
      ],
      "text/plain": [
       "        rank     waic   p_waic   d_waic       weight       se      dse  \\\n",
       "model_1    0 -266.424  8.54563        0            1  10.0652        0   \n",
       "model_2    1 -342.403   3.2479  75.9787  1.33237e-19  4.43699  9.61186   \n",
       "\n",
       "        warning waic_scale  \n",
       "model_1   False        log  \n",
       "model_2   False        log  "
      ]
     },
     "execution_count": 10,
     "metadata": {},
     "output_type": "execute_result"
    }
   ],
   "source": [
    "waic_df = pm.compare({model_1.name:trace_1,\n",
    "            model_2.name:trace_2}, ic='WAIC')\n",
    "\n",
    "waic_df"
   ]
  },
  {
   "cell_type": "code",
   "execution_count": 11,
   "metadata": {},
   "outputs": [],
   "source": [
    "# MODEL 1 is WAY WAY BETTER"
   ]
  },
  {
   "cell_type": "code",
   "execution_count": null,
   "metadata": {},
   "outputs": [],
   "source": []
  },
  {
   "cell_type": "markdown",
   "metadata": {},
   "source": [
    "## H3"
   ]
  },
  {
   "cell_type": "code",
   "execution_count": 12,
   "metadata": {},
   "outputs": [
    {
     "data": {
      "text/html": [
       "<div>\n",
       "<style scoped>\n",
       "    .dataframe tbody tr th:only-of-type {\n",
       "        vertical-align: middle;\n",
       "    }\n",
       "\n",
       "    .dataframe tbody tr th {\n",
       "        vertical-align: top;\n",
       "    }\n",
       "\n",
       "    .dataframe thead th {\n",
       "        text-align: right;\n",
       "    }\n",
       "</style>\n",
       "<table border=\"1\" class=\"dataframe\">\n",
       "  <thead>\n",
       "    <tr style=\"text-align: right;\">\n",
       "      <th></th>\n",
       "      <th>y</th>\n",
       "      <th>n</th>\n",
       "      <th>P</th>\n",
       "      <th>A</th>\n",
       "      <th>V</th>\n",
       "    </tr>\n",
       "  </thead>\n",
       "  <tbody>\n",
       "    <tr>\n",
       "      <th>0</th>\n",
       "      <td>17</td>\n",
       "      <td>24</td>\n",
       "      <td>L</td>\n",
       "      <td>A</td>\n",
       "      <td>L</td>\n",
       "    </tr>\n",
       "    <tr>\n",
       "      <th>1</th>\n",
       "      <td>29</td>\n",
       "      <td>29</td>\n",
       "      <td>L</td>\n",
       "      <td>A</td>\n",
       "      <td>S</td>\n",
       "    </tr>\n",
       "    <tr>\n",
       "      <th>2</th>\n",
       "      <td>17</td>\n",
       "      <td>27</td>\n",
       "      <td>L</td>\n",
       "      <td>I</td>\n",
       "      <td>L</td>\n",
       "    </tr>\n",
       "    <tr>\n",
       "      <th>3</th>\n",
       "      <td>20</td>\n",
       "      <td>20</td>\n",
       "      <td>L</td>\n",
       "      <td>I</td>\n",
       "      <td>S</td>\n",
       "    </tr>\n",
       "    <tr>\n",
       "      <th>4</th>\n",
       "      <td>1</td>\n",
       "      <td>12</td>\n",
       "      <td>S</td>\n",
       "      <td>A</td>\n",
       "      <td>L</td>\n",
       "    </tr>\n",
       "    <tr>\n",
       "      <th>5</th>\n",
       "      <td>15</td>\n",
       "      <td>16</td>\n",
       "      <td>S</td>\n",
       "      <td>A</td>\n",
       "      <td>S</td>\n",
       "    </tr>\n",
       "    <tr>\n",
       "      <th>6</th>\n",
       "      <td>0</td>\n",
       "      <td>28</td>\n",
       "      <td>S</td>\n",
       "      <td>I</td>\n",
       "      <td>L</td>\n",
       "    </tr>\n",
       "    <tr>\n",
       "      <th>7</th>\n",
       "      <td>1</td>\n",
       "      <td>4</td>\n",
       "      <td>S</td>\n",
       "      <td>I</td>\n",
       "      <td>S</td>\n",
       "    </tr>\n",
       "  </tbody>\n",
       "</table>\n",
       "</div>"
      ],
      "text/plain": [
       "    y   n  P  A  V\n",
       "0  17  24  L  A  L\n",
       "1  29  29  L  A  S\n",
       "2  17  27  L  I  L\n",
       "3  20  20  L  I  S\n",
       "4   1  12  S  A  L\n",
       "5  15  16  S  A  S\n",
       "6   0  28  S  I  L\n",
       "7   1   4  S  I  S"
      ]
     },
     "execution_count": 12,
     "metadata": {},
     "output_type": "execute_result"
    }
   ],
   "source": [
    "eagles = pd.read_csv('eagles.csv', sep=',')\n",
    "eagles"
   ]
  },
  {
   "cell_type": "raw",
   "metadata": {},
   "source": [
    "The eagles data frame has 8 rows and 5 columns.\n",
    "\n",
    "\n",
    "premise is that while one eagle feeds, somtimes another will swoop in and try to steal it.  \n",
    "the feeding eagle is the victim; thief is the pirate\n",
    "\n",
    "\n",
    "y\n",
    "Number of successful attempts.\n",
    "n\n",
    "Total number of attempts.\n",
    "P\n",
    "Size of pirating eagle (L = large, S = small).\n",
    "A\n",
    "Age of pirating eagle (I = immature, A = adult).\n",
    "V\n",
    "Size of victim eagle (L = large, S = small)."
   ]
  },
  {
   "cell_type": "code",
   "execution_count": 13,
   "metadata": {},
   "outputs": [
    {
     "data": {
      "text/html": [
       "<div>\n",
       "<style scoped>\n",
       "    .dataframe tbody tr th:only-of-type {\n",
       "        vertical-align: middle;\n",
       "    }\n",
       "\n",
       "    .dataframe tbody tr th {\n",
       "        vertical-align: top;\n",
       "    }\n",
       "\n",
       "    .dataframe thead th {\n",
       "        text-align: right;\n",
       "    }\n",
       "</style>\n",
       "<table border=\"1\" class=\"dataframe\">\n",
       "  <thead>\n",
       "    <tr style=\"text-align: right;\">\n",
       "      <th></th>\n",
       "      <th>y</th>\n",
       "      <th>n</th>\n",
       "      <th>P</th>\n",
       "      <th>A</th>\n",
       "      <th>V</th>\n",
       "    </tr>\n",
       "  </thead>\n",
       "  <tbody>\n",
       "    <tr>\n",
       "      <th>0</th>\n",
       "      <td>17</td>\n",
       "      <td>24</td>\n",
       "      <td>1</td>\n",
       "      <td>1</td>\n",
       "      <td>1</td>\n",
       "    </tr>\n",
       "    <tr>\n",
       "      <th>1</th>\n",
       "      <td>29</td>\n",
       "      <td>29</td>\n",
       "      <td>1</td>\n",
       "      <td>1</td>\n",
       "      <td>0</td>\n",
       "    </tr>\n",
       "    <tr>\n",
       "      <th>2</th>\n",
       "      <td>17</td>\n",
       "      <td>27</td>\n",
       "      <td>1</td>\n",
       "      <td>0</td>\n",
       "      <td>1</td>\n",
       "    </tr>\n",
       "    <tr>\n",
       "      <th>3</th>\n",
       "      <td>20</td>\n",
       "      <td>20</td>\n",
       "      <td>1</td>\n",
       "      <td>0</td>\n",
       "      <td>0</td>\n",
       "    </tr>\n",
       "    <tr>\n",
       "      <th>4</th>\n",
       "      <td>1</td>\n",
       "      <td>12</td>\n",
       "      <td>0</td>\n",
       "      <td>1</td>\n",
       "      <td>1</td>\n",
       "    </tr>\n",
       "    <tr>\n",
       "      <th>5</th>\n",
       "      <td>15</td>\n",
       "      <td>16</td>\n",
       "      <td>0</td>\n",
       "      <td>1</td>\n",
       "      <td>0</td>\n",
       "    </tr>\n",
       "    <tr>\n",
       "      <th>6</th>\n",
       "      <td>0</td>\n",
       "      <td>28</td>\n",
       "      <td>0</td>\n",
       "      <td>0</td>\n",
       "      <td>1</td>\n",
       "    </tr>\n",
       "    <tr>\n",
       "      <th>7</th>\n",
       "      <td>1</td>\n",
       "      <td>4</td>\n",
       "      <td>0</td>\n",
       "      <td>0</td>\n",
       "      <td>0</td>\n",
       "    </tr>\n",
       "  </tbody>\n",
       "</table>\n",
       "</div>"
      ],
      "text/plain": [
       "    y   n  P  A  V\n",
       "0  17  24  1  1  1\n",
       "1  29  29  1  1  0\n",
       "2  17  27  1  0  1\n",
       "3  20  20  1  0  0\n",
       "4   1  12  0  1  1\n",
       "5  15  16  0  1  0\n",
       "6   0  28  0  0  1\n",
       "7   1   4  0  0  0"
      ]
     },
     "execution_count": 13,
     "metadata": {},
     "output_type": "execute_result"
    }
   ],
   "source": [
    "# do some encoding\n",
    "eagles['P'] = eagles['P'].apply(lambda x: 1 if x == 'L' else 0)\n",
    "eagles['A'] = eagles['A'].apply(lambda x: 1 if x == 'A' else 0)\n",
    "eagles['V'] = eagles['V'].apply(lambda x: 1 if x == 'L' else 0)\n",
    "eagles"
   ]
  },
  {
   "cell_type": "code",
   "execution_count": 14,
   "metadata": {},
   "outputs": [
    {
     "name": "stderr",
     "output_type": "stream",
     "text": [
      "Auto-assigning NUTS sampler...\n",
      "Initializing NUTS using jitter+adapt_diag...\n",
      "Multiprocess sampling (2 chains in 2 jobs)\n",
      "NUTS: [bA, bV, bP, alpha]\n"
     ]
    },
    {
     "data": {
      "text/html": [
       "\n",
       "    <div>\n",
       "        <style>\n",
       "            /* Turns off some styling */\n",
       "            progress {\n",
       "                /* gets rid of default border in Firefox and Opera. */\n",
       "                border: none;\n",
       "                /* Needs to be in here for Safari polyfill so background images work as expected. */\n",
       "                background-size: auto;\n",
       "            }\n",
       "            .progress-bar-interrupted, .progress-bar-interrupted::-webkit-progress-bar {\n",
       "                background: #F44336;\n",
       "            }\n",
       "        </style>\n",
       "      <progress value='4000' class='' max='4000' style='width:300px; height:20px; vertical-align: middle;'></progress>\n",
       "      100.00% [4000/4000 00:07<00:00 Sampling 2 chains, 0 divergences]\n",
       "    </div>\n",
       "    "
      ],
      "text/plain": [
       "<IPython.core.display.HTML object>"
      ]
     },
     "metadata": {},
     "output_type": "display_data"
    },
    {
     "name": "stderr",
     "output_type": "stream",
     "text": [
      "Sampling 2 chains for 1_000 tune and 1_000 draw iterations (2_000 + 2_000 draws total) took 21 seconds.\n"
     ]
    }
   ],
   "source": [
    "# fit an EZ model\n",
    "# now compare to the simple model, with only one alpha\n",
    "with pm.Model() as model_3:\n",
    "    \n",
    "    # priors\n",
    "    alpha = pm.Normal('alpha', 0, 10)\n",
    "    bP = pm.Normal('bP', 0, 5)\n",
    "    bV = pm.Normal('bV', 0, 5)\n",
    "    bA = pm.Normal('bA', 0, 5)\n",
    "\n",
    "    # deterministic\n",
    "    prob = pm.math.sigmoid(alpha + bP*eagles['P'] + bV*eagles['V']+ bA*eagles['A'])\n",
    "    \n",
    "    # likelihood\n",
    "    l_hood = pm.Binomial('l_hood', n=eagles['n'], p=prob, observed=eagles['y'])\n",
    "    \n",
    "    # go time\n",
    "    trace_3 = pm.sample(1000)"
   ]
  },
  {
   "cell_type": "code",
   "execution_count": 20,
   "metadata": {},
   "outputs": [
    {
     "data": {
      "image/png": "[encoded data removed]",
      "text/plain": [
       "<Figure size 600x400 with 1 Axes>"
      ]
     },
     "metadata": {},
     "output_type": "display_data"
    }
   ],
   "source": [
    "# is the quadratic approx OK?\n",
    "plt.figure(figsize=(6,4))\n",
    "\n",
    "for i in ['bA', 'bV', 'bP']:\n",
    "    sns.distplot(trace_3[i], label=i)\n",
    "\n",
    "plt.legend()\n",
    "plt.grid()\n",
    "plt.show() "
   ]
  },
  {
   "cell_type": "code",
   "execution_count": 21,
   "metadata": {},
   "outputs": [],
   "source": [
    "# i'd say they look reasonably normally distributed to me!"
   ]
  },
  {
   "cell_type": "markdown",
   "metadata": {},
   "source": [
    "## B"
   ]
  },
  {
   "cell_type": "code",
   "execution_count": 22,
   "metadata": {},
   "outputs": [],
   "source": [
    "# shiz makes sense too, large pirates are successful w/ small victims"
   ]
  },
  {
   "cell_type": "code",
   "execution_count": 23,
   "metadata": {},
   "outputs": [
    {
     "data": {
      "text/html": [
       "<div>\n",
       "<style scoped>\n",
       "    .dataframe tbody tr th:only-of-type {\n",
       "        vertical-align: middle;\n",
       "    }\n",
       "\n",
       "    .dataframe tbody tr th {\n",
       "        vertical-align: top;\n",
       "    }\n",
       "\n",
       "    .dataframe thead th {\n",
       "        text-align: right;\n",
       "    }\n",
       "</style>\n",
       "<table border=\"1\" class=\"dataframe\">\n",
       "  <thead>\n",
       "    <tr style=\"text-align: right;\">\n",
       "      <th></th>\n",
       "      <th>mean</th>\n",
       "      <th>sd</th>\n",
       "      <th>hdi_3%</th>\n",
       "      <th>hdi_97%</th>\n",
       "      <th>mcse_mean</th>\n",
       "      <th>mcse_sd</th>\n",
       "      <th>ess_mean</th>\n",
       "      <th>ess_sd</th>\n",
       "      <th>ess_bulk</th>\n",
       "      <th>ess_tail</th>\n",
       "      <th>r_hat</th>\n",
       "    </tr>\n",
       "  </thead>\n",
       "  <tbody>\n",
       "    <tr>\n",
       "      <th>alpha</th>\n",
       "      <td>0.695</td>\n",
       "      <td>0.728</td>\n",
       "      <td>-0.643</td>\n",
       "      <td>2.019</td>\n",
       "      <td>0.023</td>\n",
       "      <td>0.017</td>\n",
       "      <td>967.0</td>\n",
       "      <td>905.0</td>\n",
       "      <td>976.0</td>\n",
       "      <td>997.0</td>\n",
       "      <td>1.0</td>\n",
       "    </tr>\n",
       "    <tr>\n",
       "      <th>bP</th>\n",
       "      <td>4.710</td>\n",
       "      <td>1.077</td>\n",
       "      <td>2.735</td>\n",
       "      <td>6.557</td>\n",
       "      <td>0.040</td>\n",
       "      <td>0.031</td>\n",
       "      <td>718.0</td>\n",
       "      <td>620.0</td>\n",
       "      <td>820.0</td>\n",
       "      <td>587.0</td>\n",
       "      <td>1.0</td>\n",
       "    </tr>\n",
       "    <tr>\n",
       "      <th>bV</th>\n",
       "      <td>-5.155</td>\n",
       "      <td>1.140</td>\n",
       "      <td>-7.182</td>\n",
       "      <td>-3.131</td>\n",
       "      <td>0.044</td>\n",
       "      <td>0.033</td>\n",
       "      <td>663.0</td>\n",
       "      <td>603.0</td>\n",
       "      <td>737.0</td>\n",
       "      <td>598.0</td>\n",
       "      <td>1.0</td>\n",
       "    </tr>\n",
       "    <tr>\n",
       "      <th>bA</th>\n",
       "      <td>1.117</td>\n",
       "      <td>0.560</td>\n",
       "      <td>0.093</td>\n",
       "      <td>2.126</td>\n",
       "      <td>0.016</td>\n",
       "      <td>0.012</td>\n",
       "      <td>1173.0</td>\n",
       "      <td>1136.0</td>\n",
       "      <td>1172.0</td>\n",
       "      <td>1246.0</td>\n",
       "      <td>1.0</td>\n",
       "    </tr>\n",
       "  </tbody>\n",
       "</table>\n",
       "</div>"
      ],
      "text/plain": [
       "        mean     sd  hdi_3%  hdi_97%  mcse_mean  mcse_sd  ess_mean  ess_sd  \\\n",
       "alpha  0.695  0.728  -0.643    2.019      0.023    0.017     967.0   905.0   \n",
       "bP     4.710  1.077   2.735    6.557      0.040    0.031     718.0   620.0   \n",
       "bV    -5.155  1.140  -7.182   -3.131      0.044    0.033     663.0   603.0   \n",
       "bA     1.117  0.560   0.093    2.126      0.016    0.012    1173.0  1136.0   \n",
       "\n",
       "       ess_bulk  ess_tail  r_hat  \n",
       "alpha     976.0     997.0    1.0  \n",
       "bP        820.0     587.0    1.0  \n",
       "bV        737.0     598.0    1.0  \n",
       "bA       1172.0    1246.0    1.0  "
      ]
     },
     "execution_count": 23,
     "metadata": {},
     "output_type": "execute_result"
    }
   ],
   "source": [
    "# plot posterior predictions\n",
    "pm.summary(trace_3)"
   ]
  },
  {
   "cell_type": "code",
   "execution_count": 27,
   "metadata": {},
   "outputs": [
    {
     "data": {
      "text/html": [
       "\n",
       "    <div>\n",
       "        <style>\n",
       "            /* Turns off some styling */\n",
       "            progress {\n",
       "                /* gets rid of default border in Firefox and Opera. */\n",
       "                border: none;\n",
       "                /* Needs to be in here for Safari polyfill so background images work as expected. */\n",
       "                background-size: auto;\n",
       "            }\n",
       "            .progress-bar-interrupted, .progress-bar-interrupted::-webkit-progress-bar {\n",
       "                background: #F44336;\n",
       "            }\n",
       "        </style>\n",
       "      <progress value='16' class='' max='16' style='width:300px; height:20px; vertical-align: middle;'></progress>\n",
       "      100.00% [16/16 00:00<00:00 logp = -21.517, ||grad|| = 0.025703]\n",
       "    </div>\n",
       "    "
      ],
      "text/plain": [
       "<IPython.core.display.HTML object>"
      ]
     },
     "metadata": {},
     "output_type": "display_data"
    },
    {
     "name": "stdout",
     "output_type": "stream",
     "text": [
      "\n"
     ]
    },
    {
     "data": {
      "text/plain": [
       "{'alpha': array(0.59154318),\n",
       " 'bP': array(4.24182384),\n",
       " 'bV': array(-4.59260843),\n",
       " 'bA': array(1.08141052)}"
      ]
     },
     "execution_count": 27,
     "metadata": {},
     "output_type": "execute_result"
    }
   ],
   "source": [
    "# plot proportions; get bounds too\n",
    "map_estimate = pm.find_MAP(model=model_3)\n",
    "map_estimate"
   ]
  },
  {
   "cell_type": "code",
   "execution_count": 53,
   "metadata": {},
   "outputs": [
    {
     "data": {
      "text/html": [
       "<div>\n",
       "<style scoped>\n",
       "    .dataframe tbody tr th:only-of-type {\n",
       "        vertical-align: middle;\n",
       "    }\n",
       "\n",
       "    .dataframe tbody tr th {\n",
       "        vertical-align: top;\n",
       "    }\n",
       "\n",
       "    .dataframe thead th {\n",
       "        text-align: right;\n",
       "    }\n",
       "</style>\n",
       "<table border=\"1\" class=\"dataframe\">\n",
       "  <thead>\n",
       "    <tr style=\"text-align: right;\">\n",
       "      <th></th>\n",
       "      <th>y</th>\n",
       "      <th>n</th>\n",
       "      <th>P</th>\n",
       "      <th>A</th>\n",
       "      <th>V</th>\n",
       "      <th>predicted_prob</th>\n",
       "      <th>calc_prob</th>\n",
       "    </tr>\n",
       "  </thead>\n",
       "  <tbody>\n",
       "    <tr>\n",
       "      <th>0</th>\n",
       "      <td>17</td>\n",
       "      <td>24</td>\n",
       "      <td>1</td>\n",
       "      <td>1</td>\n",
       "      <td>1</td>\n",
       "      <td>0.789542</td>\n",
       "      <td>0.708333</td>\n",
       "    </tr>\n",
       "    <tr>\n",
       "      <th>1</th>\n",
       "      <td>29</td>\n",
       "      <td>29</td>\n",
       "      <td>1</td>\n",
       "      <td>1</td>\n",
       "      <td>0</td>\n",
       "      <td>0.997308</td>\n",
       "      <td>1.000000</td>\n",
       "    </tr>\n",
       "    <tr>\n",
       "      <th>2</th>\n",
       "      <td>17</td>\n",
       "      <td>27</td>\n",
       "      <td>1</td>\n",
       "      <td>0</td>\n",
       "      <td>1</td>\n",
       "      <td>0.559901</td>\n",
       "      <td>0.629630</td>\n",
       "    </tr>\n",
       "    <tr>\n",
       "      <th>3</th>\n",
       "      <td>20</td>\n",
       "      <td>20</td>\n",
       "      <td>1</td>\n",
       "      <td>0</td>\n",
       "      <td>0</td>\n",
       "      <td>0.992103</td>\n",
       "      <td>1.000000</td>\n",
       "    </tr>\n",
       "    <tr>\n",
       "      <th>4</th>\n",
       "      <td>1</td>\n",
       "      <td>12</td>\n",
       "      <td>0</td>\n",
       "      <td>1</td>\n",
       "      <td>1</td>\n",
       "      <td>0.051190</td>\n",
       "      <td>0.083333</td>\n",
       "    </tr>\n",
       "    <tr>\n",
       "      <th>5</th>\n",
       "      <td>15</td>\n",
       "      <td>16</td>\n",
       "      <td>0</td>\n",
       "      <td>1</td>\n",
       "      <td>0</td>\n",
       "      <td>0.841969</td>\n",
       "      <td>0.937500</td>\n",
       "    </tr>\n",
       "    <tr>\n",
       "      <th>6</th>\n",
       "      <td>0</td>\n",
       "      <td>28</td>\n",
       "      <td>0</td>\n",
       "      <td>0</td>\n",
       "      <td>1</td>\n",
       "      <td>0.017967</td>\n",
       "      <td>0.000000</td>\n",
       "    </tr>\n",
       "    <tr>\n",
       "      <th>7</th>\n",
       "      <td>1</td>\n",
       "      <td>4</td>\n",
       "      <td>0</td>\n",
       "      <td>0</td>\n",
       "      <td>0</td>\n",
       "      <td>0.643719</td>\n",
       "      <td>0.250000</td>\n",
       "    </tr>\n",
       "  </tbody>\n",
       "</table>\n",
       "</div>"
      ],
      "text/plain": [
       "    y   n  P  A  V  predicted_prob  calc_prob\n",
       "0  17  24  1  1  1        0.789542   0.708333\n",
       "1  29  29  1  1  0        0.997308   1.000000\n",
       "2  17  27  1  0  1        0.559901   0.629630\n",
       "3  20  20  1  0  0        0.992103   1.000000\n",
       "4   1  12  0  1  1        0.051190   0.083333\n",
       "5  15  16  0  1  0        0.841969   0.937500\n",
       "6   0  28  0  0  1        0.017967   0.000000\n",
       "7   1   4  0  0  0        0.643719   0.250000"
      ]
     },
     "execution_count": 53,
     "metadata": {},
     "output_type": "execute_result"
    }
   ],
   "source": [
    "log_odds = map_estimate['alpha']+ map_estimate['bP']*eagles['P'] + map_estimate['bV']*eagles['V'] + map_estimate['bA']*eagles['A']\n",
    "probs = map(lambda x: np.exp(x) / (1 + np.exp(x)), log_odds)\n",
    "eagles['predicted_prob'] = list(probs)\n",
    "eagles['calc_prob'] = eagles['y'] / eagles['n']\n",
    "eagles"
   ]
  },
  {
   "cell_type": "code",
   "execution_count": 87,
   "metadata": {},
   "outputs": [],
   "source": [
    "# get interval; need to use the samples for this\n",
    "# get the CI\n",
    "ci = 0.89\n",
    "lower = []; upper = []\n",
    "for P, A, V in zip(eagles['P'], eagles['A'], eagles['V']):\n",
    "    sample_ = np.array(trace_3['alpha'] + trace_3['bP']*P + trace_3['bV']*V + trace_3['bA']*A)\n",
    "    probs_ = np.exp(sample_) / (1 + np.exp(sample_))\n",
    "    lower_, upper_ = pm.stats.hpd(probs_, alpha=ci)\n",
    "    lower.append(lower_)\n",
    "    upper.append(upper_)\n",
    "    \n",
    "eagles['upper'] = upper\n",
    "eagles['lower'] = lower"
   ]
  },
  {
   "cell_type": "code",
   "execution_count": 88,
   "metadata": {},
   "outputs": [
    {
     "data": {
      "text/html": [
       "<div>\n",
       "<style scoped>\n",
       "    .dataframe tbody tr th:only-of-type {\n",
       "        vertical-align: middle;\n",
       "    }\n",
       "\n",
       "    .dataframe tbody tr th {\n",
       "        vertical-align: top;\n",
       "    }\n",
       "\n",
       "    .dataframe thead th {\n",
       "        text-align: right;\n",
       "    }\n",
       "</style>\n",
       "<table border=\"1\" class=\"dataframe\">\n",
       "  <thead>\n",
       "    <tr style=\"text-align: right;\">\n",
       "      <th></th>\n",
       "      <th>y</th>\n",
       "      <th>n</th>\n",
       "      <th>P</th>\n",
       "      <th>A</th>\n",
       "      <th>V</th>\n",
       "      <th>predicted_prob</th>\n",
       "      <th>calc_prob</th>\n",
       "      <th>upper</th>\n",
       "      <th>lower</th>\n",
       "    </tr>\n",
       "  </thead>\n",
       "  <tbody>\n",
       "    <tr>\n",
       "      <th>0</th>\n",
       "      <td>17</td>\n",
       "      <td>24</td>\n",
       "      <td>1</td>\n",
       "      <td>1</td>\n",
       "      <td>1</td>\n",
       "      <td>0.789542</td>\n",
       "      <td>0.708333</td>\n",
       "      <td>0.924200</td>\n",
       "      <td>0.653529</td>\n",
       "    </tr>\n",
       "    <tr>\n",
       "      <th>1</th>\n",
       "      <td>29</td>\n",
       "      <td>29</td>\n",
       "      <td>1</td>\n",
       "      <td>1</td>\n",
       "      <td>0</td>\n",
       "      <td>0.997308</td>\n",
       "      <td>1.000000</td>\n",
       "      <td>0.999993</td>\n",
       "      <td>0.992196</td>\n",
       "    </tr>\n",
       "    <tr>\n",
       "      <th>2</th>\n",
       "      <td>17</td>\n",
       "      <td>27</td>\n",
       "      <td>1</td>\n",
       "      <td>0</td>\n",
       "      <td>1</td>\n",
       "      <td>0.559901</td>\n",
       "      <td>0.629630</td>\n",
       "      <td>0.724935</td>\n",
       "      <td>0.392939</td>\n",
       "    </tr>\n",
       "    <tr>\n",
       "      <th>3</th>\n",
       "      <td>20</td>\n",
       "      <td>20</td>\n",
       "      <td>1</td>\n",
       "      <td>0</td>\n",
       "      <td>0</td>\n",
       "      <td>0.992103</td>\n",
       "      <td>1.000000</td>\n",
       "      <td>0.999969</td>\n",
       "      <td>0.977532</td>\n",
       "    </tr>\n",
       "    <tr>\n",
       "      <th>4</th>\n",
       "      <td>1</td>\n",
       "      <td>12</td>\n",
       "      <td>0</td>\n",
       "      <td>1</td>\n",
       "      <td>1</td>\n",
       "      <td>0.051190</td>\n",
       "      <td>0.083333</td>\n",
       "      <td>0.131718</td>\n",
       "      <td>0.000192</td>\n",
       "    </tr>\n",
       "    <tr>\n",
       "      <th>5</th>\n",
       "      <td>15</td>\n",
       "      <td>16</td>\n",
       "      <td>0</td>\n",
       "      <td>1</td>\n",
       "      <td>0</td>\n",
       "      <td>0.841969</td>\n",
       "      <td>0.937500</td>\n",
       "      <td>0.970110</td>\n",
       "      <td>0.693579</td>\n",
       "    </tr>\n",
       "    <tr>\n",
       "      <th>6</th>\n",
       "      <td>0</td>\n",
       "      <td>28</td>\n",
       "      <td>0</td>\n",
       "      <td>0</td>\n",
       "      <td>1</td>\n",
       "      <td>0.017967</td>\n",
       "      <td>0.000000</td>\n",
       "      <td>0.049283</td>\n",
       "      <td>0.000080</td>\n",
       "    </tr>\n",
       "    <tr>\n",
       "      <th>7</th>\n",
       "      <td>1</td>\n",
       "      <td>4</td>\n",
       "      <td>0</td>\n",
       "      <td>0</td>\n",
       "      <td>0</td>\n",
       "      <td>0.643719</td>\n",
       "      <td>0.250000</td>\n",
       "      <td>0.907820</td>\n",
       "      <td>0.381555</td>\n",
       "    </tr>\n",
       "  </tbody>\n",
       "</table>\n",
       "</div>"
      ],
      "text/plain": [
       "    y   n  P  A  V  predicted_prob  calc_prob     upper     lower\n",
       "0  17  24  1  1  1        0.789542   0.708333  0.924200  0.653529\n",
       "1  29  29  1  1  0        0.997308   1.000000  0.999993  0.992196\n",
       "2  17  27  1  0  1        0.559901   0.629630  0.724935  0.392939\n",
       "3  20  20  1  0  0        0.992103   1.000000  0.999969  0.977532\n",
       "4   1  12  0  1  1        0.051190   0.083333  0.131718  0.000192\n",
       "5  15  16  0  1  0        0.841969   0.937500  0.970110  0.693579\n",
       "6   0  28  0  0  1        0.017967   0.000000  0.049283  0.000080\n",
       "7   1   4  0  0  0        0.643719   0.250000  0.907820  0.381555"
      ]
     },
     "execution_count": 88,
     "metadata": {},
     "output_type": "execute_result"
    }
   ],
   "source": [
    "eagles"
   ]
  },
  {
   "cell_type": "code",
   "execution_count": null,
   "metadata": {},
   "outputs": [],
   "source": [
    "# to get counts, multiple by n"
   ]
  },
  {
   "cell_type": "markdown",
   "metadata": {},
   "source": [
    "## C"
   ]
  },
  {
   "cell_type": "code",
   "execution_count": 92,
   "metadata": {},
   "outputs": [
    {
     "name": "stderr",
     "output_type": "stream",
     "text": [
      "Auto-assigning NUTS sampler...\n",
      "Initializing NUTS using jitter+adapt_diag...\n",
      "Multiprocess sampling (2 chains in 2 jobs)\n",
      "NUTS: [bAP, bA, bV, bP, alpha]\n"
     ]
    },
    {
     "data": {
      "text/html": [
       "\n",
       "    <div>\n",
       "        <style>\n",
       "            /* Turns off some styling */\n",
       "            progress {\n",
       "                /* gets rid of default border in Firefox and Opera. */\n",
       "                border: none;\n",
       "                /* Needs to be in here for Safari polyfill so background images work as expected. */\n",
       "                background-size: auto;\n",
       "            }\n",
       "            .progress-bar-interrupted, .progress-bar-interrupted::-webkit-progress-bar {\n",
       "                background: #F44336;\n",
       "            }\n",
       "        </style>\n",
       "      <progress value='4000' class='' max='4000' style='width:300px; height:20px; vertical-align: middle;'></progress>\n",
       "      100.00% [4000/4000 00:10<00:00 Sampling 2 chains, 0 divergences]\n",
       "    </div>\n",
       "    "
      ],
      "text/plain": [
       "<IPython.core.display.HTML object>"
      ]
     },
     "metadata": {},
     "output_type": "display_data"
    },
    {
     "name": "stderr",
     "output_type": "stream",
     "text": [
      "Sampling 2 chains for 1_000 tune and 1_000 draw iterations (2_000 + 2_000 draws total) took 26 seconds.\n",
      "The number of effective samples is smaller than 25% for some parameters.\n"
     ]
    }
   ],
   "source": [
    "# add interaction between age and size for pirate\n",
    "# fit an EZ model\n",
    "# now compare to the simple model, with only one alpha\n",
    "with pm.Model() as model_4:\n",
    "    \n",
    "    # priors\n",
    "    alpha = pm.Normal('alpha', 0, 10)\n",
    "    bP = pm.Normal('bP', 0, 5)\n",
    "    bV = pm.Normal('bV', 0, 5)\n",
    "    bA = pm.Normal('bA', 0, 5)\n",
    "    bAP = pm.Normal('bAP', 0, 5)\n",
    "\n",
    "    # deterministic\n",
    "    prob = pm.math.sigmoid(alpha + bP*eagles['P'] + bV*eagles['V']+ bA*eagles['A'] + bAP*eagles['A']*eagles['P'])\n",
    "    \n",
    "    # likelihood\n",
    "    l_hood = pm.Binomial('l_hood', n=eagles['n'], p=prob, observed=eagles['y'])\n",
    "    \n",
    "    # go time\n",
    "    trace_4 = pm.sample(1000)"
   ]
  },
  {
   "cell_type": "code",
   "execution_count": 95,
   "metadata": {},
   "outputs": [
    {
     "data": {
      "text/html": [
       "<div>\n",
       "<style scoped>\n",
       "    .dataframe tbody tr th:only-of-type {\n",
       "        vertical-align: middle;\n",
       "    }\n",
       "\n",
       "    .dataframe tbody tr th {\n",
       "        vertical-align: top;\n",
       "    }\n",
       "\n",
       "    .dataframe thead th {\n",
       "        text-align: right;\n",
       "    }\n",
       "</style>\n",
       "<table border=\"1\" class=\"dataframe\">\n",
       "  <thead>\n",
       "    <tr style=\"text-align: right;\">\n",
       "      <th></th>\n",
       "      <th>rank</th>\n",
       "      <th>waic</th>\n",
       "      <th>p_waic</th>\n",
       "      <th>d_waic</th>\n",
       "      <th>weight</th>\n",
       "      <th>se</th>\n",
       "      <th>dse</th>\n",
       "      <th>warning</th>\n",
       "      <th>waic_scale</th>\n",
       "    </tr>\n",
       "  </thead>\n",
       "  <tbody>\n",
       "    <tr>\n",
       "      <th>model_4</th>\n",
       "      <td>0</td>\n",
       "      <td>-10.2241</td>\n",
       "      <td>1.97545</td>\n",
       "      <td>0</td>\n",
       "      <td>0.988735</td>\n",
       "      <td>3.79769</td>\n",
       "      <td>0</td>\n",
       "      <td>True</td>\n",
       "      <td>log</td>\n",
       "    </tr>\n",
       "    <tr>\n",
       "      <th>model_3</th>\n",
       "      <td>1</td>\n",
       "      <td>-15.7361</td>\n",
       "      <td>5.57253</td>\n",
       "      <td>5.51203</td>\n",
       "      <td>0.0112647</td>\n",
       "      <td>2.70854</td>\n",
       "      <td>1.80281</td>\n",
       "      <td>True</td>\n",
       "      <td>log</td>\n",
       "    </tr>\n",
       "  </tbody>\n",
       "</table>\n",
       "</div>"
      ],
      "text/plain": [
       "        rank     waic   p_waic   d_waic     weight       se      dse warning  \\\n",
       "model_4    0 -10.2241  1.97545        0   0.988735  3.79769        0    True   \n",
       "model_3    1 -15.7361  5.57253  5.51203  0.0112647  2.70854  1.80281    True   \n",
       "\n",
       "        waic_scale  \n",
       "model_4        log  \n",
       "model_3        log  "
      ]
     },
     "execution_count": 95,
     "metadata": {},
     "output_type": "execute_result"
    }
   ],
   "source": [
    "model_3.name = 'model_3'\n",
    "model_4.name = 'model_4'\n",
    "\n",
    "waic_df = pm.compare({model_3.name:trace_3,\n",
    "            model_4.name:trace_4}, ic='WAIC')\n",
    "\n",
    "waic_df"
   ]
  },
  {
   "cell_type": "code",
   "execution_count": 96,
   "metadata": {},
   "outputs": [],
   "source": [
    "# INTERACTION MAKES IT WAY MORE BETTER"
   ]
  },
  {
   "cell_type": "code",
   "execution_count": null,
   "metadata": {},
   "outputs": [],
   "source": []
  },
  {
   "cell_type": "markdown",
   "metadata": {},
   "source": [
    "# H4"
   ]
  },
  {
   "cell_type": "code",
   "execution_count": 102,
   "metadata": {},
   "outputs": [
    {
     "data": {
      "text/html": [
       "<div>\n",
       "<style scoped>\n",
       "    .dataframe tbody tr th:only-of-type {\n",
       "        vertical-align: middle;\n",
       "    }\n",
       "\n",
       "    .dataframe tbody tr th {\n",
       "        vertical-align: top;\n",
       "    }\n",
       "\n",
       "    .dataframe thead th {\n",
       "        text-align: right;\n",
       "    }\n",
       "</style>\n",
       "<table border=\"1\" class=\"dataframe\">\n",
       "  <thead>\n",
       "    <tr style=\"text-align: right;\">\n",
       "      <th></th>\n",
       "      <th>SITE</th>\n",
       "      <th>SALAMAN</th>\n",
       "      <th>PCTCOVER</th>\n",
       "      <th>FORESTAGE</th>\n",
       "    </tr>\n",
       "  </thead>\n",
       "  <tbody>\n",
       "    <tr>\n",
       "      <th>0</th>\n",
       "      <td>1</td>\n",
       "      <td>13</td>\n",
       "      <td>85</td>\n",
       "      <td>316</td>\n",
       "    </tr>\n",
       "    <tr>\n",
       "      <th>1</th>\n",
       "      <td>2</td>\n",
       "      <td>11</td>\n",
       "      <td>86</td>\n",
       "      <td>88</td>\n",
       "    </tr>\n",
       "    <tr>\n",
       "      <th>2</th>\n",
       "      <td>3</td>\n",
       "      <td>11</td>\n",
       "      <td>90</td>\n",
       "      <td>548</td>\n",
       "    </tr>\n",
       "    <tr>\n",
       "      <th>3</th>\n",
       "      <td>4</td>\n",
       "      <td>9</td>\n",
       "      <td>88</td>\n",
       "      <td>64</td>\n",
       "    </tr>\n",
       "    <tr>\n",
       "      <th>4</th>\n",
       "      <td>5</td>\n",
       "      <td>8</td>\n",
       "      <td>89</td>\n",
       "      <td>43</td>\n",
       "    </tr>\n",
       "  </tbody>\n",
       "</table>\n",
       "</div>"
      ],
      "text/plain": [
       "   SITE  SALAMAN  PCTCOVER  FORESTAGE\n",
       "0     1       13        85        316\n",
       "1     2       11        86         88\n",
       "2     3       11        90        548\n",
       "3     4        9        88         64\n",
       "4     5        8        89         43"
      ]
     },
     "execution_count": 102,
     "metadata": {},
     "output_type": "execute_result"
    }
   ],
   "source": [
    "# poisson regression to salamander data\n",
    "sals = pd.read_csv('sals.txt', sep=';')\n",
    "sals.head()"
   ]
  },
  {
   "cell_type": "code",
   "execution_count": 103,
   "metadata": {},
   "outputs": [],
   "source": [
    "# scale the data\n",
    "sals['PCTCOVER'] = (sals['PCTCOVER'] - sals['PCTCOVER'].mean()) / sals['PCTCOVER'].std()\n",
    "sals['FORESTAGE'] = (sals['FORESTAGE'] - sals['FORESTAGE'].mean()) / sals['FORESTAGE'].std()\n"
   ]
  },
  {
   "cell_type": "code",
   "execution_count": 106,
   "metadata": {},
   "outputs": [
    {
     "name": "stderr",
     "output_type": "stream",
     "text": [
      "Auto-assigning NUTS sampler...\n",
      "Initializing NUTS using jitter+adapt_diag...\n",
      "Multiprocess sampling (2 chains in 2 jobs)\n",
      "NUTS: [bF, bP, alpha]\n"
     ]
    },
    {
     "data": {
      "text/html": [
       "\n",
       "    <div>\n",
       "        <style>\n",
       "            /* Turns off some styling */\n",
       "            progress {\n",
       "                /* gets rid of default border in Firefox and Opera. */\n",
       "                border: none;\n",
       "                /* Needs to be in here for Safari polyfill so background images work as expected. */\n",
       "                background-size: auto;\n",
       "            }\n",
       "            .progress-bar-interrupted, .progress-bar-interrupted::-webkit-progress-bar {\n",
       "                background: #F44336;\n",
       "            }\n",
       "        </style>\n",
       "      <progress value='4000' class='' max='4000' style='width:300px; height:20px; vertical-align: middle;'></progress>\n",
       "      100.00% [4000/4000 00:09<00:00 Sampling 2 chains, 0 divergences]\n",
       "    </div>\n",
       "    "
      ],
      "text/plain": [
       "<IPython.core.display.HTML object>"
      ]
     },
     "metadata": {},
     "output_type": "display_data"
    },
    {
     "name": "stderr",
     "output_type": "stream",
     "text": [
      "Sampling 2 chains for 1_000 tune and 1_000 draw iterations (2_000 + 2_000 draws total) took 26 seconds.\n"
     ]
    }
   ],
   "source": [
    "# now fit poission regression\n",
    "with pm.Model() as model_5:\n",
    "    \n",
    "    # priors\n",
    "    alpha = pm.Normal('alpha', 0, 10)\n",
    "    bP = pm.Normal('bP', 0, 5)\n",
    "    bF = pm.Normal('bF', 0, 5)\n",
    "\n",
    "    # deterministic; note the diferent link function\n",
    "    lambda_ = pm.math.exp(alpha + bP*sals['PCTCOVER'] + bF*sals['FORESTAGE'])\n",
    "    \n",
    "    # likelihood\n",
    "    l_hood = pm.Poisson('l_hood', mu=lambda_, observed=sals['SALAMAN'])\n",
    "    \n",
    "    # go time\n",
    "    trace_4 = pm.sample(1000)"
   ]
  },
  {
   "cell_type": "code",
   "execution_count": 107,
   "metadata": {},
   "outputs": [
    {
     "data": {
      "text/html": [
       "<div>\n",
       "<style scoped>\n",
       "    .dataframe tbody tr th:only-of-type {\n",
       "        vertical-align: middle;\n",
       "    }\n",
       "\n",
       "    .dataframe tbody tr th {\n",
       "        vertical-align: top;\n",
       "    }\n",
       "\n",
       "    .dataframe thead th {\n",
       "        text-align: right;\n",
       "    }\n",
       "</style>\n",
       "<table border=\"1\" class=\"dataframe\">\n",
       "  <thead>\n",
       "    <tr style=\"text-align: right;\">\n",
       "      <th></th>\n",
       "      <th>mean</th>\n",
       "      <th>sd</th>\n",
       "      <th>hdi_3%</th>\n",
       "      <th>hdi_97%</th>\n",
       "      <th>mcse_mean</th>\n",
       "      <th>mcse_sd</th>\n",
       "      <th>ess_mean</th>\n",
       "      <th>ess_sd</th>\n",
       "      <th>ess_bulk</th>\n",
       "      <th>ess_tail</th>\n",
       "      <th>r_hat</th>\n",
       "    </tr>\n",
       "  </thead>\n",
       "  <tbody>\n",
       "    <tr>\n",
       "      <th>alpha</th>\n",
       "      <td>0.398</td>\n",
       "      <td>0.166</td>\n",
       "      <td>0.093</td>\n",
       "      <td>0.713</td>\n",
       "      <td>0.005</td>\n",
       "      <td>0.004</td>\n",
       "      <td>929.0</td>\n",
       "      <td>929.0</td>\n",
       "      <td>967.0</td>\n",
       "      <td>871.0</td>\n",
       "      <td>1.0</td>\n",
       "    </tr>\n",
       "    <tr>\n",
       "      <th>bP</th>\n",
       "      <td>1.190</td>\n",
       "      <td>0.213</td>\n",
       "      <td>0.805</td>\n",
       "      <td>1.598</td>\n",
       "      <td>0.007</td>\n",
       "      <td>0.005</td>\n",
       "      <td>832.0</td>\n",
       "      <td>811.0</td>\n",
       "      <td>837.0</td>\n",
       "      <td>979.0</td>\n",
       "      <td>1.0</td>\n",
       "    </tr>\n",
       "    <tr>\n",
       "      <th>bF</th>\n",
       "      <td>-0.005</td>\n",
       "      <td>0.100</td>\n",
       "      <td>-0.176</td>\n",
       "      <td>0.194</td>\n",
       "      <td>0.003</td>\n",
       "      <td>0.002</td>\n",
       "      <td>1178.0</td>\n",
       "      <td>894.0</td>\n",
       "      <td>1179.0</td>\n",
       "      <td>1067.0</td>\n",
       "      <td>1.0</td>\n",
       "    </tr>\n",
       "  </tbody>\n",
       "</table>\n",
       "</div>"
      ],
      "text/plain": [
       "        mean     sd  hdi_3%  hdi_97%  mcse_mean  mcse_sd  ess_mean  ess_sd  \\\n",
       "alpha  0.398  0.166   0.093    0.713      0.005    0.004     929.0   929.0   \n",
       "bP     1.190  0.213   0.805    1.598      0.007    0.005     832.0   811.0   \n",
       "bF    -0.005  0.100  -0.176    0.194      0.003    0.002    1178.0   894.0   \n",
       "\n",
       "       ess_bulk  ess_tail  r_hat  \n",
       "alpha     967.0     871.0    1.0  \n",
       "bP        837.0     979.0    1.0  \n",
       "bF       1179.0    1067.0    1.0  "
      ]
     },
     "execution_count": 107,
     "metadata": {},
     "output_type": "execute_result"
    }
   ],
   "source": [
    "pm.summary(trace_4)"
   ]
  },
  {
   "cell_type": "code",
   "execution_count": null,
   "metadata": {},
   "outputs": [],
   "source": []
  },
  {
   "cell_type": "code",
   "execution_count": null,
   "metadata": {},
   "outputs": [],
   "source": []
  }
 ],
 "metadata": {
  "kernelspec": {
   "display_name": "Python 3",
   "language": "python",
   "name": "python3"
  },
  "language_info": {
   "codemirror_mode": {
    "name": "ipython",
    "version": 3
   },
   "file_extension": ".py",
   "mimetype": "text/x-python",
   "name": "python",
   "nbconvert_exporter": "python",
   "pygments_lexer": "ipython3",
   "version": "3.8.3"
  }
 },
 "nbformat": 4,
 "nbformat_minor": 4
}
