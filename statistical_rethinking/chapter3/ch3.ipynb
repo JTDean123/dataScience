{
 "cells": [
  {
   "cell_type": "markdown",
   "metadata": {},
   "source": [
    "# chapter3"
   ]
  },
  {
   "cell_type": "code",
   "execution_count": 36,
   "metadata": {},
   "outputs": [],
   "source": [
    "import numpy as np\n",
    "import random\n",
    "import pandas as pd\n",
    "import scipy.stats\n",
    "\n",
    "import matplotlib as plt\n",
    "import matplotlib.pyplot as plt\n",
    "plt.rcdefaults()\n",
    "import matplotlib as mpl\n",
    "mpl.rc(\"figure\", facecolor=\"white\")\n",
    "plt.rc('axes', axisbelow=True)"
   ]
  },
  {
   "cell_type": "code",
   "execution_count": null,
   "metadata": {},
   "outputs": [],
   "source": []
  },
  {
   "cell_type": "markdown",
   "metadata": {},
   "source": [
    "# setup"
   ]
  },
  {
   "cell_type": "code",
   "execution_count": 43,
   "metadata": {},
   "outputs": [],
   "source": [
    "# we want to sample from the posterior distribution a zillion times"
   ]
  },
  {
   "cell_type": "code",
   "execution_count": 85,
   "metadata": {},
   "outputs": [
    {
     "data": {
      "image/png": "[encoded data removed]",
      "text/plain": [
       "<Figure size 432x288 with 1 Axes>"
      ]
     },
     "metadata": {
      "needs_background": "light"
     },
     "output_type": "display_data"
    }
   ],
   "source": [
    "prob_grid = np.arange(0, 1+1e-5, 1/1000)\n",
    "prior = [1]*prob_grid.shape[0]\n",
    "likelihood = scipy.stats.binom.pmf(6 , 9, prob_grid)\n",
    "posterior = likelihood*prior\n",
    "poster_dist = posterior / posterior.sum()\n",
    "\n",
    "plt.figure(figsize=(6,4))\n",
    "plt.plot(prob_grid, poster_dist)\n",
    "plt.xlabel('prob_success')\n",
    "plt.ylabel('probability')\n",
    "plt.grid()\n",
    "plt.show()"
   ]
  },
  {
   "cell_type": "markdown",
   "metadata": {},
   "source": [
    "# 3E1"
   ]
  },
  {
   "cell_type": "code",
   "execution_count": 99,
   "metadata": {},
   "outputs": [
    {
     "data": {
      "text/plain": [
       "0.0012"
      ]
     },
     "execution_count": 99,
     "metadata": {},
     "output_type": "execute_result"
    }
   ],
   "source": [
    "# how much of the posterior prob < 0.2\n",
    "num = 10000\n",
    "\n",
    "samples = np.random.choice(prob_grid, size=num, p=poster_dist)\n",
    "samples[samples < 0.2].shape[0]/num"
   ]
  },
  {
   "cell_type": "code",
   "execution_count": 100,
   "metadata": {},
   "outputs": [
    {
     "data": {
      "text/plain": [
       "array([0.758, 0.568, 0.489, ..., 0.713, 0.587, 0.709])"
      ]
     },
     "execution_count": 100,
     "metadata": {},
     "output_type": "execute_result"
    }
   ],
   "source": [
    "samples"
   ]
  },
  {
   "cell_type": "markdown",
   "metadata": {},
   "source": [
    "# 3E2"
   ]
  },
  {
   "cell_type": "code",
   "execution_count": 101,
   "metadata": {},
   "outputs": [
    {
     "data": {
      "text/plain": [
       "0.1201"
      ]
     },
     "execution_count": 101,
     "metadata": {},
     "output_type": "execute_result"
    }
   ],
   "source": [
    "# how much of posterior prob lies above 0.8\n",
    "samples[samples > 0.8].shape[0]/num"
   ]
  },
  {
   "cell_type": "markdown",
   "metadata": {},
   "source": [
    "# 3E3"
   ]
  },
  {
   "cell_type": "code",
   "execution_count": 102,
   "metadata": {},
   "outputs": [
    {
     "data": {
      "text/plain": [
       "0.8775"
      ]
     },
     "execution_count": 102,
     "metadata": {},
     "output_type": "execute_result"
    }
   ],
   "source": [
    "# how much > 0.2 and < 0.8\n",
    "samples[ (samples < 0.8) & (samples > 0.2) ].shape[0]/num"
   ]
  },
  {
   "cell_type": "markdown",
   "metadata": {},
   "source": [
    "# 3E4"
   ]
  },
  {
   "cell_type": "code",
   "execution_count": 105,
   "metadata": {},
   "outputs": [
    {
     "name": "stdout",
     "output_type": "stream",
     "text": [
      "0.516\n"
     ]
    }
   ],
   "source": [
    "# 20% of the posterior prob lies below which value of p?\n",
    "sum_ = 0\n",
    "for i, j in zip(prob_grid, poster_dist):\n",
    "    sum_ += j\n",
    "    if sum_ < 0.2:\n",
    "        continue\n",
    "    else:\n",
    "        print(i)\n",
    "        break"
   ]
  },
  {
   "cell_type": "markdown",
   "metadata": {},
   "source": [
    "# 3E5"
   ]
  },
  {
   "cell_type": "code",
   "execution_count": 108,
   "metadata": {},
   "outputs": [
    {
     "name": "stdout",
     "output_type": "stream",
     "text": [
      "0.761\n"
     ]
    }
   ],
   "source": [
    "# 20% of the posterior prob lies above which value of p?\n",
    "sum_ = 0\n",
    "for i, j in zip(prob_grid, poster_dist):\n",
    "    sum_ += j\n",
    "    if sum_ < 0.8:\n",
    "        continue\n",
    "    else:\n",
    "        print(i)\n",
    "        break"
   ]
  },
  {
   "cell_type": "markdown",
   "metadata": {},
   "source": [
    "# 3E6"
   ]
  },
  {
   "cell_type": "code",
   "execution_count": 226,
   "metadata": {
    "scrolled": true
   },
   "outputs": [],
   "source": [
    "starts = []; ends = []\n",
    "for index, value in enumerate(poster_dist[:-1]):    \n",
    "    poster_ = poster_dist[index:]\n",
    "    \n",
    "    sums_ = 0\n",
    "    for i in poster_:\n",
    "        if i == poster_[-1] and sums_ < 0.66:\n",
    "            ends.append('none')\n",
    "            break\n",
    "            \n",
    "        elif sums_ < 0.66:\n",
    "            sums_ += i\n",
    "            continue\n",
    "\n",
    "        else:\n",
    "            ends.append(i)\n",
    "            break\n",
    "            \n",
    "            \n",
    "    "
   ]
  },
  {
   "cell_type": "code",
   "execution_count": 227,
   "metadata": {},
   "outputs": [
    {
     "data": {
      "text/plain": [
       "(1001,)"
      ]
     },
     "execution_count": 227,
     "metadata": {},
     "output_type": "execute_result"
    }
   ],
   "source": [
    "poster_dist.shape"
   ]
  },
  {
   "cell_type": "code",
   "execution_count": 228,
   "metadata": {},
   "outputs": [],
   "source": [
    "starts_ends['interval'] = starts_ends['ends'] - starts_ends['starts']"
   ]
  },
  {
   "cell_type": "code",
   "execution_count": 229,
   "metadata": {},
   "outputs": [
    {
     "data": {
      "text/html": [
       "<div>\n",
       "<style scoped>\n",
       "    .dataframe tbody tr th:only-of-type {\n",
       "        vertical-align: middle;\n",
       "    }\n",
       "\n",
       "    .dataframe tbody tr th {\n",
       "        vertical-align: top;\n",
       "    }\n",
       "\n",
       "    .dataframe thead th {\n",
       "        text-align: right;\n",
       "    }\n",
       "</style>\n",
       "<table border=\"1\" class=\"dataframe\">\n",
       "  <thead>\n",
       "    <tr style=\"text-align: right;\">\n",
       "      <th></th>\n",
       "      <th>starts</th>\n",
       "      <th>ends</th>\n",
       "      <th>interval</th>\n",
       "    </tr>\n",
       "  </thead>\n",
       "  <tbody>\n",
       "    <tr>\n",
       "      <th>584</th>\n",
       "      <td>0.002399</td>\n",
       "      <td>4.81083e-05</td>\n",
       "      <td>-0.00235093</td>\n",
       "    </tr>\n",
       "  </tbody>\n",
       "</table>\n",
       "</div>"
      ],
      "text/plain": [
       "       starts         ends    interval\n",
       "584  0.002399  4.81083e-05 -0.00235093"
      ]
     },
     "execution_count": 229,
     "metadata": {},
     "output_type": "execute_result"
    }
   ],
   "source": [
    "min_ = starts_ends[starts_ends['interval'] == starts_ends['interval'].min()]\n",
    "min_"
   ]
  },
  {
   "cell_type": "code",
   "execution_count": null,
   "metadata": {},
   "outputs": [],
   "source": []
  },
  {
   "cell_type": "markdown",
   "metadata": {},
   "source": [
    "# 3M1"
   ]
  },
  {
   "cell_type": "code",
   "execution_count": 263,
   "metadata": {},
   "outputs": [
    {
     "data": {
      "text/plain": [
       "Text(0, 0.5, 'prob')"
      ]
     },
     "execution_count": 263,
     "metadata": {},
     "output_type": "execute_result"
    },
    {
     "data": {
      "image/png": "[encoded data removed]",
      "text/plain": [
       "<Figure size 432x288 with 1 Axes>"
      ]
     },
     "metadata": {
      "needs_background": "light"
     },
     "output_type": "display_data"
    }
   ],
   "source": [
    "# 8W in 15tosses, construt posterior distribution\n",
    "prob_grid = np.arange(0, 1.0 + 1e-5, 1/1000)\n",
    "prior = [1]*prob_grid.shape[0]\n",
    "likelihood = scipy.stats.binom.pmf(8, 15, prob_grid)\n",
    "posterior = likelihood*prior\n",
    "posterior_dist = posterior/posterior.sum()\n",
    "\n",
    "plt.grid()\n",
    "plt.plot(prob_grid, posterior_dist)\n",
    "plt.xlabel('P(W)')\n",
    "plt.ylabel('prob')"
   ]
  },
  {
   "cell_type": "markdown",
   "metadata": {},
   "source": [
    "# 3M2"
   ]
  },
  {
   "cell_type": "code",
   "execution_count": 264,
   "metadata": {},
   "outputs": [
    {
     "data": {
      "image/png": "[encoded data removed]",
      "text/plain": [
       "<Figure size 432x288 with 1 Axes>"
      ]
     },
     "metadata": {
      "needs_background": "light"
     },
     "output_type": "display_data"
    }
   ],
   "source": [
    "# draw 10,000 samples then calculate 90% HDPI\n",
    "# HDPI == highest posterior density interval\n",
    "# == narrowest interval containing the specified prob mass\n",
    "\n",
    "num=10000\n",
    "samples = np.random.choice(prob_grid, size=num, p=posterior_dist)\n",
    "\n",
    "plt.hist(samples, bins=np.arange(0, 1, 1/100))\n",
    "plt.show()"
   ]
  },
  {
   "cell_type": "code",
   "execution_count": 284,
   "metadata": {},
   "outputs": [
    {
     "data": {
      "text/html": [
       "<div>\n",
       "<style scoped>\n",
       "    .dataframe tbody tr th:only-of-type {\n",
       "        vertical-align: middle;\n",
       "    }\n",
       "\n",
       "    .dataframe tbody tr th {\n",
       "        vertical-align: top;\n",
       "    }\n",
       "\n",
       "    .dataframe thead th {\n",
       "        text-align: right;\n",
       "    }\n",
       "</style>\n",
       "<table border=\"1\" class=\"dataframe\">\n",
       "  <thead>\n",
       "    <tr style=\"text-align: right;\">\n",
       "      <th></th>\n",
       "      <th>prob</th>\n",
       "      <th>num</th>\n",
       "      <th>posterior</th>\n",
       "    </tr>\n",
       "  </thead>\n",
       "  <tbody>\n",
       "    <tr>\n",
       "      <th>0</th>\n",
       "      <td>0.153</td>\n",
       "      <td>1</td>\n",
       "      <td>0.0001</td>\n",
       "    </tr>\n",
       "    <tr>\n",
       "      <th>1</th>\n",
       "      <td>0.170</td>\n",
       "      <td>1</td>\n",
       "      <td>0.0001</td>\n",
       "    </tr>\n",
       "    <tr>\n",
       "      <th>2</th>\n",
       "      <td>0.171</td>\n",
       "      <td>2</td>\n",
       "      <td>0.0002</td>\n",
       "    </tr>\n",
       "    <tr>\n",
       "      <th>3</th>\n",
       "      <td>0.173</td>\n",
       "      <td>1</td>\n",
       "      <td>0.0001</td>\n",
       "    </tr>\n",
       "    <tr>\n",
       "      <th>4</th>\n",
       "      <td>0.180</td>\n",
       "      <td>1</td>\n",
       "      <td>0.0001</td>\n",
       "    </tr>\n",
       "  </tbody>\n",
       "</table>\n",
       "</div>"
      ],
      "text/plain": [
       "    prob  num  posterior\n",
       "0  0.153    1     0.0001\n",
       "1  0.170    1     0.0001\n",
       "2  0.171    2     0.0002\n",
       "3  0.173    1     0.0001\n",
       "4  0.180    1     0.0001"
      ]
     },
     "execution_count": 284,
     "metadata": {},
     "output_type": "execute_result"
    }
   ],
   "source": [
    "sample_df = pd.DataFrame({'prob':samples})\n",
    "unique_samples = sample_df['prob'].unique()\n",
    "\n",
    "count = []\n",
    "for i in unique_samples:\n",
    "    count.append(sample_df[sample_df['prob'] == i].shape[0])\n",
    "    \n",
    "count_df = pd.DataFrame({'prob':unique_samples, 'num':count}).sort_values(by='prob', ascending=True).reset_index(drop=True)\n",
    "count_df['posterior'] = count_df['num']/count_df['num'].sum()\n",
    "count_df.head()"
   ]
  },
  {
   "cell_type": "code",
   "execution_count": 300,
   "metadata": {},
   "outputs": [],
   "source": [
    "interval = 1\n",
    "hdpi = 0.9\n",
    "start = 0; stop = 0\n",
    "\n",
    "for index in range(count_df.shape[0] - 1):\n",
    "    \n",
    "    count_df_ = count_df.iloc[index:, :]\n",
    "    starting_prob = count_df_['prob'].values[0]\n",
    "    \n",
    "    sum_ = 0\n",
    "    for i, j in zip(count_df_['posterior'], count_df_['prob']):\n",
    "        sum_ += i\n",
    "        if sum_ < hdpi:\n",
    "            continue\n",
    "        else:\n",
    "            interval_ = j - starting_prob\n",
    "            if interval_ < interval:\n",
    "                interval = interval_\n",
    "                start = starting_prob\n",
    "                stop = j\n",
    "            break"
   ]
  },
  {
   "cell_type": "code",
   "execution_count": 307,
   "metadata": {},
   "outputs": [
    {
     "name": "stdout",
     "output_type": "stream",
     "text": [
      "0.332 0.718\n"
     ]
    }
   ],
   "source": [
    "print(start, stop)"
   ]
  },
  {
   "cell_type": "markdown",
   "metadata": {},
   "source": [
    "# 3M3"
   ]
  },
  {
   "cell_type": "code",
   "execution_count": 312,
   "metadata": {},
   "outputs": [
    {
     "data": {
      "text/html": [
       "<div>\n",
       "<style scoped>\n",
       "    .dataframe tbody tr th:only-of-type {\n",
       "        vertical-align: middle;\n",
       "    }\n",
       "\n",
       "    .dataframe tbody tr th {\n",
       "        vertical-align: top;\n",
       "    }\n",
       "\n",
       "    .dataframe thead th {\n",
       "        text-align: right;\n",
       "    }\n",
       "</style>\n",
       "<table border=\"1\" class=\"dataframe\">\n",
       "  <thead>\n",
       "    <tr style=\"text-align: right;\">\n",
       "      <th></th>\n",
       "      <th>prob</th>\n",
       "      <th>num</th>\n",
       "      <th>posterior</th>\n",
       "    </tr>\n",
       "  </thead>\n",
       "  <tbody>\n",
       "    <tr>\n",
       "      <th>0</th>\n",
       "      <td>0.153</td>\n",
       "      <td>1</td>\n",
       "      <td>0.0001</td>\n",
       "    </tr>\n",
       "    <tr>\n",
       "      <th>1</th>\n",
       "      <td>0.170</td>\n",
       "      <td>1</td>\n",
       "      <td>0.0001</td>\n",
       "    </tr>\n",
       "    <tr>\n",
       "      <th>2</th>\n",
       "      <td>0.171</td>\n",
       "      <td>2</td>\n",
       "      <td>0.0002</td>\n",
       "    </tr>\n",
       "    <tr>\n",
       "      <th>3</th>\n",
       "      <td>0.173</td>\n",
       "      <td>1</td>\n",
       "      <td>0.0001</td>\n",
       "    </tr>\n",
       "    <tr>\n",
       "      <th>4</th>\n",
       "      <td>0.180</td>\n",
       "      <td>1</td>\n",
       "      <td>0.0001</td>\n",
       "    </tr>\n",
       "  </tbody>\n",
       "</table>\n",
       "</div>"
      ],
      "text/plain": [
       "    prob  num  posterior\n",
       "0  0.153    1     0.0001\n",
       "1  0.170    1     0.0001\n",
       "2  0.171    2     0.0002\n",
       "3  0.173    1     0.0001\n",
       "4  0.180    1     0.0001"
      ]
     },
     "execution_count": 312,
     "metadata": {},
     "output_type": "execute_result"
    }
   ],
   "source": [
    "# posterior predictive check.  simulate the distribution of samples and average over uncertainty in p.  \n",
    "count_df.head()"
   ]
  },
  {
   "cell_type": "code",
   "execution_count": 380,
   "metadata": {
    "scrolled": true
   },
   "outputs": [
    {
     "data": {
      "image/png": "[encoded data removed]",
      "text/plain": [
       "<Figure size 432x288 with 1 Axes>"
      ]
     },
     "metadata": {
      "needs_background": "light"
     },
     "output_type": "display_data"
    }
   ],
   "source": [
    "num = 15\n",
    "\n",
    "rsample = np.random.binomial(num, samples)\n",
    "\n",
    "plt.hist(np.random.binomial(num, samples), bins=np.arange(0, 15, 1))\n",
    "plt.show()"
   ]
  },
  {
   "cell_type": "code",
   "execution_count": 386,
   "metadata": {},
   "outputs": [
    {
     "data": {
      "text/plain": [
       "0.1413"
      ]
     },
     "execution_count": 386,
     "metadata": {},
     "output_type": "execute_result"
    }
   ],
   "source": [
    "# what prob of 8/15?\n",
    "rsample[rsample == 8].shape[0]/ rsample.shape[0]"
   ]
  },
  {
   "cell_type": "code",
   "execution_count": null,
   "metadata": {},
   "outputs": [],
   "source": []
  },
  {
   "cell_type": "markdown",
   "metadata": {},
   "source": [
    "# 3M4"
   ]
  },
  {
   "cell_type": "code",
   "execution_count": 397,
   "metadata": {},
   "outputs": [
    {
     "data": {
      "text/plain": [
       "0.1719"
      ]
     },
     "execution_count": 397,
     "metadata": {},
     "output_type": "execute_result"
    }
   ],
   "source": [
    "(np.random.binomial(9, samples) == 6).mean()"
   ]
  },
  {
   "cell_type": "markdown",
   "metadata": {},
   "source": [
    "# 3M5"
   ]
  },
  {
   "cell_type": "code",
   "execution_count": 400,
   "metadata": {},
   "outputs": [
    {
     "data": {
      "text/plain": [
       "Text(0, 0.5, 'prob')"
      ]
     },
     "execution_count": 400,
     "metadata": {},
     "output_type": "execute_result"
    },
    {
     "data": {
      "image/png": "[encoded data removed]",
      "text/plain": [
       "<Figure size 432x288 with 1 Axes>"
      ]
     },
     "metadata": {
      "needs_background": "light"
     },
     "output_type": "display_data"
    }
   ],
   "source": [
    "# 8W in 15tosses, construt posterior distribution\n",
    "prob_grid = np.arange(0, 1.0 + 1e-5, 1/1000)\n",
    "prior = [0 if i < 0.5 else 1 for i in prob_grid]\n",
    "likelihood = scipy.stats.binom.pmf(8, 15, prob_grid)\n",
    "posterior = likelihood*prior\n",
    "posterior_dist = posterior/posterior.sum()\n",
    "\n",
    "plt.grid()\n",
    "plt.plot(prob_grid, posterior_dist)\n",
    "plt.xlabel('P(W)')\n",
    "plt.ylabel('prob')"
   ]
  },
  {
   "cell_type": "code",
   "execution_count": 401,
   "metadata": {},
   "outputs": [
    {
     "data": {
      "image/png": "[encoded data removed]",
      "text/plain": [
       "<Figure size 432x288 with 1 Axes>"
      ]
     },
     "metadata": {
      "needs_background": "light"
     },
     "output_type": "display_data"
    }
   ],
   "source": [
    "# draw 10,000 samples then calculate 90% HDPI\n",
    "# HDPI == highest posterior density interval\n",
    "# == narrowest interval containing the specified prob mass\n",
    "\n",
    "num=10000\n",
    "samples = np.random.choice(prob_grid, size=num, p=posterior_dist)\n",
    "\n",
    "plt.hist(samples, bins=np.arange(0, 1, 1/100))\n",
    "plt.show()"
   ]
  },
  {
   "cell_type": "code",
   "execution_count": null,
   "metadata": {},
   "outputs": [],
   "source": []
  },
  {
   "cell_type": "markdown",
   "metadata": {},
   "source": [
    "# 3H1"
   ]
  },
  {
   "cell_type": "code",
   "execution_count": 437,
   "metadata": {},
   "outputs": [],
   "source": [
    "# load the data\n",
    "with open('births.txt') as f:\n",
    "    data = f.readlines()\n",
    "    \n",
    "birth1 = data[:2]\n",
    "birth1 = [i.replace('\\n', '') for i in birth1]\n",
    "birth1 = [i.replace(' ', '') for i in birth1]\n",
    "birth1 = birth1[0] + birth1[1]\n",
    "birth1 = [int(i) for i in birth1]\n",
    "\n",
    "\n",
    "birth2 = data[-2:]\n",
    "birth2 = [i.replace('\\n', '') for i in birth2]\n",
    "birth2 = [i.replace(' ', '') for i in birth2]\n",
    "birth2 = birth2[0] + birth2[1]\n",
    "birth2 = [int(i) for i in birth2]"
   ]
  },
  {
   "cell_type": "code",
   "execution_count": 445,
   "metadata": {},
   "outputs": [
    {
     "name": "stdout",
     "output_type": "stream",
     "text": [
      "111 200 0.555\n"
     ]
    }
   ],
   "source": [
    "# MALE = 1, FEMALE = 0\n",
    "# Each pair represents first and second born child in two child families\n",
    "total_boys = sum(birth1) + sum(birth2)\n",
    "total_kids = len(birth1) + len(birth2)\n",
    "print(total_boys, total_kids, total_boys/total_kids)"
   ]
  },
  {
   "cell_type": "code",
   "execution_count": 444,
   "metadata": {},
   "outputs": [
    {
     "data": {
      "image/png": "[encoded data removed]",
      "text/plain": [
       "<Figure size 432x288 with 1 Axes>"
      ]
     },
     "metadata": {
      "needs_background": "light"
     },
     "output_type": "display_data"
    }
   ],
   "source": [
    "# using grid approx, compute post dist for prob of birth being a boy\n",
    "# uniform prob\n",
    "# what param maximizes the prob?\n",
    "prob_grid = np.arange(0, 1.0 + 1e-5, 1/1000)\n",
    "prior = [1]*prob_grid.shape[0]\n",
    "\n",
    "likelihood = scipy.stats.binom.pmf(total_boys , total_kids, prob_grid)\n",
    "posterior = likelihood*prior\n",
    "poster_dist = posterior / posterior.sum()\n",
    "\n",
    "plt.figure(figsize=(6,4))\n",
    "plt.plot(prob_grid, poster_dist)\n",
    "plt.xlabel('prob_boy')\n",
    "plt.ylabel('probability')\n",
    "plt.grid()\n",
    "plt.show()"
   ]
  },
  {
   "cell_type": "code",
   "execution_count": 451,
   "metadata": {},
   "outputs": [
    {
     "name": "stdout",
     "output_type": "stream",
     "text": [
      "0.555\n"
     ]
    }
   ],
   "source": [
    "max_ = poster_dist.max()\n",
    "for i, j in zip(prob_grid, poster_dist):\n",
    "    if j == max_:\n",
    "        print(i)"
   ]
  },
  {
   "cell_type": "code",
   "execution_count": null,
   "metadata": {},
   "outputs": [],
   "source": []
  },
  {
   "cell_type": "markdown",
   "metadata": {},
   "source": [
    "# 3H2"
   ]
  },
  {
   "cell_type": "code",
   "execution_count": 480,
   "metadata": {},
   "outputs": [
    {
     "data": {
      "image/png": "[encoded data removed]",
      "text/plain": [
       "<Figure size 432x288 with 1 Axes>"
      ]
     },
     "metadata": {
      "needs_background": "light"
     },
     "output_type": "display_data"
    }
   ],
   "source": [
    "# sample 10,000 random parameter values from posteriro dist, estimage 50% HPDI\n",
    "samples = np.random.choice(prob_grid, size=10000, p=poster_dist)\n",
    "plt.hist(samples)\n",
    "plt.show()"
   ]
  },
  {
   "cell_type": "code",
   "execution_count": 481,
   "metadata": {},
   "outputs": [
    {
     "data": {
      "text/html": [
       "<div>\n",
       "<style scoped>\n",
       "    .dataframe tbody tr th:only-of-type {\n",
       "        vertical-align: middle;\n",
       "    }\n",
       "\n",
       "    .dataframe tbody tr th {\n",
       "        vertical-align: top;\n",
       "    }\n",
       "\n",
       "    .dataframe thead th {\n",
       "        text-align: right;\n",
       "    }\n",
       "</style>\n",
       "<table border=\"1\" class=\"dataframe\">\n",
       "  <thead>\n",
       "    <tr style=\"text-align: right;\">\n",
       "      <th></th>\n",
       "      <th>prob</th>\n",
       "      <th>count</th>\n",
       "      <th>posterior</th>\n",
       "    </tr>\n",
       "  </thead>\n",
       "  <tbody>\n",
       "    <tr>\n",
       "      <th>0</th>\n",
       "      <td>0.414</td>\n",
       "      <td>1</td>\n",
       "      <td>0.0001</td>\n",
       "    </tr>\n",
       "    <tr>\n",
       "      <th>1</th>\n",
       "      <td>0.416</td>\n",
       "      <td>1</td>\n",
       "      <td>0.0001</td>\n",
       "    </tr>\n",
       "    <tr>\n",
       "      <th>2</th>\n",
       "      <td>0.417</td>\n",
       "      <td>1</td>\n",
       "      <td>0.0001</td>\n",
       "    </tr>\n",
       "    <tr>\n",
       "      <th>3</th>\n",
       "      <td>0.433</td>\n",
       "      <td>1</td>\n",
       "      <td>0.0001</td>\n",
       "    </tr>\n",
       "    <tr>\n",
       "      <th>4</th>\n",
       "      <td>0.435</td>\n",
       "      <td>1</td>\n",
       "      <td>0.0001</td>\n",
       "    </tr>\n",
       "  </tbody>\n",
       "</table>\n",
       "</div>"
      ],
      "text/plain": [
       "    prob  count  posterior\n",
       "0  0.414      1     0.0001\n",
       "1  0.416      1     0.0001\n",
       "2  0.417      1     0.0001\n",
       "3  0.433      1     0.0001\n",
       "4  0.435      1     0.0001"
      ]
     },
     "execution_count": 481,
     "metadata": {},
     "output_type": "execute_result"
    }
   ],
   "source": [
    "posterior = pd.DataFrame({'prob':samples})\n",
    "\n",
    "probs = posterior['prob'].unique()\n",
    "counts = [posterior[posterior['prob'] == i].shape[0] for i in probs]\n",
    "post_pd = pd.DataFrame({'prob':posterior['prob'].unique(), \n",
    "                        'count':counts})\n",
    "\n",
    "post_pd = post_pd.sort_values(by='prob').reset_index(drop=True)\n",
    "post_pd['posterior'] = post_pd['count'] / post_pd['count'].sum()\n",
    "post_pd.head()"
   ]
  },
  {
   "cell_type": "code",
   "execution_count": 482,
   "metadata": {},
   "outputs": [
    {
     "name": "stdout",
     "output_type": "stream",
     "text": [
      "0.53 0.577\n"
     ]
    }
   ],
   "source": [
    "interval = 1\n",
    "hdpi = 0.5\n",
    "start = 0; stop = 0\n",
    "\n",
    "for index in range(post_pd.shape[0] - 1):\n",
    "    \n",
    "    count_df_ = post_pd.iloc[index:, :]\n",
    "    starting_prob = count_df_['prob'].values[0]\n",
    "    \n",
    "    sum_ = 0\n",
    "    for i, j in zip(count_df_['posterior'], count_df_['prob']):\n",
    "        sum_ += i\n",
    "        if sum_ < hdpi:\n",
    "            continue\n",
    "        else:\n",
    "            interval_ = j - starting_prob\n",
    "            if interval_ < interval:\n",
    "                interval = interval_\n",
    "                start = starting_prob\n",
    "                stop = j\n",
    "            break\n",
    "            \n",
    "print(start, stop)"
   ]
  },
  {
   "cell_type": "code",
   "execution_count": null,
   "metadata": {},
   "outputs": [],
   "source": []
  },
  {
   "cell_type": "markdown",
   "metadata": {},
   "source": [
    "# 3H3"
   ]
  },
  {
   "cell_type": "code",
   "execution_count": 510,
   "metadata": {},
   "outputs": [
    {
     "data": {
      "image/png": "[encoded data removed]",
      "text/plain": [
       "<Figure size 432x288 with 1 Axes>"
      ]
     },
     "metadata": {
      "needs_background": "light"
     },
     "output_type": "display_data"
    }
   ],
   "source": [
    "# simulate 10,000 replicates of 200 births\n",
    "sims = np.random.binomial(200, samples)\n",
    "plt.hist(sims, bins=np.arange(0, 200, 1))\n",
    "plt.axvline(total_boys, color='salmon')\n",
    "plt.show()"
   ]
  },
  {
   "cell_type": "code",
   "execution_count": 511,
   "metadata": {},
   "outputs": [
    {
     "data": {
      "text/plain": [
       "110.7378"
      ]
     },
     "execution_count": 511,
     "metadata": {},
     "output_type": "execute_result"
    }
   ],
   "source": [
    "sims.mean()"
   ]
  },
  {
   "cell_type": "code",
   "execution_count": 512,
   "metadata": {},
   "outputs": [],
   "source": [
    "# perfectly matches birth1 + birth2"
   ]
  },
  {
   "cell_type": "markdown",
   "metadata": {},
   "source": [
    "# 3H4"
   ]
  },
  {
   "cell_type": "code",
   "execution_count": 520,
   "metadata": {},
   "outputs": [
    {
     "data": {
      "image/png": "[encoded data removed]",
      "text/plain": [
       "<Figure size 432x288 with 1 Axes>"
      ]
     },
     "metadata": {
      "needs_background": "light"
     },
     "output_type": "display_data"
    }
   ],
   "source": [
    "# compare 10,000 counts of boys from 100 simulated first borns to the numberof boys in the first births1\n",
    "prob_grid = np.arange(0, 1.0 + 1e-5, 1/1000)\n",
    "prior = [1]*prob_grid.shape[0]\n",
    "\n",
    "likelihood = scipy.stats.binom.pmf(sum(birth1) , len(birth1), prob_grid)\n",
    "posterior = likelihood*prior\n",
    "poster_dist = posterior / posterior.sum()\n",
    "\n",
    "samples = np.random.choice(prob_grid, size=10000, p=poster_dist)\n",
    "\n",
    "boys = np.random.binomial(100, samples)\n",
    "\n",
    "plt.hist(boys, bins=np.arange(0, 100, 1))\n",
    "plt.axvline(sum(birth1), color='salmon')\n",
    "plt.show()\n"
   ]
  },
  {
   "cell_type": "code",
   "execution_count": 521,
   "metadata": {},
   "outputs": [],
   "source": [
    "# compare to real data"
   ]
  },
  {
   "cell_type": "markdown",
   "metadata": {},
   "source": [
    "# 3H5"
   ]
  },
  {
   "cell_type": "code",
   "execution_count": 533,
   "metadata": {},
   "outputs": [
    {
     "data": {
      "image/png": "[encoded data removed]",
      "text/plain": [
       "<Figure size 432x288 with 1 Axes>"
      ]
     },
     "metadata": {
      "needs_background": "light"
     },
     "output_type": "display_data"
    }
   ],
   "source": [
    "# model assumes that P(boy | girl) = P(boy)\n",
    "# check this assumption\n",
    "\n",
    "p_boy = total_boys/total_kids\n",
    "\n",
    "# count the number of female first births\n",
    "# count the number of males we get after a female birth\n",
    "female_b1 = len(birth1)- sum(birth1)\n",
    "male2_female1 = sum([1 for i, j in zip(birth1, birth2) if i == 0 and j == 1])\n",
    "\n",
    "# if it is indepentent we expect P(G | B) = P(B)\n",
    "likelihood = scipy.stats.binom.pmf(male2_female1 , female_b1, prob_grid)\n",
    "posterior = likelihood*prior\n",
    "poster_dist = posterior / posterior.sum()\n",
    "\n",
    "plt.figure(figsize=(6,4))\n",
    "plt.plot(prob_grid, poster_dist)\n",
    "\n",
    "plt.axvline(p_boy, color='salmon')\n",
    "\n",
    "\n",
    "plt.xlabel('prob_boy')\n",
    "plt.ylabel('probability')\n",
    "plt.grid()\n",
    "plt.show()"
   ]
  },
  {
   "cell_type": "code",
   "execution_count": 532,
   "metadata": {},
   "outputs": [
    {
     "data": {
      "text/plain": [
       "0.7959183673469388"
      ]
     },
     "execution_count": 532,
     "metadata": {},
     "output_type": "execute_result"
    }
   ],
   "source": [
    "male2_female1/female_b1"
   ]
  },
  {
   "cell_type": "code",
   "execution_count": 534,
   "metadata": {},
   "outputs": [
    {
     "data": {
      "text/plain": [
       "39"
      ]
     },
     "execution_count": 534,
     "metadata": {},
     "output_type": "execute_result"
    }
   ],
   "source": [
    "male2_female1"
   ]
  },
  {
   "cell_type": "code",
   "execution_count": 535,
   "metadata": {},
   "outputs": [
    {
     "data": {
      "text/plain": [
       "49"
      ]
     },
     "execution_count": 535,
     "metadata": {},
     "output_type": "execute_result"
    }
   ],
   "source": [
    "female_b1"
   ]
  },
  {
   "cell_type": "code",
   "execution_count": null,
   "metadata": {},
   "outputs": [],
   "source": []
  }
 ],
 "metadata": {
  "kernelspec": {
   "display_name": "Python 3",
   "language": "python",
   "name": "python3"
  },
  "language_info": {
   "codemirror_mode": {
    "name": "ipython",
    "version": 3
   },
   "file_extension": ".py",
   "mimetype": "text/x-python",
   "name": "python",
   "nbconvert_exporter": "python",
   "pygments_lexer": "ipython3",
   "version": "3.6.8"
  }
 },
 "nbformat": 4,
 "nbformat_minor": 2
}
