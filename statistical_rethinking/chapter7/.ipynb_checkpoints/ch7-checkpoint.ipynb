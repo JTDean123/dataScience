{
 "cells": [
  {
   "cell_type": "markdown",
   "metadata": {},
   "source": [
    "# Chapter 7"
   ]
  },
  {
   "cell_type": "code",
   "execution_count": 313,
   "metadata": {},
   "outputs": [],
   "source": [
    "import numpy as np\n",
    "import random\n",
    "import pandas as pd\n",
    "import scipy.stats\n",
    "from scipy.special import logsumexp\n",
    "from sklearn.model_selection import train_test_split\n",
    "import itertools\n",
    "\n",
    "import matplotlib as plt\n",
    "import matplotlib.pyplot as plt\n",
    "plt.rcdefaults()\n",
    "import matplotlib as mpl\n",
    "mpl.rc(\"figure\", facecolor=\"white\")\n",
    "plt.rc('axes', axisbelow=True)\n",
    "\n",
    "import warnings\n",
    "warnings.filterwarnings(\"ignore\")\n",
    "\n",
    "import pymc3 as pm\n",
    "import arviz as az\n",
    "\n",
    "import altair as alt\n",
    "from vega_datasets import data as data_alt"
   ]
  },
  {
   "cell_type": "code",
   "execution_count": null,
   "metadata": {},
   "outputs": [],
   "source": []
  },
  {
   "cell_type": "markdown",
   "metadata": {},
   "source": [
    "# data"
   ]
  },
  {
   "cell_type": "markdown",
   "metadata": {},
   "source": []
  },
  {
   "cell_type": "code",
   "execution_count": 2,
   "metadata": {},
   "outputs": [
    {
     "data": {
      "text/html": [
       "<div>\n",
       "<style scoped>\n",
       "    .dataframe tbody tr th:only-of-type {\n",
       "        vertical-align: middle;\n",
       "    }\n",
       "\n",
       "    .dataframe tbody tr th {\n",
       "        vertical-align: top;\n",
       "    }\n",
       "\n",
       "    .dataframe thead th {\n",
       "        text-align: right;\n",
       "    }\n",
       "</style>\n",
       "<table border=\"1\" class=\"dataframe\">\n",
       "  <thead>\n",
       "    <tr style=\"text-align: right;\">\n",
       "      <th></th>\n",
       "      <th>bed</th>\n",
       "      <th>water</th>\n",
       "      <th>shade</th>\n",
       "      <th>blooms</th>\n",
       "    </tr>\n",
       "  </thead>\n",
       "  <tbody>\n",
       "    <tr>\n",
       "      <th>0</th>\n",
       "      <td>a</td>\n",
       "      <td>1</td>\n",
       "      <td>1</td>\n",
       "      <td>0.0</td>\n",
       "    </tr>\n",
       "    <tr>\n",
       "      <th>1</th>\n",
       "      <td>a</td>\n",
       "      <td>1</td>\n",
       "      <td>2</td>\n",
       "      <td>0.0</td>\n",
       "    </tr>\n",
       "  </tbody>\n",
       "</table>\n",
       "</div>"
      ],
      "text/plain": [
       "  bed  water  shade  blooms\n",
       "0   a      1      1     0.0\n",
       "1   a      1      2     0.0"
      ]
     },
     "execution_count": 2,
     "metadata": {},
     "output_type": "execute_result"
    }
   ],
   "source": [
    "data = pd.read_csv('tulips.txt', sep=';')\n",
    "data.head(2)"
   ]
  },
  {
   "cell_type": "code",
   "execution_count": 3,
   "metadata": {},
   "outputs": [
    {
     "data": {
      "text/plain": [
       "array(['a', 'b', 'c'], dtype=object)"
      ]
     },
     "execution_count": 3,
     "metadata": {},
     "output_type": "execute_result"
    }
   ],
   "source": [
    "data['bed'].unique()"
   ]
  },
  {
   "cell_type": "code",
   "execution_count": 4,
   "metadata": {},
   "outputs": [
    {
     "data": {
      "text/plain": [
       "array([1, 2, 3])"
      ]
     },
     "execution_count": 4,
     "metadata": {},
     "output_type": "execute_result"
    }
   ],
   "source": [
    "data['water'].unique()"
   ]
  },
  {
   "cell_type": "code",
   "execution_count": 5,
   "metadata": {},
   "outputs": [
    {
     "data": {
      "text/plain": [
       "2"
      ]
     },
     "execution_count": 5,
     "metadata": {},
     "output_type": "execute_result"
    }
   ],
   "source": [
    "x = 2\n",
    "x"
   ]
  },
  {
   "cell_type": "code",
   "execution_count": 6,
   "metadata": {},
   "outputs": [
    {
     "data": {
      "text/plain": [
       "array([1, 2, 3])"
      ]
     },
     "execution_count": 6,
     "metadata": {},
     "output_type": "execute_result"
    }
   ],
   "source": [
    "data['shade'].unique()"
   ]
  },
  {
   "cell_type": "code",
   "execution_count": 7,
   "metadata": {},
   "outputs": [
    {
     "data": {
      "text/plain": [
       "array([  0.  , 111.04, 183.47,  59.16,  76.75, 224.97,  83.77, 134.95,\n",
       "        80.1 ,  85.95,  19.87, 213.13, 124.99,  65.48, 361.66, 197.13,\n",
       "       134.93,  10.02,  47.69, 106.75, 246.  , 135.92,  90.66, 304.52,\n",
       "       249.33, 134.59])"
      ]
     },
     "execution_count": 7,
     "metadata": {},
     "output_type": "execute_result"
    }
   ],
   "source": [
    "data['blooms'].unique()"
   ]
  },
  {
   "cell_type": "code",
   "execution_count": 8,
   "metadata": {},
   "outputs": [],
   "source": [
    "# scale the blooms feature\n",
    "data['blooms_sc'] = data['blooms'] - data['blooms'].mean()\n",
    "data['shade'] = data['shade'] - data['shade'].mean()\n",
    "data['water'] = data['water'] - data['water'].mean()"
   ]
  },
  {
   "cell_type": "code",
   "execution_count": 9,
   "metadata": {},
   "outputs": [],
   "source": [
    "# convert bed into a dummy variable\n",
    "data['obs'] = data.index.to_list()\n",
    "dumms = pd.get_dummies(data['bed'])\n",
    "dumms['obs'] = dumms.index.to_list()\n",
    "data = data.merge(dumms)"
   ]
  },
  {
   "cell_type": "code",
   "execution_count": 10,
   "metadata": {},
   "outputs": [
    {
     "data": {
      "text/html": [
       "<div>\n",
       "<style scoped>\n",
       "    .dataframe tbody tr th:only-of-type {\n",
       "        vertical-align: middle;\n",
       "    }\n",
       "\n",
       "    .dataframe tbody tr th {\n",
       "        vertical-align: top;\n",
       "    }\n",
       "\n",
       "    .dataframe thead th {\n",
       "        text-align: right;\n",
       "    }\n",
       "</style>\n",
       "<table border=\"1\" class=\"dataframe\">\n",
       "  <thead>\n",
       "    <tr style=\"text-align: right;\">\n",
       "      <th></th>\n",
       "      <th>bed</th>\n",
       "      <th>water</th>\n",
       "      <th>shade</th>\n",
       "      <th>blooms</th>\n",
       "      <th>blooms_sc</th>\n",
       "      <th>obs</th>\n",
       "      <th>a</th>\n",
       "      <th>b</th>\n",
       "      <th>c</th>\n",
       "    </tr>\n",
       "  </thead>\n",
       "  <tbody>\n",
       "    <tr>\n",
       "      <th>0</th>\n",
       "      <td>a</td>\n",
       "      <td>-1.0</td>\n",
       "      <td>-1.0</td>\n",
       "      <td>0.0</td>\n",
       "      <td>-128.993704</td>\n",
       "      <td>0</td>\n",
       "      <td>1</td>\n",
       "      <td>0</td>\n",
       "      <td>0</td>\n",
       "    </tr>\n",
       "    <tr>\n",
       "      <th>1</th>\n",
       "      <td>a</td>\n",
       "      <td>-1.0</td>\n",
       "      <td>0.0</td>\n",
       "      <td>0.0</td>\n",
       "      <td>-128.993704</td>\n",
       "      <td>1</td>\n",
       "      <td>1</td>\n",
       "      <td>0</td>\n",
       "      <td>0</td>\n",
       "    </tr>\n",
       "  </tbody>\n",
       "</table>\n",
       "</div>"
      ],
      "text/plain": [
       "  bed  water  shade  blooms   blooms_sc  obs  a  b  c\n",
       "0   a   -1.0   -1.0     0.0 -128.993704    0  1  0  0\n",
       "1   a   -1.0    0.0     0.0 -128.993704    1  1  0  0"
      ]
     },
     "execution_count": 10,
     "metadata": {},
     "output_type": "execute_result"
    }
   ],
   "source": [
    "data.head(2)"
   ]
  },
  {
   "cell_type": "code",
   "execution_count": 11,
   "metadata": {},
   "outputs": [
    {
     "data": {
      "image/png": "[encoded data removed]",
      "text/plain": [
       "<Figure size 600x400 with 1 Axes>"
      ]
     },
     "metadata": {},
     "output_type": "display_data"
    }
   ],
   "source": [
    "plt.figure(figsize=(6,4))\n",
    "plt.grid()\n",
    "plt.hist(data['blooms'])\n",
    "plt.show()"
   ]
  },
  {
   "cell_type": "markdown",
   "metadata": {},
   "source": [
    "# H1"
   ]
  },
  {
   "cell_type": "code",
   "execution_count": 13,
   "metadata": {},
   "outputs": [
    {
     "name": "stderr",
     "output_type": "stream",
     "text": [
      "Auto-assigning NUTS sampler...\n",
      "Initializing NUTS using jitter+adapt_diag...\n",
      "Multiprocess sampling (2 chains in 2 jobs)\n",
      "NUTS: [sigma, bSW, bW, bS, alpha]\n"
     ]
    },
    {
     "data": {
      "text/html": [
       "\n",
       "    <div>\n",
       "        <style>\n",
       "            /* Turns off some styling */\n",
       "            progress {\n",
       "                /* gets rid of default border in Firefox and Opera. */\n",
       "                border: none;\n",
       "                /* Needs to be in here for Safari polyfill so background images work as expected. */\n",
       "                background-size: auto;\n",
       "            }\n",
       "            .progress-bar-interrupted, .progress-bar-interrupted::-webkit-progress-bar {\n",
       "                background: #F44336;\n",
       "            }\n",
       "        </style>\n",
       "      <progress value='4000' class='' max='4000' style='width:300px; height:20px; vertical-align: middle;'></progress>\n",
       "      100.00% [4000/4000 00:06<00:00 Sampling 2 chains, 0 divergences]\n",
       "    </div>\n",
       "    "
      ],
      "text/plain": [
       "<IPython.core.display.HTML object>"
      ]
     },
     "metadata": {},
     "output_type": "display_data"
    },
    {
     "name": "stderr",
     "output_type": "stream",
     "text": [
      "Sampling 2 chains for 1_000 tune and 1_000 draw iterations (2_000 + 2_000 draws total) took 14 seconds.\n"
     ]
    }
   ],
   "source": [
    "# make two models, one including bed and one not including bed\n",
    "\n",
    "# no bed\n",
    "with pm.Model() as model_1:\n",
    "    \n",
    "    # priors\n",
    "    alpha = pm.Normal('alpha', 0, 100)\n",
    "    bS = pm.Normal('bS', 0, 100)\n",
    "    bW = pm.Normal('bW', 0, 100)\n",
    "    bSW = pm.Normal('bSW', 0, 100)\n",
    "    sigma = pm.Uniform('sigma', 0, 100)\n",
    "    \n",
    "    # deterministic\n",
    "    mu = alpha + bW*data['water'] + bS*data['shade'] + bSW*data['water']*data['shade']\n",
    "    \n",
    "    # likelihood\n",
    "    blooms = pm.Normal('blooms', mu, sigma, observed=data['blooms'])\n",
    "    \n",
    "    trace_1 = pm.sample(1000)"
   ]
  },
  {
   "cell_type": "code",
   "execution_count": 14,
   "metadata": {},
   "outputs": [
    {
     "name": "stderr",
     "output_type": "stream",
     "text": [
      "Auto-assigning NUTS sampler...\n",
      "Initializing NUTS using jitter+adapt_diag...\n",
      "Multiprocess sampling (2 chains in 2 jobs)\n",
      "NUTS: [bC, bB, bA, sigma, bSW, bW, bS, alpha]\n"
     ]
    },
    {
     "data": {
      "text/html": [
       "\n",
       "    <div>\n",
       "        <style>\n",
       "            /* Turns off some styling */\n",
       "            progress {\n",
       "                /* gets rid of default border in Firefox and Opera. */\n",
       "                border: none;\n",
       "                /* Needs to be in here for Safari polyfill so background images work as expected. */\n",
       "                background-size: auto;\n",
       "            }\n",
       "            .progress-bar-interrupted, .progress-bar-interrupted::-webkit-progress-bar {\n",
       "                background: #F44336;\n",
       "            }\n",
       "        </style>\n",
       "      <progress value='4000' class='' max='4000' style='width:300px; height:20px; vertical-align: middle;'></progress>\n",
       "      100.00% [4000/4000 00:14<00:00 Sampling 2 chains, 0 divergences]\n",
       "    </div>\n",
       "    "
      ],
      "text/plain": [
       "<IPython.core.display.HTML object>"
      ]
     },
     "metadata": {},
     "output_type": "display_data"
    },
    {
     "name": "stderr",
     "output_type": "stream",
     "text": [
      "Sampling 2 chains for 1_000 tune and 1_000 draw iterations (2_000 + 2_000 draws total) took 20 seconds.\n",
      "The number of effective samples is smaller than 25% for some parameters.\n"
     ]
    }
   ],
   "source": [
    "# YES bed\n",
    "with pm.Model() as model_2:\n",
    "    \n",
    "    # priors\n",
    "    alpha = pm.Normal('alpha', 0, 100)\n",
    "    bS = pm.Normal('bS', 0, 100)\n",
    "    bW = pm.Normal('bW', 0, 100)\n",
    "    bSW = pm.Normal('bSW', 0, 100)\n",
    "    sigma = pm.Uniform('sigma', 0, 100)\n",
    "    \n",
    "    bA = pm.Normal('bA', 0, 100)\n",
    "    bB = pm.Normal('bB', 0, 100)\n",
    "    bC = pm.Normal('bC', 0, 100)\n",
    "    \n",
    "    \n",
    "    # deterministic\n",
    "    mu = alpha + bW*data['water'] + bS*data['shade'] + bSW*data['water']*data['shade'] \\\n",
    "        + bA*data['a'] + bB*data['b'] + bC*data['c']\n",
    "    \n",
    "    # likelihood\n",
    "    blooms = pm.Normal('blooms', mu, sigma, observed=data['blooms'])\n",
    "    \n",
    "    trace_2 = pm.sample(1000)"
   ]
  },
  {
   "cell_type": "code",
   "execution_count": null,
   "metadata": {},
   "outputs": [],
   "source": []
  },
  {
   "cell_type": "markdown",
   "metadata": {},
   "source": [
    "# H2"
   ]
  },
  {
   "cell_type": "code",
   "execution_count": 15,
   "metadata": {},
   "outputs": [
    {
     "data": {
      "text/html": [
       "<div>\n",
       "<style scoped>\n",
       "    .dataframe tbody tr th:only-of-type {\n",
       "        vertical-align: middle;\n",
       "    }\n",
       "\n",
       "    .dataframe tbody tr th {\n",
       "        vertical-align: top;\n",
       "    }\n",
       "\n",
       "    .dataframe thead th {\n",
       "        text-align: right;\n",
       "    }\n",
       "</style>\n",
       "<table border=\"1\" class=\"dataframe\">\n",
       "  <thead>\n",
       "    <tr style=\"text-align: right;\">\n",
       "      <th></th>\n",
       "      <th>rank</th>\n",
       "      <th>waic</th>\n",
       "      <th>p_waic</th>\n",
       "      <th>d_waic</th>\n",
       "      <th>weight</th>\n",
       "      <th>se</th>\n",
       "      <th>dse</th>\n",
       "      <th>warning</th>\n",
       "      <th>waic_scale</th>\n",
       "    </tr>\n",
       "  </thead>\n",
       "  <tbody>\n",
       "    <tr>\n",
       "      <th>model_2</th>\n",
       "      <td>0</td>\n",
       "      <td>289.54</td>\n",
       "      <td>5.74764</td>\n",
       "      <td>0</td>\n",
       "      <td>0.73011</td>\n",
       "      <td>3.57246</td>\n",
       "      <td>0</td>\n",
       "      <td>True</td>\n",
       "      <td>log</td>\n",
       "    </tr>\n",
       "    <tr>\n",
       "      <th>model_1</th>\n",
       "      <td>1</td>\n",
       "      <td>293.188</td>\n",
       "      <td>4.33019</td>\n",
       "      <td>1.82398</td>\n",
       "      <td>0.26989</td>\n",
       "      <td>3.17362</td>\n",
       "      <td>2.67116</td>\n",
       "      <td>True</td>\n",
       "      <td>log</td>\n",
       "    </tr>\n",
       "  </tbody>\n",
       "</table>\n",
       "</div>"
      ],
      "text/plain": [
       "        rank     waic   p_waic   d_waic   weight       se      dse warning  \\\n",
       "model_2    0   289.54  5.74764        0  0.73011  3.57246        0    True   \n",
       "model_1    1  293.188  4.33019  1.82398  0.26989  3.17362  2.67116    True   \n",
       "\n",
       "        waic_scale  \n",
       "model_2        log  \n",
       "model_1        log  "
      ]
     },
     "execution_count": 15,
     "metadata": {},
     "output_type": "execute_result"
    }
   ],
   "source": [
    "model_1.name = 'model_1'\n",
    "model_2.name = 'model_2'\n",
    "\n",
    "waic_df = pm.compare({model_1.name:trace_1,\n",
    "            model_2.name:trace_2}, ic='WAIC')\n",
    "\n",
    "\n",
    "waic_df['waic'] = waic_df['waic']*-2\n",
    "\n",
    "waic_df"
   ]
  },
  {
   "cell_type": "code",
   "execution_count": 16,
   "metadata": {},
   "outputs": [],
   "source": [
    "# about the same"
   ]
  },
  {
   "cell_type": "code",
   "execution_count": 17,
   "metadata": {},
   "outputs": [],
   "source": [
    "# compare the models here\n"
   ]
  },
  {
   "cell_type": "code",
   "execution_count": 18,
   "metadata": {},
   "outputs": [
    {
     "data": {
      "image/png": "[encoded data removed]",
      "text/plain": [
       "<Figure size 600x400 with 1 Axes>"
      ]
     },
     "metadata": {},
     "output_type": "display_data"
    }
   ],
   "source": [
    "# posterior plots of the model coeffs for the bed variable\n",
    "plt.figure(figsize=(6, 4))\n",
    "\n",
    "for bed in data['bed'].unique():\n",
    "    bed = bed.upper()\n",
    "    plt.hist(trace_2[f'b{bed}'], label=bed, alpha=0.5)\n",
    "    \n",
    "plt.grid()\n",
    "plt.legend()\n",
    "plt.show()"
   ]
  },
  {
   "cell_type": "code",
   "execution_count": null,
   "metadata": {},
   "outputs": [],
   "source": []
  },
  {
   "cell_type": "markdown",
   "metadata": {},
   "source": [
    "# H3"
   ]
  },
  {
   "cell_type": "code",
   "execution_count": 108,
   "metadata": {},
   "outputs": [
    {
     "data": {
      "text/html": [
       "<div>\n",
       "<style scoped>\n",
       "    .dataframe tbody tr th:only-of-type {\n",
       "        vertical-align: middle;\n",
       "    }\n",
       "\n",
       "    .dataframe tbody tr th {\n",
       "        vertical-align: top;\n",
       "    }\n",
       "\n",
       "    .dataframe thead th {\n",
       "        text-align: right;\n",
       "    }\n",
       "</style>\n",
       "<table border=\"1\" class=\"dataframe\">\n",
       "  <thead>\n",
       "    <tr style=\"text-align: right;\">\n",
       "      <th></th>\n",
       "      <th>isocode</th>\n",
       "      <th>isonum</th>\n",
       "      <th>country</th>\n",
       "      <th>rugged</th>\n",
       "      <th>rugged_popw</th>\n",
       "      <th>rugged_slope</th>\n",
       "      <th>rugged_lsd</th>\n",
       "      <th>rugged_pc</th>\n",
       "      <th>land_area</th>\n",
       "      <th>lat</th>\n",
       "      <th>...</th>\n",
       "      <th>africa_region_w</th>\n",
       "      <th>africa_region_e</th>\n",
       "      <th>africa_region_c</th>\n",
       "      <th>slave_exports</th>\n",
       "      <th>dist_slavemkt_atlantic</th>\n",
       "      <th>dist_slavemkt_indian</th>\n",
       "      <th>dist_slavemkt_saharan</th>\n",
       "      <th>dist_slavemkt_redsea</th>\n",
       "      <th>pop_1400</th>\n",
       "      <th>european_descent</th>\n",
       "    </tr>\n",
       "  </thead>\n",
       "  <tbody>\n",
       "    <tr>\n",
       "      <th>0</th>\n",
       "      <td>ABW</td>\n",
       "      <td>533</td>\n",
       "      <td>Aruba</td>\n",
       "      <td>0.462</td>\n",
       "      <td>0.380</td>\n",
       "      <td>1.226</td>\n",
       "      <td>0.144</td>\n",
       "      <td>0.000</td>\n",
       "      <td>18.0</td>\n",
       "      <td>12.508</td>\n",
       "      <td>...</td>\n",
       "      <td>0</td>\n",
       "      <td>0</td>\n",
       "      <td>0</td>\n",
       "      <td>0.0</td>\n",
       "      <td>NaN</td>\n",
       "      <td>NaN</td>\n",
       "      <td>NaN</td>\n",
       "      <td>NaN</td>\n",
       "      <td>614.0</td>\n",
       "      <td>NaN</td>\n",
       "    </tr>\n",
       "    <tr>\n",
       "      <th>1</th>\n",
       "      <td>AFG</td>\n",
       "      <td>4</td>\n",
       "      <td>Afghanistan</td>\n",
       "      <td>2.518</td>\n",
       "      <td>1.469</td>\n",
       "      <td>7.414</td>\n",
       "      <td>0.720</td>\n",
       "      <td>39.004</td>\n",
       "      <td>65209.0</td>\n",
       "      <td>33.833</td>\n",
       "      <td>...</td>\n",
       "      <td>0</td>\n",
       "      <td>0</td>\n",
       "      <td>0</td>\n",
       "      <td>0.0</td>\n",
       "      <td>NaN</td>\n",
       "      <td>NaN</td>\n",
       "      <td>NaN</td>\n",
       "      <td>NaN</td>\n",
       "      <td>1870829.0</td>\n",
       "      <td>0.0</td>\n",
       "    </tr>\n",
       "  </tbody>\n",
       "</table>\n",
       "<p>2 rows × 51 columns</p>\n",
       "</div>"
      ],
      "text/plain": [
       "  isocode  isonum      country  rugged  rugged_popw  rugged_slope  rugged_lsd  \\\n",
       "0     ABW     533        Aruba   0.462        0.380         1.226       0.144   \n",
       "1     AFG       4  Afghanistan   2.518        1.469         7.414       0.720   \n",
       "\n",
       "   rugged_pc  land_area     lat  ...  africa_region_w  africa_region_e  \\\n",
       "0      0.000       18.0  12.508  ...                0                0   \n",
       "1     39.004    65209.0  33.833  ...                0                0   \n",
       "\n",
       "   africa_region_c  slave_exports  dist_slavemkt_atlantic  \\\n",
       "0                0            0.0                     NaN   \n",
       "1                0            0.0                     NaN   \n",
       "\n",
       "   dist_slavemkt_indian  dist_slavemkt_saharan  dist_slavemkt_redsea  \\\n",
       "0                   NaN                    NaN                   NaN   \n",
       "1                   NaN                    NaN                   NaN   \n",
       "\n",
       "    pop_1400  european_descent  \n",
       "0      614.0               NaN  \n",
       "1  1870829.0               0.0  \n",
       "\n",
       "[2 rows x 51 columns]"
      ]
     },
     "execution_count": 108,
     "metadata": {},
     "output_type": "execute_result"
    }
   ],
   "source": [
    "rugged = pd.read_csv('rugged.txt', sep=';')\n",
    "rugged.head(2)"
   ]
  },
  {
   "cell_type": "code",
   "execution_count": 109,
   "metadata": {},
   "outputs": [
    {
     "data": {
      "text/plain": [
       "(234, 51)"
      ]
     },
     "execution_count": 109,
     "metadata": {},
     "output_type": "execute_result"
    }
   ],
   "source": [
    "rugged.shape"
   ]
  },
  {
   "cell_type": "code",
   "execution_count": 110,
   "metadata": {},
   "outputs": [
    {
     "data": {
      "text/html": [
       "<div>\n",
       "<style scoped>\n",
       "    .dataframe tbody tr th:only-of-type {\n",
       "        vertical-align: middle;\n",
       "    }\n",
       "\n",
       "    .dataframe tbody tr th {\n",
       "        vertical-align: top;\n",
       "    }\n",
       "\n",
       "    .dataframe thead th {\n",
       "        text-align: right;\n",
       "    }\n",
       "</style>\n",
       "<table border=\"1\" class=\"dataframe\">\n",
       "  <thead>\n",
       "    <tr style=\"text-align: right;\">\n",
       "      <th></th>\n",
       "      <th>country</th>\n",
       "      <th>rgdppc_2000</th>\n",
       "      <th>rugged</th>\n",
       "      <th>cont_africa</th>\n",
       "    </tr>\n",
       "  </thead>\n",
       "  <tbody>\n",
       "    <tr>\n",
       "      <th>0</th>\n",
       "      <td>Aruba</td>\n",
       "      <td>NaN</td>\n",
       "      <td>0.462</td>\n",
       "      <td>0</td>\n",
       "    </tr>\n",
       "    <tr>\n",
       "      <th>1</th>\n",
       "      <td>Afghanistan</td>\n",
       "      <td>NaN</td>\n",
       "      <td>2.518</td>\n",
       "      <td>0</td>\n",
       "    </tr>\n",
       "  </tbody>\n",
       "</table>\n",
       "</div>"
      ],
      "text/plain": [
       "       country  rgdppc_2000  rugged  cont_africa\n",
       "0        Aruba          NaN   0.462            0\n",
       "1  Afghanistan          NaN   2.518            0"
      ]
     },
     "execution_count": 110,
     "metadata": {},
     "output_type": "execute_result"
    }
   ],
   "source": [
    "# pick out the columns that we need\n",
    "cols = ['country', 'rgdppc_2000', 'rugged', 'cont_africa']\n",
    "data = rugged[cols]\n",
    "data.head(2)"
   ]
  },
  {
   "cell_type": "code",
   "execution_count": 111,
   "metadata": {},
   "outputs": [
    {
     "data": {
      "text/plain": [
       "(64, 4)"
      ]
     },
     "execution_count": 111,
     "metadata": {},
     "output_type": "execute_result"
    }
   ],
   "source": [
    "data[data['rgdppc_2000'].isna()].shape"
   ]
  },
  {
   "cell_type": "code",
   "execution_count": 112,
   "metadata": {},
   "outputs": [
    {
     "data": {
      "text/plain": [
       "cont_africa\n",
       "0    56\n",
       "1     8\n",
       "dtype: int64"
      ]
     },
     "execution_count": 112,
     "metadata": {},
     "output_type": "execute_result"
    }
   ],
   "source": [
    "data[data['rgdppc_2000'].isna()].groupby('cont_africa').size()"
   ]
  },
  {
   "cell_type": "code",
   "execution_count": 113,
   "metadata": {},
   "outputs": [
    {
     "data": {
      "text/plain": [
       "(234, 4)"
      ]
     },
     "execution_count": 113,
     "metadata": {},
     "output_type": "execute_result"
    }
   ],
   "source": [
    "data.shape"
   ]
  },
  {
   "cell_type": "code",
   "execution_count": 114,
   "metadata": {},
   "outputs": [
    {
     "data": {
      "text/html": [
       "<div>\n",
       "<style scoped>\n",
       "    .dataframe tbody tr th:only-of-type {\n",
       "        vertical-align: middle;\n",
       "    }\n",
       "\n",
       "    .dataframe tbody tr th {\n",
       "        vertical-align: top;\n",
       "    }\n",
       "\n",
       "    .dataframe thead th {\n",
       "        text-align: right;\n",
       "    }\n",
       "</style>\n",
       "<table border=\"1\" class=\"dataframe\">\n",
       "  <thead>\n",
       "    <tr style=\"text-align: right;\">\n",
       "      <th></th>\n",
       "      <th>country</th>\n",
       "      <th>rgdppc_2000</th>\n",
       "      <th>rugged</th>\n",
       "      <th>cont_africa</th>\n",
       "    </tr>\n",
       "  </thead>\n",
       "  <tbody>\n",
       "    <tr>\n",
       "      <th>2</th>\n",
       "      <td>Angola</td>\n",
       "      <td>1794.729</td>\n",
       "      <td>0.858</td>\n",
       "      <td>1</td>\n",
       "    </tr>\n",
       "    <tr>\n",
       "      <th>4</th>\n",
       "      <td>Albania</td>\n",
       "      <td>3703.113</td>\n",
       "      <td>3.427</td>\n",
       "      <td>0</td>\n",
       "    </tr>\n",
       "  </tbody>\n",
       "</table>\n",
       "</div>"
      ],
      "text/plain": [
       "   country  rgdppc_2000  rugged  cont_africa\n",
       "2   Angola     1794.729   0.858            1\n",
       "4  Albania     3703.113   3.427            0"
      ]
     },
     "execution_count": 114,
     "metadata": {},
     "output_type": "execute_result"
    }
   ],
   "source": [
    "# drop the ones that we are missing\n",
    "data = data[~data['rgdppc_2000'].isna()]\n",
    "data.head(2)"
   ]
  },
  {
   "cell_type": "code",
   "execution_count": 115,
   "metadata": {},
   "outputs": [
    {
     "data": {
      "text/plain": [
       "(170, 4)"
      ]
     },
     "execution_count": 115,
     "metadata": {},
     "output_type": "execute_result"
    }
   ],
   "source": [
    "data.shape"
   ]
  },
  {
   "cell_type": "code",
   "execution_count": 25,
   "metadata": {},
   "outputs": [
    {
     "data": {
      "text/html": [
       "<div>\n",
       "<style scoped>\n",
       "    .dataframe tbody tr th:only-of-type {\n",
       "        vertical-align: middle;\n",
       "    }\n",
       "\n",
       "    .dataframe tbody tr th {\n",
       "        vertical-align: top;\n",
       "    }\n",
       "\n",
       "    .dataframe thead th {\n",
       "        text-align: right;\n",
       "    }\n",
       "</style>\n",
       "<table border=\"1\" class=\"dataframe\">\n",
       "  <thead>\n",
       "    <tr style=\"text-align: right;\">\n",
       "      <th></th>\n",
       "      <th>country</th>\n",
       "      <th>rgdppc_2000</th>\n",
       "      <th>rugged</th>\n",
       "      <th>cont_africa</th>\n",
       "    </tr>\n",
       "  </thead>\n",
       "  <tbody>\n",
       "  </tbody>\n",
       "</table>\n",
       "</div>"
      ],
      "text/plain": [
       "Empty DataFrame\n",
       "Columns: [country, rgdppc_2000, rugged, cont_africa]\n",
       "Index: []"
      ]
     },
     "execution_count": 25,
     "metadata": {},
     "output_type": "execute_result"
    }
   ],
   "source": [
    "data[data['rugged'].isna()]"
   ]
  },
  {
   "cell_type": "code",
   "execution_count": 26,
   "metadata": {},
   "outputs": [
    {
     "data": {
      "text/html": [
       "<div>\n",
       "<style scoped>\n",
       "    .dataframe tbody tr th:only-of-type {\n",
       "        vertical-align: middle;\n",
       "    }\n",
       "\n",
       "    .dataframe tbody tr th {\n",
       "        vertical-align: top;\n",
       "    }\n",
       "\n",
       "    .dataframe thead th {\n",
       "        text-align: right;\n",
       "    }\n",
       "</style>\n",
       "<table border=\"1\" class=\"dataframe\">\n",
       "  <thead>\n",
       "    <tr style=\"text-align: right;\">\n",
       "      <th></th>\n",
       "      <th>country</th>\n",
       "      <th>rgdppc_2000</th>\n",
       "      <th>rugged</th>\n",
       "      <th>cont_africa</th>\n",
       "    </tr>\n",
       "  </thead>\n",
       "  <tbody>\n",
       "  </tbody>\n",
       "</table>\n",
       "</div>"
      ],
      "text/plain": [
       "Empty DataFrame\n",
       "Columns: [country, rgdppc_2000, rugged, cont_africa]\n",
       "Index: []"
      ]
     },
     "execution_count": 26,
     "metadata": {},
     "output_type": "execute_result"
    }
   ],
   "source": [
    "data[data['cont_africa'].isna()]"
   ]
  },
  {
   "cell_type": "code",
   "execution_count": 27,
   "metadata": {},
   "outputs": [],
   "source": [
    "# log transform, use natural log to follow what the text did\n",
    "data['log_gdp'] = data['rgdppc_2000'].apply(lambda x: np.log(x))"
   ]
  },
  {
   "cell_type": "code",
   "execution_count": 28,
   "metadata": {
    "scrolled": true
   },
   "outputs": [
    {
     "data": {
      "text/html": [
       "<div>\n",
       "<style scoped>\n",
       "    .dataframe tbody tr th:only-of-type {\n",
       "        vertical-align: middle;\n",
       "    }\n",
       "\n",
       "    .dataframe tbody tr th {\n",
       "        vertical-align: top;\n",
       "    }\n",
       "\n",
       "    .dataframe thead th {\n",
       "        text-align: right;\n",
       "    }\n",
       "</style>\n",
       "<table border=\"1\" class=\"dataframe\">\n",
       "  <thead>\n",
       "    <tr style=\"text-align: right;\">\n",
       "      <th></th>\n",
       "      <th>country</th>\n",
       "      <th>rgdppc_2000</th>\n",
       "      <th>rugged</th>\n",
       "      <th>cont_africa</th>\n",
       "      <th>log_gdp</th>\n",
       "    </tr>\n",
       "  </thead>\n",
       "  <tbody>\n",
       "    <tr>\n",
       "      <th>2</th>\n",
       "      <td>Angola</td>\n",
       "      <td>1794.729</td>\n",
       "      <td>0.858</td>\n",
       "      <td>1</td>\n",
       "      <td>7.492609</td>\n",
       "    </tr>\n",
       "    <tr>\n",
       "      <th>4</th>\n",
       "      <td>Albania</td>\n",
       "      <td>3703.113</td>\n",
       "      <td>3.427</td>\n",
       "      <td>0</td>\n",
       "      <td>8.216929</td>\n",
       "    </tr>\n",
       "  </tbody>\n",
       "</table>\n",
       "</div>"
      ],
      "text/plain": [
       "   country  rgdppc_2000  rugged  cont_africa   log_gdp\n",
       "2   Angola     1794.729   0.858            1  7.492609\n",
       "4  Albania     3703.113   3.427            0  8.216929"
      ]
     },
     "execution_count": 28,
     "metadata": {},
     "output_type": "execute_result"
    }
   ],
   "source": [
    "data.head(2)"
   ]
  },
  {
   "cell_type": "code",
   "execution_count": 29,
   "metadata": {},
   "outputs": [
    {
     "data": {
      "text/html": [
       "<div>\n",
       "<style scoped>\n",
       "    .dataframe tbody tr th:only-of-type {\n",
       "        vertical-align: middle;\n",
       "    }\n",
       "\n",
       "    .dataframe tbody tr th {\n",
       "        vertical-align: top;\n",
       "    }\n",
       "\n",
       "    .dataframe thead th {\n",
       "        text-align: right;\n",
       "    }\n",
       "</style>\n",
       "<table border=\"1\" class=\"dataframe\">\n",
       "  <thead>\n",
       "    <tr style=\"text-align: right;\">\n",
       "      <th></th>\n",
       "      <th>country</th>\n",
       "      <th>rgdppc_2000</th>\n",
       "      <th>rugged</th>\n",
       "      <th>cont_africa</th>\n",
       "      <th>log_gdp</th>\n",
       "    </tr>\n",
       "  </thead>\n",
       "  <tbody>\n",
       "    <tr>\n",
       "      <th>198</th>\n",
       "      <td>Seychelles</td>\n",
       "      <td>17957.47</td>\n",
       "      <td>4.885</td>\n",
       "      <td>1</td>\n",
       "      <td>9.795761</td>\n",
       "    </tr>\n",
       "  </tbody>\n",
       "</table>\n",
       "</div>"
      ],
      "text/plain": [
       "        country  rgdppc_2000  rugged  cont_africa   log_gdp\n",
       "198  Seychelles     17957.47   4.885            1  9.795761"
      ]
     },
     "execution_count": 29,
     "metadata": {},
     "output_type": "execute_result"
    }
   ],
   "source": [
    "# this problem will be looking at Seychelles, make sure we have it\n",
    "data[data['country'].str.contains('Seych')]"
   ]
  },
  {
   "cell_type": "code",
   "execution_count": 30,
   "metadata": {},
   "outputs": [],
   "source": [
    "data['is_seych'] = data['country'].apply(lambda x: '1' if 'Seych' in x else '0')\n",
    "data['is_africa'] = data['cont_africa'].apply(lambda x: '1' if x == 1 else '0')"
   ]
  },
  {
   "cell_type": "code",
   "execution_count": 31,
   "metadata": {},
   "outputs": [
    {
     "data": {
      "text/html": [
       "<div>\n",
       "<style scoped>\n",
       "    .dataframe tbody tr th:only-of-type {\n",
       "        vertical-align: middle;\n",
       "    }\n",
       "\n",
       "    .dataframe tbody tr th {\n",
       "        vertical-align: top;\n",
       "    }\n",
       "\n",
       "    .dataframe thead th {\n",
       "        text-align: right;\n",
       "    }\n",
       "</style>\n",
       "<table border=\"1\" class=\"dataframe\">\n",
       "  <thead>\n",
       "    <tr style=\"text-align: right;\">\n",
       "      <th></th>\n",
       "      <th>country</th>\n",
       "      <th>rgdppc_2000</th>\n",
       "      <th>rugged</th>\n",
       "      <th>cont_africa</th>\n",
       "      <th>log_gdp</th>\n",
       "      <th>is_seych</th>\n",
       "      <th>is_africa</th>\n",
       "    </tr>\n",
       "  </thead>\n",
       "  <tbody>\n",
       "    <tr>\n",
       "      <th>2</th>\n",
       "      <td>Angola</td>\n",
       "      <td>1794.729</td>\n",
       "      <td>0.858</td>\n",
       "      <td>1</td>\n",
       "      <td>7.492609</td>\n",
       "      <td>0</td>\n",
       "      <td>1</td>\n",
       "    </tr>\n",
       "    <tr>\n",
       "      <th>4</th>\n",
       "      <td>Albania</td>\n",
       "      <td>3703.113</td>\n",
       "      <td>3.427</td>\n",
       "      <td>0</td>\n",
       "      <td>8.216929</td>\n",
       "      <td>0</td>\n",
       "      <td>0</td>\n",
       "    </tr>\n",
       "  </tbody>\n",
       "</table>\n",
       "</div>"
      ],
      "text/plain": [
       "   country  rgdppc_2000  rugged  cont_africa   log_gdp is_seych is_africa\n",
       "2   Angola     1794.729   0.858            1  7.492609        0         1\n",
       "4  Albania     3703.113   3.427            0  8.216929        0         0"
      ]
     },
     "execution_count": 31,
     "metadata": {},
     "output_type": "execute_result"
    }
   ],
   "source": [
    "data.head(2)"
   ]
  },
  {
   "cell_type": "code",
   "execution_count": 32,
   "metadata": {},
   "outputs": [
    {
     "data": {
      "text/html": [
       "<div>\n",
       "<style scoped>\n",
       "    .dataframe tbody tr th:only-of-type {\n",
       "        vertical-align: middle;\n",
       "    }\n",
       "\n",
       "    .dataframe tbody tr th {\n",
       "        vertical-align: top;\n",
       "    }\n",
       "\n",
       "    .dataframe thead th {\n",
       "        text-align: right;\n",
       "    }\n",
       "</style>\n",
       "<table border=\"1\" class=\"dataframe\">\n",
       "  <thead>\n",
       "    <tr style=\"text-align: right;\">\n",
       "      <th></th>\n",
       "      <th>country</th>\n",
       "      <th>rgdppc_2000</th>\n",
       "      <th>rugged</th>\n",
       "      <th>cont_africa</th>\n",
       "      <th>log_gdp</th>\n",
       "      <th>is_seych</th>\n",
       "      <th>is_africa</th>\n",
       "    </tr>\n",
       "  </thead>\n",
       "  <tbody>\n",
       "    <tr>\n",
       "      <th>198</th>\n",
       "      <td>Seychelles</td>\n",
       "      <td>17957.47</td>\n",
       "      <td>4.885</td>\n",
       "      <td>1</td>\n",
       "      <td>9.795761</td>\n",
       "      <td>1</td>\n",
       "      <td>1</td>\n",
       "    </tr>\n",
       "  </tbody>\n",
       "</table>\n",
       "</div>"
      ],
      "text/plain": [
       "        country  rgdppc_2000  rugged  cont_africa   log_gdp is_seych is_africa\n",
       "198  Seychelles     17957.47   4.885            1  9.795761        1         1"
      ]
     },
     "execution_count": 32,
     "metadata": {},
     "output_type": "execute_result"
    }
   ],
   "source": [
    "data[data['country'].str.contains('Seych')]"
   ]
  },
  {
   "cell_type": "code",
   "execution_count": 33,
   "metadata": {},
   "outputs": [],
   "source": [
    "data['cont_africa'] = data['cont_africa']"
   ]
  },
  {
   "cell_type": "code",
   "execution_count": 34,
   "metadata": {},
   "outputs": [
    {
     "data": {
      "text/html": [
       "\n",
       "<div id=\"altair-viz-36e2e0264af64a3794f88cc8c5f98847\"></div>\n",
       "<script type=\"text/javascript\">\n",
       "  (function(spec, embedOpt){\n",
       "    let outputDiv = document.currentScript.previousElementSibling;\n",
       "    if (outputDiv.id !== \"altair-viz-36e2e0264af64a3794f88cc8c5f98847\") {\n",
       "      outputDiv = document.getElementById(\"altair-viz-36e2e0264af64a3794f88cc8c5f98847\");\n",
       "    }\n",
       "    const paths = {\n",
       "      \"vega\": \"https://cdn.jsdelivr.net/npm//vega@5?noext\",\n",
       "      \"vega-lib\": \"https://cdn.jsdelivr.net/npm//vega-lib?noext\",\n",
       "      \"vega-lite\": \"https://cdn.jsdelivr.net/npm//vega-lite@4.8.1?noext\",\n",
       "      \"vega-embed\": \"https://cdn.jsdelivr.net/npm//vega-embed@6?noext\",\n",
       "    };\n",
       "\n",
       "    function loadScript(lib) {\n",
       "      return new Promise(function(resolve, reject) {\n",
       "        var s = document.createElement('script');\n",
       "        s.src = paths[lib];\n",
       "        s.async = true;\n",
       "        s.onload = () => resolve(paths[lib]);\n",
       "        s.onerror = () => reject(`Error loading script: ${paths[lib]}`);\n",
       "        document.getElementsByTagName(\"head\")[0].appendChild(s);\n",
       "      });\n",
       "    }\n",
       "\n",
       "    function showError(err) {\n",
       "      outputDiv.innerHTML = `<div class=\"error\" style=\"color:red;\">${err}</div>`;\n",
       "      throw err;\n",
       "    }\n",
       "\n",
       "    function displayChart(vegaEmbed) {\n",
       "      vegaEmbed(outputDiv, spec, embedOpt)\n",
       "        .catch(err => showError(`Javascript Error: ${err.message}<br>This usually means there's a typo in your chart specification. See the javascript console for the full traceback.`));\n",
       "    }\n",
       "\n",
       "    if(typeof define === \"function\" && define.amd) {\n",
       "      requirejs.config({paths});\n",
       "      require([\"vega-embed\"], displayChart, err => showError(`Error loading script: ${err.message}`));\n",
       "    } else if (typeof vegaEmbed === \"function\") {\n",
       "      displayChart(vegaEmbed);\n",
       "    } else {\n",
       "      loadScript(\"vega\")\n",
       "        .then(() => loadScript(\"vega-lite\"))\n",
       "        .then(() => loadScript(\"vega-embed\"))\n",
       "        .catch(showError)\n",
       "        .then(() => displayChart(vegaEmbed));\n",
       "    }\n",
       "  })({\"config\": {\"view\": {\"continuousWidth\": 400, \"continuousHeight\": 300}}, \"data\": {\"name\": \"data-0300083a9a0de579be3f221384d41322\"}, \"mark\": {\"type\": \"point\", \"size\": 200}, \"encoding\": {\"fill\": {\"type\": \"nominal\", \"field\": \"is_africa\"}, \"shape\": {\"type\": \"nominal\", \"field\": \"is_seych\"}, \"x\": {\"type\": \"quantitative\", \"field\": \"rugged\"}, \"y\": {\"type\": \"quantitative\", \"field\": \"log_gdp\", \"scale\": {\"domain\": [5, 12]}}}, \"height\": 333, \"width\": 333, \"$schema\": \"https://vega.github.io/schema/vega-lite/v4.8.1.json\", \"datasets\": {\"data-0300083a9a0de579be3f221384d41322\": [{\"country\": \"Angola\", \"rgdppc_2000\": 1794.729, \"rugged\": 0.858, \"cont_africa\": 1, \"log_gdp\": 7.492609314594155, \"is_seych\": \"0\", \"is_africa\": \"1\"}, {\"country\": \"Albania\", \"rgdppc_2000\": 3703.113, \"rugged\": 3.427, \"cont_africa\": 0, \"log_gdp\": 8.216929096246016, \"is_seych\": \"0\", \"is_africa\": \"0\"}, {\"country\": \"United Arab Emirates\", \"rgdppc_2000\": 20604.46, \"rugged\": 0.769, \"cont_africa\": 0, \"log_gdp\": 9.933262836198248, \"is_seych\": \"0\", \"is_africa\": \"0\"}, {\"country\": \"Argentina\", \"rgdppc_2000\": 12173.68, \"rugged\": 0.775, \"cont_africa\": 0, \"log_gdp\": 9.407031523181868, \"is_seych\": \"0\", \"is_africa\": \"0\"}, {\"country\": \"Armenia\", \"rgdppc_2000\": 2421.985, \"rugged\": 2.688, \"cont_africa\": 0, \"log_gdp\": 7.792342730865123, \"is_seych\": \"0\", \"is_africa\": \"0\"}, {\"country\": \"Antigua and Barbuda\", \"rgdppc_2000\": 10022.03, \"rugged\": 0.006, \"cont_africa\": 0, \"log_gdp\": 9.212540948929679, \"is_seych\": \"0\", \"is_africa\": \"0\"}, {\"country\": \"Australia\", \"rgdppc_2000\": 25417.44, \"rugged\": 0.14300000000000002, \"cont_africa\": 0, \"log_gdp\": 10.143190831568187, \"is_seych\": \"0\", \"is_africa\": \"0\"}, {\"country\": \"Austria\", \"rgdppc_2000\": 28987.84, \"rugged\": 3.513, \"cont_africa\": 0, \"log_gdp\": 10.274631710688618, \"is_seych\": \"0\", \"is_africa\": \"0\"}, {\"country\": \"Azerbaijan\", \"rgdppc_2000\": 2570.944, \"rugged\": 1.672, \"cont_africa\": 0, \"log_gdp\": 7.8520284256206585, \"is_seych\": \"0\", \"is_africa\": \"0\"}, {\"country\": \"Burundi\", \"rgdppc_2000\": 621.6519999999999, \"rugged\": 1.78, \"cont_africa\": 1, \"log_gdp\": 6.432380450638202, \"is_seych\": \"0\", \"is_africa\": \"1\"}, {\"country\": \"Belgium\", \"rgdppc_2000\": 27302.99, \"rugged\": 0.38799999999999996, \"cont_africa\": 0, \"log_gdp\": 10.214751498985281, \"is_seych\": \"0\", \"is_africa\": \"0\"}, {\"country\": \"Benin\", \"rgdppc_2000\": 959.222, \"rugged\": 0.141, \"cont_africa\": 1, \"log_gdp\": 6.8661225392301, \"is_seych\": \"0\", \"is_africa\": \"1\"}, {\"country\": \"Burkina Faso\", \"rgdppc_2000\": 998.416, \"rugged\": 0.23600000000000002, \"cont_africa\": 1, \"log_gdp\": 6.90617002312778, \"is_seych\": \"0\", \"is_africa\": \"1\"}, {\"country\": \"Bangladesh\", \"rgdppc_2000\": 1479.086, \"rugged\": 0.18600000000000003, \"cont_africa\": 0, \"log_gdp\": 7.299179608417195, \"is_seych\": \"0\", \"is_africa\": \"0\"}, {\"country\": \"Bulgaria\", \"rgdppc_2000\": 5979.170999999999, \"rugged\": 1.479, \"cont_africa\": 0, \"log_gdp\": 8.69603720857228, \"is_seych\": \"0\", \"is_africa\": \"0\"}, {\"country\": \"Bahrain\", \"rgdppc_2000\": 15928.09, \"rugged\": 0.231, \"cont_africa\": 0, \"log_gdp\": 9.675839496154989, \"is_seych\": \"0\", \"is_africa\": \"0\"}, {\"country\": \"Bahamas\", \"rgdppc_2000\": 16977.2, \"rugged\": 0.055, \"cont_africa\": 0, \"log_gdp\": 9.739626546385644, \"is_seych\": \"0\", \"is_africa\": \"0\"}, {\"country\": \"Bosnia and Herzegovina\", \"rgdppc_2000\": 5294.975, \"rugged\": 2.311, \"cont_africa\": 0, \"log_gdp\": 8.574513536589045, \"is_seych\": \"0\", \"is_africa\": \"0\"}, {\"country\": \"Belarus\", \"rgdppc_2000\": 4802.11, \"rugged\": 0.16399999999999998, \"cont_africa\": 0, \"log_gdp\": 8.476810683640867, \"is_seych\": \"0\", \"is_africa\": \"0\"}, {\"country\": \"Belize\", \"rgdppc_2000\": 5869.233, \"rugged\": 0.607, \"cont_africa\": 0, \"log_gdp\": 8.677479239889577, \"is_seych\": \"0\", \"is_africa\": \"0\"}, {\"country\": \"Bolivia\", \"rgdppc_2000\": 2398.855, \"rugged\": 0.853, \"cont_africa\": 0, \"log_gdp\": 7.7827468191622415, \"is_seych\": \"0\", \"is_africa\": \"0\"}, {\"country\": \"Brazil\", \"rgdppc_2000\": 7300.865, \"rugged\": 0.24, \"cont_africa\": 0, \"log_gdp\": 8.895748113267409, \"is_seych\": \"0\", \"is_africa\": \"0\"}, {\"country\": \"Barbados\", \"rgdppc_2000\": 15290.579, \"rugged\": 0.963, \"cont_africa\": 0, \"log_gdp\": 9.634992166093646, \"is_seych\": \"0\", \"is_africa\": \"0\"}, {\"country\": \"Botswana\", \"rgdppc_2000\": 7702.508000000001, \"rugged\": 0.18100000000000002, \"cont_africa\": 1, \"log_gdp\": 8.949301269094107, \"is_seych\": \"0\", \"is_africa\": \"1\"}, {\"country\": \"Central African Republic\", \"rgdppc_2000\": 1148.0510000000002, \"rugged\": 0.19699999999999998, \"cont_africa\": 1, \"log_gdp\": 7.0458210009798545, \"is_seych\": \"0\", \"is_africa\": \"1\"}, {\"country\": \"Canada\", \"rgdppc_2000\": 27289.26, \"rugged\": 0.775, \"cont_africa\": 0, \"log_gdp\": 10.21424849717497, \"is_seych\": \"0\", \"is_africa\": \"0\"}, {\"country\": \"Switzerland\", \"rgdppc_2000\": 30161.29, \"rugged\": 4.761, \"cont_africa\": 0, \"log_gdp\": 10.31431459309049, \"is_seych\": \"0\", \"is_africa\": \"0\"}, {\"country\": \"Chile\", \"rgdppc_2000\": 9115.475, \"rugged\": 2.481, \"cont_africa\": 0, \"log_gdp\": 9.117728797658442, \"is_seych\": \"0\", \"is_africa\": \"0\"}, {\"country\": \"China\", \"rgdppc_2000\": 3928.315, \"rugged\": 1.8780000000000001, \"cont_africa\": 0, \"log_gdp\": 8.275965859741719, \"is_seych\": \"0\", \"is_africa\": \"0\"}, {\"country\": \"Cote d'Ivoire\", \"rgdppc_2000\": 1575.628, \"rugged\": 0.22399999999999998, \"cont_africa\": 1, \"log_gdp\": 7.362409201946718, \"is_seych\": \"0\", \"is_africa\": \"1\"}, {\"country\": \"Cameroon\", \"rgdppc_2000\": 1882.6870000000001, \"rugged\": 0.515, \"cont_africa\": 1, \"log_gdp\": 7.540455290729932, \"is_seych\": \"0\", \"is_africa\": \"1\"}, {\"country\": \"Democratic Republic of the Congo\", \"rgdppc_2000\": 668.663, \"rugged\": 0.44299999999999995, \"cont_africa\": 1, \"log_gdp\": 6.505280196289385, \"is_seych\": \"0\", \"is_africa\": \"1\"}, {\"country\": \"Congo\", \"rgdppc_2000\": 957.403, \"rugged\": 0.152, \"cont_africa\": 1, \"log_gdp\": 6.864224410440025, \"is_seych\": \"0\", \"is_africa\": \"1\"}, {\"country\": \"Colombia\", \"rgdppc_2000\": 6243.656, \"rugged\": 0.885, \"cont_africa\": 0, \"log_gdp\": 8.73932118722848, \"is_seych\": \"0\", \"is_africa\": \"0\"}, {\"country\": \"Comoros\", \"rgdppc_2000\": 1770.2179999999998, \"rugged\": 3.3280000000000003, \"cont_africa\": 1, \"log_gdp\": 7.478857981825639, \"is_seych\": \"0\", \"is_africa\": \"1\"}, {\"country\": \"Cape Verde\", \"rgdppc_2000\": 4859.108, \"rugged\": 2.367, \"cont_africa\": 1, \"log_gdp\": 8.48861016095453, \"is_seych\": \"0\", \"is_africa\": \"1\"}, {\"country\": \"Costa Rica\", \"rgdppc_2000\": 8621.291, \"rugged\": 2.112, \"cont_africa\": 0, \"log_gdp\": 9.061990120425072, \"is_seych\": \"0\", \"is_africa\": \"0\"}, {\"country\": \"Cyprus\", \"rgdppc_2000\": 20318.0, \"rugged\": 2.718, \"cont_africa\": 0, \"log_gdp\": 9.919262471651491, \"is_seych\": \"0\", \"is_africa\": \"0\"}, {\"country\": \"Czech Republic\", \"rgdppc_2000\": 15373.23, \"rugged\": 0.884, \"cont_africa\": 0, \"log_gdp\": 9.640382964096458, \"is_seych\": \"0\", \"is_africa\": \"0\"}, {\"country\": \"Germany\", \"rgdppc_2000\": 25481.43, \"rugged\": 0.597, \"cont_africa\": 0, \"log_gdp\": 10.145705230560274, \"is_seych\": \"0\", \"is_africa\": \"0\"}, {\"country\": \"Djibouti\", \"rgdppc_2000\": 1881.967, \"rugged\": 2.432, \"cont_africa\": 1, \"log_gdp\": 7.540072785453868, \"is_seych\": \"0\", \"is_africa\": \"1\"}, {\"country\": \"Dominica\", \"rgdppc_2000\": 5931.715, \"rugged\": 0.003, \"cont_africa\": 0, \"log_gdp\": 8.688068657599265, \"is_seych\": \"0\", \"is_africa\": \"0\"}, {\"country\": \"Denmark\", \"rgdppc_2000\": 28750.61, \"rugged\": 0.18899999999999997, \"cont_africa\": 0, \"log_gdp\": 10.266414263391715, \"is_seych\": \"0\", \"is_africa\": \"0\"}, {\"country\": \"Dominican Republic\", \"rgdppc_2000\": 6410.803000000001, \"rugged\": 1.641, \"cont_africa\": 0, \"log_gdp\": 8.765739815079629, \"is_seych\": \"0\", \"is_africa\": \"0\"}, {\"country\": \"Algeria\", \"rgdppc_2000\": 5417.91, \"rugged\": 0.51, \"cont_africa\": 1, \"log_gdp\": 8.59746541121139, \"is_seych\": \"0\", \"is_africa\": \"1\"}, {\"country\": \"Ecuador\", \"rgdppc_2000\": 3373.415, \"rugged\": 1.278, \"cont_africa\": 0, \"log_gdp\": 8.123680863366468, \"is_seych\": \"0\", \"is_africa\": \"0\"}, {\"country\": \"Egypt\", \"rgdppc_2000\": 3598.329, \"rugged\": 0.723, \"cont_africa\": 1, \"log_gdp\": 8.188224850018841, \"is_seych\": \"0\", \"is_africa\": \"1\"}, {\"country\": \"Eritrea\", \"rgdppc_2000\": 911.8839999999999, \"rugged\": 2.481, \"cont_africa\": 1, \"log_gdp\": 6.815512789002161, \"is_seych\": \"0\", \"is_africa\": \"1\"}, {\"country\": \"Spain\", \"rgdppc_2000\": 21764.83, \"rugged\": 1.689, \"cont_africa\": 0, \"log_gdp\": 9.988050643250634, \"is_seych\": \"0\", \"is_africa\": \"0\"}, {\"country\": \"Estonia\", \"rgdppc_2000\": 9762.76, \"rugged\": 0.12300000000000001, \"cont_africa\": 0, \"log_gdp\": 9.18633042631571, \"is_seych\": \"0\", \"is_africa\": \"0\"}, {\"country\": \"Ethiopia\", \"rgdppc_2000\": 635.794, \"rugged\": 1.57, \"cont_africa\": 1, \"log_gdp\": 6.454874611502322, \"is_seych\": \"0\", \"is_africa\": \"1\"}, {\"country\": \"Finland\", \"rgdppc_2000\": 25553.88, \"rugged\": 0.32799999999999996, \"cont_africa\": 0, \"log_gdp\": 10.14854444320223, \"is_seych\": \"0\", \"is_africa\": \"0\"}, {\"country\": \"Fiji\", \"rgdppc_2000\": 4949.898, \"rugged\": 1.396, \"cont_africa\": 0, \"log_gdp\": 8.507122249289822, \"is_seych\": \"0\", \"is_africa\": \"0\"}, {\"country\": \"France\", \"rgdppc_2000\": 25698.01, \"rugged\": 1.0979999999999999, \"cont_africa\": 0, \"log_gdp\": 10.154168835978691, \"is_seych\": \"0\", \"is_africa\": \"0\"}, {\"country\": \"Gabon\", \"rgdppc_2000\": 6118.661999999999, \"rugged\": 0.218, \"cont_africa\": 1, \"log_gdp\": 8.719098724152927, \"is_seych\": \"0\", \"is_africa\": \"1\"}, {\"country\": \"United Kingdom of Great Britain and Northern Ireland\", \"rgdppc_2000\": 26332.05, \"rugged\": 0.568, \"cont_africa\": 0, \"log_gdp\": 10.178542107416286, \"is_seych\": \"0\", \"is_africa\": \"0\"}, {\"country\": \"Georgia\", \"rgdppc_2000\": 1880.45, \"rugged\": 3.659, \"cont_africa\": 0, \"log_gdp\": 7.539266388883681, \"is_seych\": \"0\", \"is_africa\": \"0\"}, {\"country\": \"Ghana\", \"rgdppc_2000\": 1892.808, \"rugged\": 0.228, \"cont_africa\": 1, \"log_gdp\": 7.5458167197578785, \"is_seych\": \"0\", \"is_africa\": \"1\"}, {\"country\": \"Guinea\", \"rgdppc_2000\": 1975.7939999999999, \"rugged\": 0.74, \"cont_africa\": 1, \"log_gdp\": 7.588725621861153, \"is_seych\": \"0\", \"is_africa\": \"1\"}, {\"country\": \"Gambia\", \"rgdppc_2000\": 1728.1979999999999, \"rugged\": 0.353, \"cont_africa\": 1, \"log_gdp\": 7.454834526133165, \"is_seych\": \"0\", \"is_africa\": \"1\"}, {\"country\": \"Guinea-Bissau\", \"rgdppc_2000\": 782.477, \"rugged\": 0.491, \"cont_africa\": 1, \"log_gdp\": 6.66246452901108, \"is_seych\": \"0\", \"is_africa\": \"1\"}, {\"country\": \"Equatorial Guinea\", \"rgdppc_2000\": 15189.54, \"rugged\": 0.5589999999999999, \"cont_africa\": 1, \"log_gdp\": 9.628362312050303, \"is_seych\": \"0\", \"is_africa\": \"1\"}, {\"country\": \"Greece\", \"rgdppc_2000\": 17391.74, \"rugged\": 3.103, \"cont_africa\": 0, \"log_gdp\": 9.763750659847224, \"is_seych\": \"0\", \"is_africa\": \"0\"}, {\"country\": \"Grenada\", \"rgdppc_2000\": 7536.395, \"rugged\": 2.088, \"cont_africa\": 0, \"log_gdp\": 8.927499229956886, \"is_seych\": \"0\", \"is_africa\": \"0\"}, {\"country\": \"Guatemala\", \"rgdppc_2000\": 3974.407, \"rugged\": 1.807, \"cont_africa\": 0, \"log_gdp\": 8.287630833569695, \"is_seych\": \"0\", \"is_africa\": \"0\"}, {\"country\": \"Guyana\", \"rgdppc_2000\": 4072.1659999999997, \"rugged\": 0.273, \"cont_africa\": 0, \"log_gdp\": 8.31193032360769, \"is_seych\": \"0\", \"is_africa\": \"0\"}, {\"country\": \"Hong Kong Special Administrative Region of China\", \"rgdppc_2000\": 25795.83, \"rugged\": 2.501, \"cont_africa\": 0, \"log_gdp\": 10.157968129939535, \"is_seych\": \"0\", \"is_africa\": \"0\"}, {\"country\": \"Honduras\", \"rgdppc_2000\": 2506.231, \"rugged\": 2.15, \"cont_africa\": 0, \"log_gdp\": 7.826535309978762, \"is_seych\": \"0\", \"is_africa\": \"0\"}, {\"country\": \"Croatia\", \"rgdppc_2000\": 9545.475, \"rugged\": 1.2670000000000001, \"cont_africa\": 0, \"log_gdp\": 9.163822499196137, \"is_seych\": \"0\", \"is_africa\": \"0\"}, {\"country\": \"Haiti\", \"rgdppc_2000\": 1798.406, \"rugged\": 2.362, \"cont_africa\": 0, \"log_gdp\": 7.494655995992739, \"is_seych\": \"0\", \"is_africa\": \"0\"}, {\"country\": \"Hungary\", \"rgdppc_2000\": 13223.63, \"rugged\": 0.34600000000000003, \"cont_africa\": 0, \"log_gdp\": 9.489760659678092, \"is_seych\": \"0\", \"is_africa\": \"0\"}, {\"country\": \"Indonesia\", \"rgdppc_2000\": 3028.2740000000003, \"rugged\": 0.9670000000000001, \"cont_africa\": 0, \"log_gdp\": 8.015748099234944, \"is_seych\": \"0\", \"is_africa\": \"0\"}, {\"country\": \"India\", \"rgdppc_2000\": 2415.093, \"rugged\": 1.013, \"cont_africa\": 0, \"log_gdp\": 7.789493074661978, \"is_seych\": \"0\", \"is_africa\": \"0\"}, {\"country\": \"Ireland\", \"rgdppc_2000\": 30532.31, \"rugged\": 0.513, \"cont_africa\": 0, \"log_gdp\": 10.32654074614862, \"is_seych\": \"0\", \"is_africa\": \"0\"}, {\"country\": \"Iran; Islamic Republic of\", \"rgdppc_2000\": 5826.672, \"rugged\": 2.445, \"cont_africa\": 0, \"log_gdp\": 8.670201275872806, \"is_seych\": \"0\", \"is_africa\": \"0\"}, {\"country\": \"Iceland\", \"rgdppc_2000\": 28929.43, \"rugged\": 1.472, \"cont_africa\": 0, \"log_gdp\": 10.27261469504535, \"is_seych\": \"0\", \"is_africa\": \"0\"}, {\"country\": \"Israel\", \"rgdppc_2000\": 23857.94, \"rugged\": 1.705, \"cont_africa\": 0, \"log_gdp\": 10.079872354959024, \"is_seych\": \"0\", \"is_africa\": \"0\"}, {\"country\": \"Italy\", \"rgdppc_2000\": 24994.66, \"rugged\": 2.458, \"cont_africa\": 0, \"log_gdp\": 10.12641748103461, \"is_seych\": \"0\", \"is_africa\": \"0\"}, {\"country\": \"Jamaica\", \"rgdppc_2000\": 3650.39, \"rugged\": 1.788, \"cont_africa\": 0, \"log_gdp\": 8.202589290183624, \"is_seych\": \"0\", \"is_africa\": \"0\"}, {\"country\": \"Jordan\", \"rgdppc_2000\": 3846.6940000000004, \"rugged\": 1.097, \"cont_africa\": 0, \"log_gdp\": 8.254969357087973, \"is_seych\": \"0\", \"is_africa\": \"0\"}, {\"country\": \"Japan\", \"rgdppc_2000\": 26219.79, \"rugged\": 2.1319999999999997, \"cont_africa\": 0, \"log_gdp\": 10.1742697481323, \"is_seych\": \"0\", \"is_africa\": \"0\"}, {\"country\": \"Kazakhstan\", \"rgdppc_2000\": 4594.435, \"rugged\": 0.37200000000000005, \"cont_africa\": 0, \"log_gdp\": 8.432601067490772, \"is_seych\": \"0\", \"is_africa\": \"0\"}, {\"country\": \"Kenya\", \"rgdppc_2000\": 1018.7310000000001, \"rugged\": 0.669, \"cont_africa\": 1, \"log_gdp\": 6.926313014074405, \"is_seych\": \"0\", \"is_africa\": \"1\"}, {\"country\": \"Kyrgyzstan\", \"rgdppc_2000\": 1560.0, \"rugged\": 4.287, \"cont_africa\": 0, \"log_gdp\": 7.352441100243583, \"is_seych\": \"0\", \"is_africa\": \"0\"}, {\"country\": \"Cambodia\", \"rgdppc_2000\": 1859.0629999999999, \"rugged\": 0.54, \"cont_africa\": 0, \"log_gdp\": 7.527827876334953, \"is_seych\": \"0\", \"is_africa\": \"0\"}, {\"country\": \"Saint Kitts and Nevis\", \"rgdppc_2000\": 11224.7, \"rugged\": 0.006, \"cont_africa\": 0, \"log_gdp\": 9.325871986195402, \"is_seych\": \"0\", \"is_africa\": \"0\"}, {\"country\": \"Republic of Korea\", \"rgdppc_2000\": 16172.41, \"rugged\": 1.96, \"cont_africa\": 0, \"log_gdp\": 9.691061982900337, \"is_seych\": \"0\", \"is_africa\": \"0\"}, {\"country\": \"Kuwait\", \"rgdppc_2000\": 15958.92, \"rugged\": 0.245, \"cont_africa\": 0, \"log_gdp\": 9.677773199541205, \"is_seych\": \"0\", \"is_africa\": \"0\"}, {\"country\": \"Lao People's Democratic Republic\", \"rgdppc_2000\": 1569.901, \"rugged\": 2.553, \"cont_africa\": 0, \"log_gdp\": 7.3587678390293165, \"is_seych\": \"0\", \"is_africa\": \"0\"}, {\"country\": \"Lebanon\", \"rgdppc_2000\": 4216.305, \"rugged\": 4.197, \"cont_africa\": 0, \"log_gdp\": 8.346714431058047, \"is_seych\": \"0\", \"is_africa\": \"0\"}, {\"country\": \"Saint Lucia\", \"rgdppc_2000\": 5620.647, \"rugged\": 2.147, \"cont_africa\": 0, \"log_gdp\": 8.634202060816573, \"is_seych\": \"0\", \"is_africa\": \"0\"}, {\"country\": \"Sri Lanka\", \"rgdppc_2000\": 3625.534, \"rugged\": 0.65, \"cont_africa\": 0, \"log_gdp\": 8.1957568667845, \"is_seych\": \"0\", \"is_africa\": \"0\"}, {\"country\": \"Lesotho\", \"rgdppc_2000\": 2122.544, \"rugged\": 6.202000000000001, \"cont_africa\": 1, \"log_gdp\": 7.66037064824154, \"is_seych\": \"0\", \"is_africa\": \"1\"}, {\"country\": \"Lithuania\", \"rgdppc_2000\": 8767.231, \"rugged\": 0.175, \"cont_africa\": 0, \"log_gdp\": 9.078776300049492, \"is_seych\": \"0\", \"is_africa\": \"0\"}, {\"country\": \"Luxembourg\", \"rgdppc_2000\": 57792.09, \"rugged\": 0.8809999999999999, \"cont_africa\": 0, \"log_gdp\": 10.964607194084415, \"is_seych\": \"0\", \"is_africa\": \"0\"}, {\"country\": \"Latvia\", \"rgdppc_2000\": 7903.728, \"rugged\": 0.154, \"cont_africa\": 0, \"log_gdp\": 8.975089825880099, \"is_seych\": \"0\", \"is_africa\": \"0\"}, {\"country\": \"Macao Special Administrative Region of China\", \"rgdppc_2000\": 18581.94, \"rugged\": 0.732, \"cont_africa\": 0, \"log_gdp\": 9.82994542026482, \"is_seych\": \"0\", \"is_africa\": \"0\"}, {\"country\": \"Morocco\", \"rgdppc_2000\": 3513.8340000000003, \"rugged\": 2.4130000000000003, \"cont_africa\": 1, \"log_gdp\": 8.16446302801824, \"is_seych\": \"0\", \"is_africa\": \"1\"}, {\"country\": \"Republic of Moldova\", \"rgdppc_2000\": 1331.461, \"rugged\": 0.799, \"cont_africa\": 0, \"log_gdp\": 7.194032114550891, \"is_seych\": \"0\", \"is_africa\": \"0\"}, {\"country\": \"Madagascar\", \"rgdppc_2000\": 825.2439999999999, \"rugged\": 1.169, \"cont_africa\": 1, \"log_gdp\": 6.715679100182788, \"is_seych\": \"0\", \"is_africa\": \"1\"}, {\"country\": \"Mexico\", \"rgdppc_2000\": 9046.27, \"rugged\": 1.732, \"cont_africa\": 0, \"log_gdp\": 9.110107797038747, \"is_seych\": \"0\", \"is_africa\": \"0\"}, {\"country\": \"The former Yugoslav Republic of Macedonia\", \"rgdppc_2000\": 6059.698, \"rugged\": 2.665, \"cont_africa\": 0, \"log_gdp\": 8.709415242838057, \"is_seych\": \"0\", \"is_africa\": \"0\"}, {\"country\": \"Mali\", \"rgdppc_2000\": 779.597, \"rugged\": 0.147, \"cont_africa\": 1, \"log_gdp\": 6.658777119498757, \"is_seych\": \"0\", \"is_africa\": \"1\"}, {\"country\": \"Malta\", \"rgdppc_2000\": 18255.73, \"rugged\": 1.527, \"cont_africa\": 0, \"log_gdp\": 9.812234282334295, \"is_seych\": \"0\", \"is_africa\": \"0\"}, {\"country\": \"Mongolia\", \"rgdppc_2000\": 1620.4360000000001, \"rugged\": 1.057, \"cont_africa\": 0, \"log_gdp\": 7.390450527818356, \"is_seych\": \"0\", \"is_africa\": \"0\"}, {\"country\": \"Mozambique\", \"rgdppc_2000\": 876.868, \"rugged\": 0.612, \"cont_africa\": 1, \"log_gdp\": 6.776356467931063, \"is_seych\": \"0\", \"is_africa\": \"1\"}, {\"country\": \"Mauritania\", \"rgdppc_2000\": 1729.2079999999999, \"rugged\": 0.115, \"cont_africa\": 1, \"log_gdp\": 7.455418779199615, \"is_seych\": \"0\", \"is_africa\": \"1\"}, {\"country\": \"Mauritius\", \"rgdppc_2000\": 9622.511999999999, \"rugged\": 0.9490000000000001, \"cont_africa\": 1, \"log_gdp\": 9.171860632234287, \"is_seych\": \"0\", \"is_africa\": \"1\"}, {\"country\": \"Malawi\", \"rgdppc_2000\": 586.252, \"rugged\": 1.0270000000000001, \"cont_africa\": 1, \"log_gdp\": 6.373749731268529, \"is_seych\": \"0\", \"is_africa\": \"1\"}, {\"country\": \"Malaysia\", \"rgdppc_2000\": 8926.452, \"rugged\": 1.0090000000000001, \"cont_africa\": 0, \"log_gdp\": 9.096774282491037, \"is_seych\": \"0\", \"is_africa\": \"0\"}, {\"country\": \"Namibia\", \"rgdppc_2000\": 6057.856, \"rugged\": 0.9129999999999999, \"cont_africa\": 1, \"log_gdp\": 8.709111221083472, \"is_seych\": \"0\", \"is_africa\": \"1\"}, {\"country\": \"New Caledonia\", \"rgdppc_2000\": 22140.0, \"rugged\": 1.5859999999999999, \"cont_africa\": 0, \"log_gdp\": 10.005141206262628, \"is_seych\": \"0\", \"is_africa\": \"0\"}, {\"country\": \"Niger\", \"rgdppc_2000\": 703.1410000000001, \"rugged\": 0.17800000000000002, \"cont_africa\": 1, \"log_gdp\": 6.555557440689437, \"is_seych\": \"0\", \"is_africa\": \"1\"}, {\"country\": \"Nigeria\", \"rgdppc_2000\": 882.59, \"rugged\": 0.312, \"cont_africa\": 1, \"log_gdp\": 6.782860766610372, \"is_seych\": \"0\", \"is_africa\": \"1\"}, {\"country\": \"Nicaragua\", \"rgdppc_2000\": 3277.64, \"rugged\": 0.992, \"cont_africa\": 0, \"log_gdp\": 8.094878930209937, \"is_seych\": \"0\", \"is_africa\": \"0\"}, {\"country\": \"Netherlands\", \"rgdppc_2000\": 28610.12, \"rugged\": 0.037000000000000005, \"cont_africa\": 0, \"log_gdp\": 10.261515780373005, \"is_seych\": \"0\", \"is_africa\": \"0\"}, {\"country\": \"Norway\", \"rgdppc_2000\": 34207.82, \"rugged\": 2.4090000000000003, \"cont_africa\": 0, \"log_gdp\": 10.440209551883893, \"is_seych\": \"0\", \"is_africa\": \"0\"}, {\"country\": \"Nepal\", \"rgdppc_2000\": 1322.8729999999998, \"rugged\": 5.043, \"cont_africa\": 0, \"log_gdp\": 7.187561165554104, \"is_seych\": \"0\", \"is_africa\": \"0\"}, {\"country\": \"New Zealand\", \"rgdppc_2000\": 19614.94, \"rugged\": 2.0380000000000003, \"cont_africa\": 0, \"log_gdp\": 9.884046799755467, \"is_seych\": \"0\", \"is_africa\": \"0\"}, {\"country\": \"Oman\", \"rgdppc_2000\": 12729.71, \"rugged\": 1.109, \"cont_africa\": 0, \"log_gdp\": 9.451693910459287, \"is_seych\": \"0\", \"is_africa\": \"0\"}, {\"country\": \"Pakistan\", \"rgdppc_2000\": 1925.391, \"rugged\": 1.949, \"cont_africa\": 0, \"log_gdp\": 7.562884342979561, \"is_seych\": \"0\", \"is_africa\": \"0\"}, {\"country\": \"Panama\", \"rgdppc_2000\": 6164.348000000001, \"rugged\": 1.54, \"cont_africa\": 0, \"log_gdp\": 8.726537651692583, \"is_seych\": \"0\", \"is_africa\": \"0\"}, {\"country\": \"Peru\", \"rgdppc_2000\": 4722.525, \"rugged\": 1.347, \"cont_africa\": 0, \"log_gdp\": 8.460098893167899, \"is_seych\": \"0\", \"is_africa\": \"0\"}, {\"country\": \"Philippines\", \"rgdppc_2000\": 4027.548, \"rugged\": 2.028, \"cont_africa\": 0, \"log_gdp\": 8.300913033043425, \"is_seych\": \"0\", \"is_africa\": \"0\"}, {\"country\": \"Papua New Guinea\", \"rgdppc_2000\": 2325.738, \"rugged\": 1.589, \"cont_africa\": 0, \"log_gdp\": 7.75179268700943, \"is_seych\": \"0\", \"is_africa\": \"0\"}, {\"country\": \"Poland\", \"rgdppc_2000\": 10401.36, \"rugged\": 0.297, \"cont_africa\": 0, \"log_gdp\": 9.249691845810682, \"is_seych\": \"0\", \"is_africa\": \"0\"}, {\"country\": \"Puerto Rico\", \"rgdppc_2000\": 22242.23, \"rugged\": 1.4469999999999998, \"cont_africa\": 0, \"log_gdp\": 10.009748013122012, \"is_seych\": \"0\", \"is_africa\": \"0\"}, {\"country\": \"Portugal\", \"rgdppc_2000\": 18255.28, \"rugged\": 1.304, \"cont_africa\": 0, \"log_gdp\": 9.812209632235597, \"is_seych\": \"0\", \"is_africa\": \"0\"}, {\"country\": \"Paraguay\", \"rgdppc_2000\": 4553.069, \"rugged\": 0.245, \"cont_africa\": 0, \"log_gdp\": 8.423556790062909, \"is_seych\": \"0\", \"is_africa\": \"0\"}, {\"country\": \"French Polynesia\", \"rgdppc_2000\": 24538.31, \"rugged\": 2.072, \"cont_africa\": 0, \"log_gdp\": 10.107990848737787, \"is_seych\": \"0\", \"is_africa\": \"0\"}, {\"country\": \"Romania\", \"rgdppc_2000\": 5889.3240000000005, \"rugged\": 1.2670000000000001, \"cont_africa\": 0, \"log_gdp\": 8.680896499260998, \"is_seych\": \"0\", \"is_africa\": \"0\"}, {\"country\": \"Russian Federation\", \"rgdppc_2000\": 7095.689, \"rugged\": 0.94, \"cont_africa\": 0, \"log_gdp\": 8.867242695520506, \"is_seych\": \"0\", \"is_africa\": \"0\"}, {\"country\": \"Rwanda\", \"rgdppc_2000\": 1039.172, \"rugged\": 3.3089999999999997, \"cont_africa\": 1, \"log_gdp\": 6.946179521190474, \"is_seych\": \"0\", \"is_africa\": \"1\"}, {\"country\": \"Saudi Arabia\", \"rgdppc_2000\": 12374.11, \"rugged\": 0.914, \"cont_africa\": 0, \"log_gdp\": 9.423361665658662, \"is_seych\": \"0\", \"is_africa\": \"0\"}, {\"country\": \"Sudan\", \"rgdppc_2000\": 1682.674, \"rugged\": 0.442, \"cont_africa\": 1, \"log_gdp\": 7.428139473705091, \"is_seych\": \"0\", \"is_africa\": \"1\"}, {\"country\": \"Senegal\", \"rgdppc_2000\": 1435.082, \"rugged\": 0.244, \"cont_africa\": 1, \"log_gdp\": 7.268977269418274, \"is_seych\": \"0\", \"is_africa\": \"1\"}, {\"country\": \"Singapore\", \"rgdppc_2000\": 23611.61, \"rugged\": 0.016, \"cont_africa\": 0, \"log_gdp\": 10.06949381919893, \"is_seych\": \"0\", \"is_africa\": \"0\"}, {\"country\": \"Solomon Islands\", \"rgdppc_2000\": 1862.47, \"rugged\": 1.54, \"cont_africa\": 0, \"log_gdp\": 7.529658842741439, \"is_seych\": \"0\", \"is_africa\": \"0\"}, {\"country\": \"Sierra Leone\", \"rgdppc_2000\": 466.647, \"rugged\": 0.498, \"cont_africa\": 1, \"log_gdp\": 6.145573083190063, \"is_seych\": \"0\", \"is_africa\": \"1\"}, {\"country\": \"El Salvador\", \"rgdppc_2000\": 4594.274, \"rugged\": 1.75, \"cont_africa\": 0, \"log_gdp\": 8.432566024483094, \"is_seych\": \"0\", \"is_africa\": \"0\"}, {\"country\": \"Slovakia\", \"rgdppc_2000\": 11303.75, \"rugged\": 1.56, \"cont_africa\": 0, \"log_gdp\": 9.33288980805469, \"is_seych\": \"0\", \"is_africa\": \"0\"}, {\"country\": \"Slovenia\", \"rgdppc_2000\": 16873.33, \"rugged\": 2.496, \"cont_africa\": 0, \"log_gdp\": 9.73348954788061, \"is_seych\": \"0\", \"is_africa\": \"0\"}, {\"country\": \"Sweden\", \"rgdppc_2000\": 25899.88, \"rugged\": 0.715, \"cont_africa\": 0, \"log_gdp\": 10.161993614472262, \"is_seych\": \"0\", \"is_africa\": \"0\"}, {\"country\": \"Swaziland\", \"rgdppc_2000\": 4681.445, \"rugged\": 3.063, \"cont_africa\": 1, \"log_gdp\": 8.451362101938683, \"is_seych\": \"0\", \"is_africa\": \"1\"}, {\"country\": \"Seychelles\", \"rgdppc_2000\": 17957.47, \"rugged\": 4.885, \"cont_africa\": 1, \"log_gdp\": 9.795761463336396, \"is_seych\": \"1\", \"is_africa\": \"1\"}, {\"country\": \"Syrian Arab Republic\", \"rgdppc_2000\": 3242.195, \"rugged\": 0.7559999999999999, \"cont_africa\": 0, \"log_gdp\": 8.084005848543555, \"is_seych\": \"0\", \"is_africa\": \"0\"}, {\"country\": \"Chad\", \"rgdppc_2000\": 821.15, \"rugged\": 0.419, \"cont_africa\": 1, \"log_gdp\": 6.71070579678357, \"is_seych\": \"0\", \"is_africa\": \"1\"}, {\"country\": \"Togo\", \"rgdppc_2000\": 1436.855, \"rugged\": 0.28, \"cont_africa\": 1, \"log_gdp\": 7.2702119763253155, \"is_seych\": \"0\", \"is_africa\": \"1\"}, {\"country\": \"Thailand\", \"rgdppc_2000\": 6279.51, \"rugged\": 1.051, \"cont_africa\": 0, \"log_gdp\": 8.745047230940392, \"is_seych\": \"0\", \"is_africa\": \"0\"}, {\"country\": \"Tajikistan\", \"rgdppc_2000\": 785.4689999999999, \"rugged\": 5.301, \"cont_africa\": 0, \"log_gdp\": 6.666280991608179, \"is_seych\": \"0\", \"is_africa\": \"0\"}, {\"country\": \"Turkmenistan\", \"rgdppc_2000\": 3667.555, \"rugged\": 0.284, \"cont_africa\": 0, \"log_gdp\": 8.207280506496373, \"is_seych\": \"0\", \"is_africa\": \"0\"}, {\"country\": \"Tonga\", \"rgdppc_2000\": 6568.724, \"rugged\": 0.773, \"cont_africa\": 0, \"log_gdp\": 8.790074876482318, \"is_seych\": \"0\", \"is_africa\": \"0\"}, {\"country\": \"Trinidad and Tobago\", \"rgdppc_2000\": 8969.766, \"rugged\": 0.603, \"cont_africa\": 0, \"log_gdp\": 9.10161486775605, \"is_seych\": \"0\", \"is_africa\": \"0\"}, {\"country\": \"Tunisia\", \"rgdppc_2000\": 6251.5509999999995, \"rugged\": 0.726, \"cont_africa\": 1, \"log_gdp\": 8.740584871943847, \"is_seych\": \"0\", \"is_africa\": \"1\"}, {\"country\": \"Turkey\", \"rgdppc_2000\": 6510.354, \"rugged\": 2.62, \"cont_africa\": 0, \"log_gdp\": 8.781149111604377, \"is_seych\": \"0\", \"is_africa\": \"0\"}, {\"country\": \"United Republic of Tanzania\", \"rgdppc_2000\": 521.827, \"rugged\": 0.677, \"cont_africa\": 1, \"log_gdp\": 6.25733611532716, \"is_seych\": \"0\", \"is_africa\": \"1\"}, {\"country\": \"Uganda\", \"rgdppc_2000\": 1243.514, \"rugged\": 0.9129999999999999, \"cont_africa\": 1, \"log_gdp\": 7.125696521724513, \"is_seych\": \"0\", \"is_africa\": \"1\"}, {\"country\": \"Ukraine\", \"rgdppc_2000\": 4108.69, \"rugged\": 0.41600000000000004, \"cont_africa\": 0, \"log_gdp\": 8.320859521890362, \"is_seych\": \"0\", \"is_africa\": \"0\"}, {\"country\": \"Uruguay\", \"rgdppc_2000\": 8781.518, \"rugged\": 0.435, \"cont_africa\": 0, \"log_gdp\": 9.080404564623397, \"is_seych\": \"0\", \"is_africa\": \"0\"}, {\"country\": \"United States of America\", \"rgdppc_2000\": 33970.17, \"rugged\": 1.073, \"cont_africa\": 0, \"log_gdp\": 10.433238065557768, \"is_seych\": \"0\", \"is_africa\": \"0\"}, {\"country\": \"Uzbekistan\", \"rgdppc_2000\": 1515.7079999999999, \"rugged\": 0.526, \"cont_africa\": 0, \"log_gdp\": 7.3236379355130135, \"is_seych\": \"0\", \"is_africa\": \"0\"}, {\"country\": \"Saint Vincent and the Grenadines\", \"rgdppc_2000\": 5334.509, \"rugged\": 3.071, \"cont_africa\": 0, \"log_gdp\": 8.581952125761033, \"is_seych\": \"0\", \"is_africa\": \"0\"}, {\"country\": \"Venezuela (Bolivarian Republic of)\", \"rgdppc_2000\": 5685.12, \"rugged\": 0.634, \"cont_africa\": 0, \"log_gdp\": 8.64560751414128, \"is_seych\": \"0\", \"is_africa\": \"0\"}, {\"country\": \"Viet Nam\", \"rgdppc_2000\": 2011.743, \"rugged\": 2.0540000000000003, \"cont_africa\": 0, \"log_gdp\": 7.606756789462589, \"is_seych\": \"0\", \"is_africa\": \"0\"}, {\"country\": \"Vanuatu\", \"rgdppc_2000\": 3172.14, \"rugged\": 1.729, \"cont_africa\": 0, \"log_gdp\": 8.062161717972442, \"is_seych\": \"0\", \"is_africa\": \"0\"}, {\"country\": \"Samoa\", \"rgdppc_2000\": 4860.269, \"rugged\": 1.6769999999999998, \"cont_africa\": 0, \"log_gdp\": 8.488849065157035, \"is_seych\": \"0\", \"is_africa\": \"0\"}, {\"country\": \"Yemen\", \"rgdppc_2000\": 787.7489999999999, \"rugged\": 2.323, \"cont_africa\": 0, \"log_gdp\": 6.669179511198305, \"is_seych\": \"0\", \"is_africa\": \"0\"}, {\"country\": \"South Africa\", \"rgdppc_2000\": 9419.122, \"rugged\": 1.761, \"cont_africa\": 1, \"log_gdp\": 9.150497157281666, \"is_seych\": \"0\", \"is_africa\": \"1\"}, {\"country\": \"Zambia\", \"rgdppc_2000\": 774.01, \"rugged\": 0.5329999999999999, \"cont_africa\": 1, \"log_gdp\": 6.651584793402907, \"is_seych\": \"0\", \"is_africa\": \"1\"}, {\"country\": \"Zimbabwe\", \"rgdppc_2000\": 2499.215, \"rugged\": 1.194, \"cont_africa\": 1, \"log_gdp\": 7.82373196154797, \"is_seych\": \"0\", \"is_africa\": \"1\"}]}}, {\"mode\": \"vega-lite\"});\n",
       "</script>"
      ],
      "text/plain": [
       "alt.Chart(...)"
      ]
     },
     "metadata": {},
     "output_type": "display_data"
    }
   ],
   "source": [
    "# plot the data to see where this point is\n",
    "alt.Chart(data).mark_point(size=200).encode(\n",
    "    x='rugged',\n",
    "    y=alt.X('log_gdp', scale=alt.Scale(domain=[5, 12])),\n",
    "    fill='is_africa',\n",
    "    shape='is_seych').properties(width=333, height=333).display()"
   ]
  },
  {
   "cell_type": "code",
   "execution_count": 35,
   "metadata": {},
   "outputs": [],
   "source": [
    "# and there you have it, seychelles is a rich rugged country"
   ]
  },
  {
   "cell_type": "code",
   "execution_count": 50,
   "metadata": {},
   "outputs": [
    {
     "name": "stderr",
     "output_type": "stream",
     "text": [
      "Auto-assigning NUTS sampler...\n",
      "Initializing NUTS using jitter+adapt_diag...\n",
      "Multiprocess sampling (2 chains in 2 jobs)\n",
      "NUTS: [sigma, bAR, bR, bA, alpha]\n"
     ]
    },
    {
     "data": {
      "text/html": [
       "\n",
       "    <div>\n",
       "        <style>\n",
       "            /* Turns off some styling */\n",
       "            progress {\n",
       "                /* gets rid of default border in Firefox and Opera. */\n",
       "                border: none;\n",
       "                /* Needs to be in here for Safari polyfill so background images work as expected. */\n",
       "                background-size: auto;\n",
       "            }\n",
       "            .progress-bar-interrupted, .progress-bar-interrupted::-webkit-progress-bar {\n",
       "                background: #F44336;\n",
       "            }\n",
       "        </style>\n",
       "      <progress value='4000' class='' max='4000' style='width:300px; height:20px; vertical-align: middle;'></progress>\n",
       "      100.00% [4000/4000 00:07<00:00 Sampling 2 chains, 0 divergences]\n",
       "    </div>\n",
       "    "
      ],
      "text/plain": [
       "<IPython.core.display.HTML object>"
      ]
     },
     "metadata": {},
     "output_type": "display_data"
    },
    {
     "name": "stderr",
     "output_type": "stream",
     "text": [
      "Sampling 2 chains for 1_000 tune and 1_000 draw iterations (2_000 + 2_000 draws total) took 20 seconds.\n",
      "The acceptance probability does not match the target. It is 0.8838407454376791, but should be close to 0.8. Try to increase the number of tuning steps.\n"
     ]
    },
    {
     "data": {
      "text/html": [
       "\n",
       "    <div>\n",
       "        <style>\n",
       "            /* Turns off some styling */\n",
       "            progress {\n",
       "                /* gets rid of default border in Firefox and Opera. */\n",
       "                border: none;\n",
       "                /* Needs to be in here for Safari polyfill so background images work as expected. */\n",
       "                background-size: auto;\n",
       "            }\n",
       "            .progress-bar-interrupted, .progress-bar-interrupted::-webkit-progress-bar {\n",
       "                background: #F44336;\n",
       "            }\n",
       "        </style>\n",
       "      <progress value='2000' class='' max='2000' style='width:300px; height:20px; vertical-align: middle;'></progress>\n",
       "      100.00% [2000/2000 00:03<00:00]\n",
       "    </div>\n",
       "    "
      ],
      "text/plain": [
       "<IPython.core.display.HTML object>"
      ]
     },
     "metadata": {},
     "output_type": "display_data"
    }
   ],
   "source": [
    "# model WITH seych\n",
    "with pm.Model() as model_seych:\n",
    "    \n",
    "    # priors\n",
    "    alpha = pm.Normal('alpha', 8, 100)\n",
    "    bA = pm.Normal('bA', 0, 1)\n",
    "    bR = pm.Normal('bR', 0, 1)\n",
    "    bAR = pm.Normal('bAR', 0, 1)\n",
    "    sigma = pm.Uniform('sigma', 0, 10)\n",
    "    \n",
    "    # deterministic\n",
    "    mu = alpha + bA*data['cont_africa'] + bR*data['rugged'] + bAR*data['cont_africa']*data['rugged']\n",
    "    \n",
    "    # likelihood\n",
    "    log_gdp = pm.Normal('log_gdp', mu, sigma, observed=data['log_gdp'])\n",
    "    \n",
    "    trace_yes = pm.sample(1000)\n",
    "    \n",
    "    preds_yes = pm.sample_posterior_predictive(trace_yes)"
   ]
  },
  {
   "cell_type": "code",
   "execution_count": null,
   "metadata": {},
   "outputs": [],
   "source": []
  },
  {
   "cell_type": "code",
   "execution_count": 51,
   "metadata": {},
   "outputs": [
    {
     "name": "stderr",
     "output_type": "stream",
     "text": [
      "Auto-assigning NUTS sampler...\n",
      "Initializing NUTS using jitter+adapt_diag...\n",
      "Multiprocess sampling (2 chains in 2 jobs)\n",
      "NUTS: [sigma, bAR, bR, bA, alpha]\n"
     ]
    },
    {
     "data": {
      "text/html": [
       "\n",
       "    <div>\n",
       "        <style>\n",
       "            /* Turns off some styling */\n",
       "            progress {\n",
       "                /* gets rid of default border in Firefox and Opera. */\n",
       "                border: none;\n",
       "                /* Needs to be in here for Safari polyfill so background images work as expected. */\n",
       "                background-size: auto;\n",
       "            }\n",
       "            .progress-bar-interrupted, .progress-bar-interrupted::-webkit-progress-bar {\n",
       "                background: #F44336;\n",
       "            }\n",
       "        </style>\n",
       "      <progress value='4000' class='' max='4000' style='width:300px; height:20px; vertical-align: middle;'></progress>\n",
       "      100.00% [4000/4000 00:09<00:00 Sampling 2 chains, 0 divergences]\n",
       "    </div>\n",
       "    "
      ],
      "text/plain": [
       "<IPython.core.display.HTML object>"
      ]
     },
     "metadata": {},
     "output_type": "display_data"
    },
    {
     "name": "stderr",
     "output_type": "stream",
     "text": [
      "Sampling 2 chains for 1_000 tune and 1_000 draw iterations (2_000 + 2_000 draws total) took 19 seconds.\n"
     ]
    },
    {
     "data": {
      "text/html": [
       "\n",
       "    <div>\n",
       "        <style>\n",
       "            /* Turns off some styling */\n",
       "            progress {\n",
       "                /* gets rid of default border in Firefox and Opera. */\n",
       "                border: none;\n",
       "                /* Needs to be in here for Safari polyfill so background images work as expected. */\n",
       "                background-size: auto;\n",
       "            }\n",
       "            .progress-bar-interrupted, .progress-bar-interrupted::-webkit-progress-bar {\n",
       "                background: #F44336;\n",
       "            }\n",
       "        </style>\n",
       "      <progress value='2000' class='' max='2000' style='width:300px; height:20px; vertical-align: middle;'></progress>\n",
       "      100.00% [2000/2000 00:02<00:00]\n",
       "    </div>\n",
       "    "
      ],
      "text/plain": [
       "<IPython.core.display.HTML object>"
      ]
     },
     "metadata": {},
     "output_type": "display_data"
    }
   ],
   "source": [
    "# model NO seych\n",
    "data_no = data[~data['country'].str.contains('Seych')]\n",
    "\n",
    "with pm.Model() as model_no_seych:\n",
    "    \n",
    "    # priors\n",
    "    alpha = pm.Normal('alpha', 8, 100)\n",
    "    bA = pm.Normal('bA', 0, 1)\n",
    "    bR = pm.Normal('bR', 0, 1)\n",
    "    bAR = pm.Normal('bAR', 0, 1)\n",
    "    sigma = pm.Uniform('sigma', 0, 10)\n",
    "    \n",
    "    # deterministic\n",
    "    mu = alpha + bA*data_no['cont_africa'] + bR*data_no['rugged'] + bAR*data_no['cont_africa']*data_no['rugged']\n",
    "    \n",
    "    # likelihood\n",
    "    log_gdp = pm.Normal('log_gdp', mu, sigma, observed=data_no['log_gdp'])\n",
    "    \n",
    "    trace_no = pm.sample(1000)\n",
    "    preds_no = pm.sample_posterior_predictive(trace_no)"
   ]
  },
  {
   "cell_type": "code",
   "execution_count": null,
   "metadata": {},
   "outputs": [],
   "source": []
  },
  {
   "cell_type": "code",
   "execution_count": 40,
   "metadata": {},
   "outputs": [],
   "source": [
    "# we will be plotting posterior predictions in the next question\n",
    "# so here lets just look at the interaction coeff"
   ]
  },
  {
   "cell_type": "code",
   "execution_count": 41,
   "metadata": {},
   "outputs": [
    {
     "data": {
      "text/html": [
       "<div>\n",
       "<style scoped>\n",
       "    .dataframe tbody tr th:only-of-type {\n",
       "        vertical-align: middle;\n",
       "    }\n",
       "\n",
       "    .dataframe tbody tr th {\n",
       "        vertical-align: top;\n",
       "    }\n",
       "\n",
       "    .dataframe thead th {\n",
       "        text-align: right;\n",
       "    }\n",
       "</style>\n",
       "<table border=\"1\" class=\"dataframe\">\n",
       "  <thead>\n",
       "    <tr style=\"text-align: right;\">\n",
       "      <th></th>\n",
       "      <th>parameter</th>\n",
       "      <th>mean</th>\n",
       "      <th>sd</th>\n",
       "      <th>hdi_3%</th>\n",
       "      <th>hdi_97%</th>\n",
       "      <th>mcse_mean</th>\n",
       "      <th>mcse_sd</th>\n",
       "      <th>ess_mean</th>\n",
       "      <th>ess_sd</th>\n",
       "      <th>ess_bulk</th>\n",
       "      <th>ess_tail</th>\n",
       "      <th>r_hat</th>\n",
       "    </tr>\n",
       "  </thead>\n",
       "  <tbody>\n",
       "    <tr>\n",
       "      <th>0</th>\n",
       "      <td>alpha</td>\n",
       "      <td>9.18</td>\n",
       "      <td>0.15</td>\n",
       "      <td>8.90</td>\n",
       "      <td>9.44</td>\n",
       "      <td>0.01</td>\n",
       "      <td>0.00</td>\n",
       "      <td>699.43</td>\n",
       "      <td>699.43</td>\n",
       "      <td>715.63</td>\n",
       "      <td>952.82</td>\n",
       "      <td>1.01</td>\n",
       "    </tr>\n",
       "    <tr>\n",
       "      <th>1</th>\n",
       "      <td>bA</td>\n",
       "      <td>-1.84</td>\n",
       "      <td>0.23</td>\n",
       "      <td>-2.32</td>\n",
       "      <td>-1.45</td>\n",
       "      <td>0.01</td>\n",
       "      <td>0.01</td>\n",
       "      <td>760.93</td>\n",
       "      <td>760.93</td>\n",
       "      <td>775.05</td>\n",
       "      <td>841.31</td>\n",
       "      <td>1.01</td>\n",
       "    </tr>\n",
       "    <tr>\n",
       "      <th>2</th>\n",
       "      <td>bR</td>\n",
       "      <td>-0.18</td>\n",
       "      <td>0.08</td>\n",
       "      <td>-0.33</td>\n",
       "      <td>-0.03</td>\n",
       "      <td>0.00</td>\n",
       "      <td>0.00</td>\n",
       "      <td>800.87</td>\n",
       "      <td>800.87</td>\n",
       "      <td>821.63</td>\n",
       "      <td>1027.49</td>\n",
       "      <td>1.01</td>\n",
       "    </tr>\n",
       "    <tr>\n",
       "      <th>3</th>\n",
       "      <td>bAR</td>\n",
       "      <td>0.35</td>\n",
       "      <td>0.14</td>\n",
       "      <td>0.08</td>\n",
       "      <td>0.59</td>\n",
       "      <td>0.00</td>\n",
       "      <td>0.00</td>\n",
       "      <td>881.59</td>\n",
       "      <td>881.59</td>\n",
       "      <td>891.41</td>\n",
       "      <td>972.62</td>\n",
       "      <td>1.01</td>\n",
       "    </tr>\n",
       "    <tr>\n",
       "      <th>4</th>\n",
       "      <td>sigma</td>\n",
       "      <td>0.95</td>\n",
       "      <td>0.05</td>\n",
       "      <td>0.86</td>\n",
       "      <td>1.06</td>\n",
       "      <td>0.00</td>\n",
       "      <td>0.00</td>\n",
       "      <td>1503.71</td>\n",
       "      <td>1503.71</td>\n",
       "      <td>1481.29</td>\n",
       "      <td>804.78</td>\n",
       "      <td>1.00</td>\n",
       "    </tr>\n",
       "  </tbody>\n",
       "</table>\n",
       "</div>"
      ],
      "text/plain": [
       "  parameter  mean    sd  hdi_3%  hdi_97%  mcse_mean  mcse_sd  ess_mean  \\\n",
       "0     alpha  9.18  0.15    8.90     9.44       0.01     0.00    699.43   \n",
       "1        bA -1.84  0.23   -2.32    -1.45       0.01     0.01    760.93   \n",
       "2        bR -0.18  0.08   -0.33    -0.03       0.00     0.00    800.87   \n",
       "3       bAR  0.35  0.14    0.08     0.59       0.00     0.00    881.59   \n",
       "4     sigma  0.95  0.05    0.86     1.06       0.00     0.00   1503.71   \n",
       "\n",
       "    ess_sd  ess_bulk  ess_tail  r_hat  \n",
       "0   699.43    715.63    952.82   1.01  \n",
       "1   760.93    775.05    841.31   1.01  \n",
       "2   800.87    821.63   1027.49   1.01  \n",
       "3   881.59    891.41    972.62   1.01  \n",
       "4  1503.71   1481.29    804.78   1.00  "
      ]
     },
     "execution_count": 41,
     "metadata": {},
     "output_type": "execute_result"
    }
   ],
   "source": [
    "# WITH seych\n",
    "with_stats = az.summary(trace_yes, round_to=2).reset_index().rename(columns={'index':'parameter'})\n",
    "with_stats"
   ]
  },
  {
   "cell_type": "code",
   "execution_count": 42,
   "metadata": {},
   "outputs": [
    {
     "name": "stdout",
     "output_type": "stream",
     "text": [
      "0.16999999999999998\n"
     ]
    }
   ],
   "source": [
    "# calculate the interaction term\n",
    "bR = with_stats[with_stats['parameter'] == 'bR']['mean'].values[0]\n",
    "bAR = with_stats[with_stats['parameter'] == 'bAR']['mean'].values[0]\n",
    "\n",
    "# in Africa\n",
    "print(bR + bAR)"
   ]
  },
  {
   "cell_type": "code",
   "execution_count": 43,
   "metadata": {},
   "outputs": [
    {
     "data": {
      "text/html": [
       "<div>\n",
       "<style scoped>\n",
       "    .dataframe tbody tr th:only-of-type {\n",
       "        vertical-align: middle;\n",
       "    }\n",
       "\n",
       "    .dataframe tbody tr th {\n",
       "        vertical-align: top;\n",
       "    }\n",
       "\n",
       "    .dataframe thead th {\n",
       "        text-align: right;\n",
       "    }\n",
       "</style>\n",
       "<table border=\"1\" class=\"dataframe\">\n",
       "  <thead>\n",
       "    <tr style=\"text-align: right;\">\n",
       "      <th></th>\n",
       "      <th>parameter</th>\n",
       "      <th>mean</th>\n",
       "      <th>sd</th>\n",
       "      <th>hdi_3%</th>\n",
       "      <th>hdi_97%</th>\n",
       "      <th>mcse_mean</th>\n",
       "      <th>mcse_sd</th>\n",
       "      <th>ess_mean</th>\n",
       "      <th>ess_sd</th>\n",
       "      <th>ess_bulk</th>\n",
       "      <th>ess_tail</th>\n",
       "      <th>r_hat</th>\n",
       "    </tr>\n",
       "  </thead>\n",
       "  <tbody>\n",
       "    <tr>\n",
       "      <th>0</th>\n",
       "      <td>alpha</td>\n",
       "      <td>9.18</td>\n",
       "      <td>0.14</td>\n",
       "      <td>8.93</td>\n",
       "      <td>9.45</td>\n",
       "      <td>0.01</td>\n",
       "      <td>0.00</td>\n",
       "      <td>763.37</td>\n",
       "      <td>762.79</td>\n",
       "      <td>757.95</td>\n",
       "      <td>1004.01</td>\n",
       "      <td>1.0</td>\n",
       "    </tr>\n",
       "    <tr>\n",
       "      <th>1</th>\n",
       "      <td>bA</td>\n",
       "      <td>-1.78</td>\n",
       "      <td>0.23</td>\n",
       "      <td>-2.21</td>\n",
       "      <td>-1.36</td>\n",
       "      <td>0.01</td>\n",
       "      <td>0.01</td>\n",
       "      <td>883.59</td>\n",
       "      <td>883.59</td>\n",
       "      <td>884.92</td>\n",
       "      <td>993.45</td>\n",
       "      <td>1.0</td>\n",
       "    </tr>\n",
       "    <tr>\n",
       "      <th>2</th>\n",
       "      <td>bR</td>\n",
       "      <td>-0.18</td>\n",
       "      <td>0.08</td>\n",
       "      <td>-0.33</td>\n",
       "      <td>-0.04</td>\n",
       "      <td>0.00</td>\n",
       "      <td>0.00</td>\n",
       "      <td>752.12</td>\n",
       "      <td>752.12</td>\n",
       "      <td>745.59</td>\n",
       "      <td>1222.55</td>\n",
       "      <td>1.0</td>\n",
       "    </tr>\n",
       "    <tr>\n",
       "      <th>3</th>\n",
       "      <td>bAR</td>\n",
       "      <td>0.25</td>\n",
       "      <td>0.14</td>\n",
       "      <td>-0.02</td>\n",
       "      <td>0.52</td>\n",
       "      <td>0.00</td>\n",
       "      <td>0.00</td>\n",
       "      <td>1041.80</td>\n",
       "      <td>1001.77</td>\n",
       "      <td>1051.87</td>\n",
       "      <td>1120.72</td>\n",
       "      <td>1.0</td>\n",
       "    </tr>\n",
       "    <tr>\n",
       "      <th>4</th>\n",
       "      <td>sigma</td>\n",
       "      <td>0.94</td>\n",
       "      <td>0.05</td>\n",
       "      <td>0.85</td>\n",
       "      <td>1.05</td>\n",
       "      <td>0.00</td>\n",
       "      <td>0.00</td>\n",
       "      <td>1987.57</td>\n",
       "      <td>1973.66</td>\n",
       "      <td>2012.59</td>\n",
       "      <td>1463.28</td>\n",
       "      <td>1.0</td>\n",
       "    </tr>\n",
       "  </tbody>\n",
       "</table>\n",
       "</div>"
      ],
      "text/plain": [
       "  parameter  mean    sd  hdi_3%  hdi_97%  mcse_mean  mcse_sd  ess_mean  \\\n",
       "0     alpha  9.18  0.14    8.93     9.45       0.01     0.00    763.37   \n",
       "1        bA -1.78  0.23   -2.21    -1.36       0.01     0.01    883.59   \n",
       "2        bR -0.18  0.08   -0.33    -0.04       0.00     0.00    752.12   \n",
       "3       bAR  0.25  0.14   -0.02     0.52       0.00     0.00   1041.80   \n",
       "4     sigma  0.94  0.05    0.85     1.05       0.00     0.00   1987.57   \n",
       "\n",
       "    ess_sd  ess_bulk  ess_tail  r_hat  \n",
       "0   762.79    757.95   1004.01    1.0  \n",
       "1   883.59    884.92    993.45    1.0  \n",
       "2   752.12    745.59   1222.55    1.0  \n",
       "3  1001.77   1051.87   1120.72    1.0  \n",
       "4  1973.66   2012.59   1463.28    1.0  "
      ]
     },
     "execution_count": 43,
     "metadata": {},
     "output_type": "execute_result"
    }
   ],
   "source": [
    "# WITHOUT seych\n",
    "without_stats = az.summary(trace_no, round_to=2).reset_index().rename(columns={'index':'parameter'})\n",
    "without_stats"
   ]
  },
  {
   "cell_type": "code",
   "execution_count": 44,
   "metadata": {},
   "outputs": [
    {
     "name": "stdout",
     "output_type": "stream",
     "text": [
      "0.07\n"
     ]
    }
   ],
   "source": [
    "# calculate the interaction term\n",
    "bR = without_stats[without_stats['parameter'] == 'bR']['mean'].values[0]\n",
    "bAR = without_stats[without_stats['parameter'] == 'bAR']['mean'].values[0]\n",
    "\n",
    "# in Africa\n",
    "print(bR + bAR)"
   ]
  },
  {
   "cell_type": "code",
   "execution_count": 49,
   "metadata": {},
   "outputs": [
    {
     "data": {
      "image/png": "[encoded data removed]",
      "text/plain": [
       "<Figure size 600x400 with 1 Axes>"
      ]
     },
     "metadata": {},
     "output_type": "display_data"
    }
   ],
   "source": [
    "# interaction term, for in Africa, goes down quite a bit\n",
    "# outside of Africa makes no difference\n",
    "# plot the distribution of the interaction terms for in Africa here\n",
    "yes_sech = trace_yes['bR'] + trace_yes['bAR']\n",
    "no_sech = trace_no['bR'] + trace_no['bAR']\n",
    "\n",
    "plt.figure(figsize=(6,4))\n",
    "plt.hist(yes_sech, color='salmon', label='yes')\n",
    "plt.hist(no_sech, color='dodgerblue', label='no')\n",
    "plt.grid()\n",
    "plt.legend()\n",
    "plt.show()"
   ]
  },
  {
   "cell_type": "markdown",
   "metadata": {},
   "source": [
    "## 3B"
   ]
  },
  {
   "cell_type": "code",
   "execution_count": 84,
   "metadata": {},
   "outputs": [
    {
     "data": {
      "image/png": "[encoded data removed]",
      "text/plain": [
       "<Figure size 400x400 with 1 Axes>"
      ]
     },
     "metadata": {},
     "output_type": "display_data"
    },
    {
     "data": {
      "image/png": "[encoded data removed]",
      "text/plain": [
       "<Figure size 400x400 with 1 Axes>"
      ]
     },
     "metadata": {},
     "output_type": "display_data"
    }
   ],
   "source": [
    "# will calculate the MAP mean and 97% interval\n",
    "# with seych\n",
    "#mu = alpha + bA*data['cont_africa'] + bR*data['rugged'] + bAR*data['cont_africa']*data['rugged']\n",
    "alpha_map = trace_yes['alpha'].mean()\n",
    "bA_map = trace_yes['bA'].mean()\n",
    "bR_map = trace_yes['bR'].mean()\n",
    "bAR_map = trace_yes['bAR'].mean()\n",
    "\n",
    "gdp_map = alpha_map + bA_map*data['cont_africa'] + bR_map*data['rugged'] + bAR_map*data['cont_africa']*data['rugged']\n",
    "\n",
    "# get the 97% Ci\n",
    "ci = 0.97\n",
    "lower = []; upper = []\n",
    "for cont, rug in zip(data['cont_africa'], data['rugged']):\n",
    "    \n",
    "    sample_ = np.array(trace_yes['alpha'] + trace_yes['bA']*cont + trace_yes['bR']*rug + trace_yes['bAR']*cont*rug)\n",
    "    \n",
    "    lower_, upper_ = pm.stats.hpd(sample_, alpha=ci)\n",
    "    lower.append(lower_)\n",
    "    upper.append(upper_)\n",
    "    \n",
    "data['gdp_map'] = gdp_map\n",
    "data['lower'] = lower\n",
    "data['upper'] = upper    \n",
    "\n",
    "\n",
    "### for Africa\n",
    "data_af = data[data['cont_africa'] == 1]\n",
    "\n",
    "plt.figure(figsize=(4,4))\n",
    "\n",
    "# raw data\n",
    "plt.scatter(data_af['rugged'], data_af['log_gdp'], alpha=0.5, color='salmon')\n",
    "\n",
    "# map regression line\n",
    "map_pd = data_af.sort_values(by=['rugged'])\n",
    "plt.plot(map_pd['rugged'], map_pd['gdp_map'])\n",
    "\n",
    "# 95% interval of mean\n",
    "int_pd = data_af.sort_values(by=['rugged'], ascending=True)\n",
    "plt.fill_between(int_pd['rugged'], int_pd['lower'], int_pd['upper'], alpha=0.6, color='dodgerblue')\n",
    "\n",
    "plt.title('Africa, with SEYCH')\n",
    "plt.xlabel('age')\n",
    "plt.ylabel('height')\n",
    "plt.grid()\n",
    "\n",
    "\n",
    "\n",
    "\n",
    "# WITHOUT SEYCH\n",
    "alpha_map = trace_no['alpha'].mean()\n",
    "bA_map = trace_no['bA'].mean()\n",
    "bR_map = trace_no['bR'].mean()\n",
    "bAR_map = trace_no['bAR'].mean()\n",
    "\n",
    "gdp_map = alpha_map + bA_map*data_no['cont_africa'] + bR_map*data_no['rugged'] + bAR_map*data_no['cont_africa']*data_no['rugged']\n",
    "\n",
    "# get the 97% Ci\n",
    "ci = 0.97\n",
    "lower = []; upper = []\n",
    "for cont, rug in zip(data_no['cont_africa'], data_no['rugged']):\n",
    "    \n",
    "    sample_ = np.array(trace_no['alpha'] + trace_no['bA']*cont + trace_no['bR']*rug + trace_no['bAR']*cont*rug)\n",
    "    \n",
    "    lower_, upper_ = pm.stats.hpd(sample_, alpha=ci)\n",
    "    lower.append(lower_)\n",
    "    upper.append(upper_)\n",
    "    \n",
    "data_no['gdp_map'] = gdp_map\n",
    "data_no['lower'] = lower\n",
    "data_no['upper'] = upper    \n",
    "\n",
    "\n",
    "### for Africa; witout SEYCH\n",
    "data_af = data_no[data_no['cont_africa'] == 1]\n",
    "\n",
    "plt.figure(figsize=(4,4))\n",
    "\n",
    "# raw data\n",
    "plt.scatter(data_af['rugged'], data_af['log_gdp'], alpha=0.5, color='salmon')\n",
    "\n",
    "# map regression line\n",
    "map_pd = data_af.sort_values(by=['rugged'])\n",
    "plt.plot(map_pd['rugged'], map_pd['gdp_map'])\n",
    "\n",
    "# 95% interval of mean\n",
    "int_pd = data_af.sort_values(by=['rugged'], ascending=True)\n",
    "plt.fill_between(int_pd['rugged'], int_pd['lower'], int_pd['upper'], alpha=0.6, color='dodgerblue')\n",
    "\n",
    "plt.title('Africa, WITHOUT SEYCH')\n",
    "plt.xlabel('age')\n",
    "plt.ylabel('height')\n",
    "plt.grid()\n",
    "\n",
    "\n"
   ]
  },
  {
   "cell_type": "code",
   "execution_count": 85,
   "metadata": {},
   "outputs": [],
   "source": [
    "# less obvious trend now"
   ]
  },
  {
   "cell_type": "code",
   "execution_count": null,
   "metadata": {},
   "outputs": [],
   "source": []
  },
  {
   "cell_type": "markdown",
   "metadata": {},
   "source": [
    "## 3C"
   ]
  },
  {
   "cell_type": "code",
   "execution_count": 116,
   "metadata": {},
   "outputs": [
    {
     "data": {
      "text/html": [
       "<div>\n",
       "<style scoped>\n",
       "    .dataframe tbody tr th:only-of-type {\n",
       "        vertical-align: middle;\n",
       "    }\n",
       "\n",
       "    .dataframe tbody tr th {\n",
       "        vertical-align: top;\n",
       "    }\n",
       "\n",
       "    .dataframe thead th {\n",
       "        text-align: right;\n",
       "    }\n",
       "</style>\n",
       "<table border=\"1\" class=\"dataframe\">\n",
       "  <thead>\n",
       "    <tr style=\"text-align: right;\">\n",
       "      <th></th>\n",
       "      <th>country</th>\n",
       "      <th>rgdppc_2000</th>\n",
       "      <th>rugged</th>\n",
       "      <th>cont_africa</th>\n",
       "      <th>log_gdp</th>\n",
       "      <th>is_seych</th>\n",
       "      <th>is_africa</th>\n",
       "      <th>gdp_map</th>\n",
       "      <th>lower</th>\n",
       "      <th>upper</th>\n",
       "      <th>mean</th>\n",
       "    </tr>\n",
       "  </thead>\n",
       "  <tbody>\n",
       "    <tr>\n",
       "      <th>2</th>\n",
       "      <td>Angola</td>\n",
       "      <td>1794.729</td>\n",
       "      <td>0.858</td>\n",
       "      <td>1</td>\n",
       "      <td>7.492609</td>\n",
       "      <td>0</td>\n",
       "      <td>1</td>\n",
       "      <td>7.456540</td>\n",
       "      <td>6.239088</td>\n",
       "      <td>10.754212</td>\n",
       "      <td>8.291165</td>\n",
       "    </tr>\n",
       "    <tr>\n",
       "      <th>4</th>\n",
       "      <td>Albania</td>\n",
       "      <td>3703.113</td>\n",
       "      <td>3.427</td>\n",
       "      <td>0</td>\n",
       "      <td>8.216929</td>\n",
       "      <td>0</td>\n",
       "      <td>0</td>\n",
       "      <td>8.549894</td>\n",
       "      <td>6.512995</td>\n",
       "      <td>10.779456</td>\n",
       "      <td>8.536281</td>\n",
       "    </tr>\n",
       "    <tr>\n",
       "      <th>7</th>\n",
       "      <td>United Arab Emirates</td>\n",
       "      <td>20604.460</td>\n",
       "      <td>0.769</td>\n",
       "      <td>0</td>\n",
       "      <td>9.933263</td>\n",
       "      <td>0</td>\n",
       "      <td>0</td>\n",
       "      <td>9.041678</td>\n",
       "      <td>6.479146</td>\n",
       "      <td>10.783130</td>\n",
       "      <td>8.662075</td>\n",
       "    </tr>\n",
       "    <tr>\n",
       "      <th>8</th>\n",
       "      <td>Argentina</td>\n",
       "      <td>12173.680</td>\n",
       "      <td>0.775</td>\n",
       "      <td>0</td>\n",
       "      <td>9.407032</td>\n",
       "      <td>0</td>\n",
       "      <td>0</td>\n",
       "      <td>9.040568</td>\n",
       "      <td>6.454744</td>\n",
       "      <td>10.628659</td>\n",
       "      <td>8.635537</td>\n",
       "    </tr>\n",
       "    <tr>\n",
       "      <th>9</th>\n",
       "      <td>Armenia</td>\n",
       "      <td>2421.985</td>\n",
       "      <td>2.688</td>\n",
       "      <td>0</td>\n",
       "      <td>7.792343</td>\n",
       "      <td>0</td>\n",
       "      <td>0</td>\n",
       "      <td>8.686624</td>\n",
       "      <td>6.374565</td>\n",
       "      <td>10.591136</td>\n",
       "      <td>8.516678</td>\n",
       "    </tr>\n",
       "  </tbody>\n",
       "</table>\n",
       "</div>"
      ],
      "text/plain": [
       "                country  rgdppc_2000  rugged  cont_africa   log_gdp is_seych  \\\n",
       "2                Angola     1794.729   0.858            1  7.492609        0   \n",
       "4               Albania     3703.113   3.427            0  8.216929        0   \n",
       "7  United Arab Emirates    20604.460   0.769            0  9.933263        0   \n",
       "8             Argentina    12173.680   0.775            0  9.407032        0   \n",
       "9               Armenia     2421.985   2.688            0  7.792343        0   \n",
       "\n",
       "  is_africa   gdp_map     lower      upper      mean  \n",
       "2         1  7.456540  6.239088  10.754212  8.291165  \n",
       "4         0  8.549894  6.512995  10.779456  8.536281  \n",
       "7         0  9.041678  6.479146  10.783130  8.662075  \n",
       "8         0  9.040568  6.454744  10.628659  8.635537  \n",
       "9         0  8.686624  6.374565  10.591136  8.516678  "
      ]
     },
     "execution_count": 116,
     "metadata": {},
     "output_type": "execute_result"
    }
   ],
   "source": [
    "# build three different models\n",
    "data_no.head()"
   ]
  },
  {
   "cell_type": "code",
   "execution_count": 118,
   "metadata": {},
   "outputs": [
    {
     "data": {
      "text/plain": [
       "(169, 11)"
      ]
     },
     "execution_count": 118,
     "metadata": {},
     "output_type": "execute_result"
    }
   ],
   "source": [
    "data_no.shape"
   ]
  },
  {
   "cell_type": "code",
   "execution_count": 119,
   "metadata": {},
   "outputs": [
    {
     "data": {
      "text/plain": [
       "(234, 51)"
      ]
     },
     "execution_count": 119,
     "metadata": {},
     "output_type": "execute_result"
    }
   ],
   "source": [
    "rugged.shape"
   ]
  },
  {
   "cell_type": "code",
   "execution_count": 120,
   "metadata": {},
   "outputs": [
    {
     "name": "stderr",
     "output_type": "stream",
     "text": [
      "Auto-assigning NUTS sampler...\n",
      "Initializing NUTS using jitter+adapt_diag...\n",
      "Multiprocess sampling (2 chains in 2 jobs)\n",
      "NUTS: [sigma, bR, alpha]\n"
     ]
    },
    {
     "data": {
      "text/html": [
       "\n",
       "    <div>\n",
       "        <style>\n",
       "            /* Turns off some styling */\n",
       "            progress {\n",
       "                /* gets rid of default border in Firefox and Opera. */\n",
       "                border: none;\n",
       "                /* Needs to be in here for Safari polyfill so background images work as expected. */\n",
       "                background-size: auto;\n",
       "            }\n",
       "            .progress-bar-interrupted, .progress-bar-interrupted::-webkit-progress-bar {\n",
       "                background: #F44336;\n",
       "            }\n",
       "        </style>\n",
       "      <progress value='4000' class='' max='4000' style='width:300px; height:20px; vertical-align: middle;'></progress>\n",
       "      100.00% [4000/4000 00:06<00:00 Sampling 2 chains, 0 divergences]\n",
       "    </div>\n",
       "    "
      ],
      "text/plain": [
       "<IPython.core.display.HTML object>"
      ]
     },
     "metadata": {},
     "output_type": "display_data"
    },
    {
     "name": "stderr",
     "output_type": "stream",
     "text": [
      "Sampling 2 chains for 1_000 tune and 1_000 draw iterations (2_000 + 2_000 draws total) took 14 seconds.\n",
      "Auto-assigning NUTS sampler...\n",
      "Initializing NUTS using jitter+adapt_diag...\n",
      "Multiprocess sampling (2 chains in 2 jobs)\n",
      "NUTS: [sigma, bR, bA, alpha]\n"
     ]
    },
    {
     "data": {
      "text/html": [
       "\n",
       "    <div>\n",
       "        <style>\n",
       "            /* Turns off some styling */\n",
       "            progress {\n",
       "                /* gets rid of default border in Firefox and Opera. */\n",
       "                border: none;\n",
       "                /* Needs to be in here for Safari polyfill so background images work as expected. */\n",
       "                background-size: auto;\n",
       "            }\n",
       "            .progress-bar-interrupted, .progress-bar-interrupted::-webkit-progress-bar {\n",
       "                background: #F44336;\n",
       "            }\n",
       "        </style>\n",
       "      <progress value='4000' class='' max='4000' style='width:300px; height:20px; vertical-align: middle;'></progress>\n",
       "      100.00% [4000/4000 00:06<00:00 Sampling 2 chains, 0 divergences]\n",
       "    </div>\n",
       "    "
      ],
      "text/plain": [
       "<IPython.core.display.HTML object>"
      ]
     },
     "metadata": {},
     "output_type": "display_data"
    },
    {
     "name": "stderr",
     "output_type": "stream",
     "text": [
      "Sampling 2 chains for 1_000 tune and 1_000 draw iterations (2_000 + 2_000 draws total) took 12 seconds.\n",
      "Auto-assigning NUTS sampler...\n",
      "Initializing NUTS using jitter+adapt_diag...\n",
      "Multiprocess sampling (2 chains in 2 jobs)\n",
      "NUTS: [sigma, bAR, bR, bA, alpha]\n"
     ]
    },
    {
     "data": {
      "text/html": [
       "\n",
       "    <div>\n",
       "        <style>\n",
       "            /* Turns off some styling */\n",
       "            progress {\n",
       "                /* gets rid of default border in Firefox and Opera. */\n",
       "                border: none;\n",
       "                /* Needs to be in here for Safari polyfill so background images work as expected. */\n",
       "                background-size: auto;\n",
       "            }\n",
       "            .progress-bar-interrupted, .progress-bar-interrupted::-webkit-progress-bar {\n",
       "                background: #F44336;\n",
       "            }\n",
       "        </style>\n",
       "      <progress value='4000' class='' max='4000' style='width:300px; height:20px; vertical-align: middle;'></progress>\n",
       "      100.00% [4000/4000 00:10<00:00 Sampling 2 chains, 0 divergences]\n",
       "    </div>\n",
       "    "
      ],
      "text/plain": [
       "<IPython.core.display.HTML object>"
      ]
     },
     "metadata": {},
     "output_type": "display_data"
    },
    {
     "name": "stderr",
     "output_type": "stream",
     "text": [
      "Sampling 2 chains for 1_000 tune and 1_000 draw iterations (2_000 + 2_000 draws total) took 16 seconds.\n"
     ]
    }
   ],
   "source": [
    "with pm.Model() as model_1:\n",
    "    # priors\n",
    "    alpha = pm.Normal('alpha', 8, 100)\n",
    "    bR = pm.Normal('bR', 0, 1)\n",
    "    sigma = pm.Uniform('sigma', 0, 10)\n",
    "    \n",
    "    # deterministic\n",
    "    mu = alpha + bR*data_no['rugged'] \n",
    "    \n",
    "    # likelihood\n",
    "    log_gdp = pm.Normal('log_gdp', mu, sigma, observed=data_no['log_gdp'])\n",
    "    trace_1 = pm.sample(1000)\n",
    "\n",
    "\n",
    "\n",
    "with pm.Model() as model_2:\n",
    "    # priors\n",
    "    alpha = pm.Normal('alpha', 8, 100)\n",
    "    bA = pm.Normal('bA', 0, 1)\n",
    "    bR = pm.Normal('bR', 0, 1)\n",
    "    sigma = pm.Uniform('sigma', 0, 10)\n",
    "    \n",
    "    # deterministic\n",
    "    mu = alpha + bA*data_no['cont_africa'] + bR*data_no['rugged']\n",
    "    \n",
    "    # likelihood\n",
    "    log_gdp = pm.Normal('log_gdp', mu, sigma, observed=data_no['log_gdp'])\n",
    "    trace_2 = pm.sample(1000)\n",
    "    \n",
    "    \n",
    "\n",
    "with pm.Model() as model_3:\n",
    "    # priors\n",
    "    alpha = pm.Normal('alpha', 8, 100)\n",
    "    bA = pm.Normal('bA', 0, 1)\n",
    "    bR = pm.Normal('bR', 0, 1)\n",
    "    bAR = pm.Normal('bAR', 0, 1)\n",
    "    sigma = pm.Uniform('sigma', 0, 10)\n",
    "    \n",
    "    # deterministic\n",
    "    mu = alpha + bA*data_no['cont_africa'] + bR*data_no['rugged'] + bAR*data_no['cont_africa']*data_no['rugged']\n",
    "    \n",
    "    # likelihood\n",
    "    log_gdp = pm.Normal('log_gdp', mu, sigma, observed=data_no['log_gdp'])\n",
    "    trace_3 = pm.sample(1000)\n"
   ]
  },
  {
   "cell_type": "code",
   "execution_count": null,
   "metadata": {},
   "outputs": [],
   "source": []
  },
  {
   "cell_type": "code",
   "execution_count": 124,
   "metadata": {},
   "outputs": [
    {
     "data": {
      "text/html": [
       "<div>\n",
       "<style scoped>\n",
       "    .dataframe tbody tr th:only-of-type {\n",
       "        vertical-align: middle;\n",
       "    }\n",
       "\n",
       "    .dataframe tbody tr th {\n",
       "        vertical-align: top;\n",
       "    }\n",
       "\n",
       "    .dataframe thead th {\n",
       "        text-align: right;\n",
       "    }\n",
       "</style>\n",
       "<table border=\"1\" class=\"dataframe\">\n",
       "  <thead>\n",
       "    <tr style=\"text-align: right;\">\n",
       "      <th></th>\n",
       "      <th>model</th>\n",
       "      <th>rank</th>\n",
       "      <th>waic</th>\n",
       "      <th>p_waic</th>\n",
       "      <th>d_waic</th>\n",
       "      <th>weight</th>\n",
       "      <th>se</th>\n",
       "      <th>dse</th>\n",
       "      <th>warning</th>\n",
       "      <th>waic_scale</th>\n",
       "    </tr>\n",
       "  </thead>\n",
       "  <tbody>\n",
       "    <tr>\n",
       "      <th>2</th>\n",
       "      <td>model_1</td>\n",
       "      <td>2</td>\n",
       "      <td>536.241</td>\n",
       "      <td>2.64912</td>\n",
       "      <td>36.6596</td>\n",
       "      <td>2.65863e-08</td>\n",
       "      <td>7.20924</td>\n",
       "      <td>7.34542</td>\n",
       "      <td>False</td>\n",
       "      <td>log</td>\n",
       "    </tr>\n",
       "    <tr>\n",
       "      <th>1</th>\n",
       "      <td>model_2</td>\n",
       "      <td>1</td>\n",
       "      <td>465.974</td>\n",
       "      <td>3.78054</td>\n",
       "      <td>1.52585</td>\n",
       "      <td>0.262387</td>\n",
       "      <td>6.98361</td>\n",
       "      <td>1.60149</td>\n",
       "      <td>False</td>\n",
       "      <td>log</td>\n",
       "    </tr>\n",
       "    <tr>\n",
       "      <th>0</th>\n",
       "      <td>model_3</td>\n",
       "      <td>0</td>\n",
       "      <td>462.922</td>\n",
       "      <td>4.23608</td>\n",
       "      <td>0</td>\n",
       "      <td>0.737613</td>\n",
       "      <td>6.54284</td>\n",
       "      <td>0</td>\n",
       "      <td>True</td>\n",
       "      <td>log</td>\n",
       "    </tr>\n",
       "  </tbody>\n",
       "</table>\n",
       "</div>"
      ],
      "text/plain": [
       "     model rank     waic   p_waic   d_waic       weight       se      dse  \\\n",
       "2  model_1    2  536.241  2.64912  36.6596  2.65863e-08  7.20924  7.34542   \n",
       "1  model_2    1  465.974  3.78054  1.52585     0.262387  6.98361  1.60149   \n",
       "0  model_3    0  462.922  4.23608        0     0.737613  6.54284        0   \n",
       "\n",
       "  warning waic_scale  \n",
       "2   False        log  \n",
       "1   False        log  \n",
       "0    True        log  "
      ]
     },
     "execution_count": 124,
     "metadata": {},
     "output_type": "execute_result"
    }
   ],
   "source": [
    "model_1.name = 'model_1'\n",
    "model_2.name = 'model_2'\n",
    "model_3.name = 'model_3'\n",
    "\n",
    "waic_df = pm.compare({model_1.name:trace_1,\n",
    "                      model_2.name:trace_2, \n",
    "                      model_3.name:trace_3}, ic='WAIC')\n",
    "\n",
    "\n",
    "waic_df['waic'] = waic_df['waic']*-2\n",
    "waic_df = waic_df.reset_index().rename(columns={'index':'model'}).sort_values(by=['model'], ascending=True)\n",
    "waic_df"
   ]
  },
  {
   "cell_type": "code",
   "execution_count": 125,
   "metadata": {},
   "outputs": [
    {
     "data": {
      "text/html": [
       "\n",
       "    <div>\n",
       "        <style>\n",
       "            /* Turns off some styling */\n",
       "            progress {\n",
       "                /* gets rid of default border in Firefox and Opera. */\n",
       "                border: none;\n",
       "                /* Needs to be in here for Safari polyfill so background images work as expected. */\n",
       "                background-size: auto;\n",
       "            }\n",
       "            .progress-bar-interrupted, .progress-bar-interrupted::-webkit-progress-bar {\n",
       "                background: #F44336;\n",
       "            }\n",
       "        </style>\n",
       "      <progress value='2000' class='' max='2000' style='width:300px; height:20px; vertical-align: middle;'></progress>\n",
       "      100.00% [2000/2000 00:02<00:00]\n",
       "    </div>\n",
       "    "
      ],
      "text/plain": [
       "<IPython.core.display.HTML object>"
      ]
     },
     "metadata": {},
     "output_type": "display_data"
    }
   ],
   "source": [
    "# model 3 is the best, model 1 sucks\n",
    "# predictions model averaged\n",
    "traces = [trace_1, trace_2, trace_3]\n",
    "models = [model_1, model_2, model_3]\n",
    "\n",
    "\n",
    "ppc_w = pm.sample_posterior_predictive_w(traces, 2000, models,\n",
    "                        weights=waic_df['weight'].values,\n",
    "                        progressbar=True)"
   ]
  },
  {
   "cell_type": "code",
   "execution_count": 136,
   "metadata": {},
   "outputs": [
    {
     "data": {
      "text/plain": [
       "array([2.658627887109357e-08, 0.26238678456576264, 0.7376131888479583],\n",
       "      dtype=object)"
      ]
     },
     "execution_count": 136,
     "metadata": {},
     "output_type": "execute_result"
    }
   ],
   "source": [
    "waic_df['weight'].values"
   ]
  },
  {
   "cell_type": "code",
   "execution_count": 140,
   "metadata": {},
   "outputs": [
    {
     "data": {
      "text/plain": [
       "(array([ 15.,  62., 185., 369., 515., 418., 265., 132.,  29.,  10.]),\n",
       " array([ 4.67445103,  5.26256166,  5.85067229,  6.43878292,  7.02689355,\n",
       "         7.61500419,  8.20311482,  8.79122545,  9.37933608,  9.96744671,\n",
       "        10.55555734]),\n",
       " <a list of 10 Patch objects>)"
      ]
     },
     "execution_count": 140,
     "metadata": {},
     "output_type": "execute_result"
    },
    {
     "data": {
      "image/png": "[encoded data removed]",
      "text/plain": [
       "<Figure size 640x480 with 1 Axes>"
      ]
     },
     "metadata": {},
     "output_type": "display_data"
    }
   ],
   "source": [
    "plt.hist(pred)"
   ]
  },
  {
   "cell_type": "code",
   "execution_count": 144,
   "metadata": {},
   "outputs": [
    {
     "data": {
      "text/plain": [
       "DescribeResult(nobs=2000, minmax=(4.674451028761299, 10.555557344043628), mean=7.472865034761952, variance=0.8611959601199373, skewness=0.06320548496494967, kurtosis=-0.05499145515133996)"
      ]
     },
     "execution_count": 144,
     "metadata": {},
     "output_type": "execute_result"
    }
   ],
   "source": [
    "scipy.stats.describe(pred)"
   ]
  },
  {
   "cell_type": "code",
   "execution_count": 145,
   "metadata": {},
   "outputs": [
    {
     "data": {
      "text/plain": [
       "0.8607653621398773"
      ]
     },
     "execution_count": 145,
     "metadata": {},
     "output_type": "execute_result"
    }
   ],
   "source": [
    "pred.var()"
   ]
  },
  {
   "cell_type": "code",
   "execution_count": 146,
   "metadata": {},
   "outputs": [
    {
     "data": {
      "text/plain": [
       "0.9277744133893094"
      ]
     },
     "execution_count": 146,
     "metadata": {},
     "output_type": "execute_result"
    }
   ],
   "source": [
    "pred.std()"
   ]
  },
  {
   "cell_type": "code",
   "execution_count": 148,
   "metadata": {},
   "outputs": [
    {
     "data": {
      "text/plain": [
       "0.9273618495495703"
      ]
     },
     "execution_count": 148,
     "metadata": {},
     "output_type": "execute_result"
    }
   ],
   "source": [
    "0.86**0.5"
   ]
  },
  {
   "cell_type": "code",
   "execution_count": 152,
   "metadata": {},
   "outputs": [
    {
     "data": {
      "text/plain": [
       "array([[ 8.56069418,  9.40622892,  8.82273691, ...,  9.1015098 ,\n",
       "         6.62113193,  7.4632121 ],\n",
       "       [ 7.27958665,  7.84863116,  9.11427675, ...,  7.22112462,\n",
       "         8.89022283,  7.14580221],\n",
       "       [ 8.35331177,  8.88523724,  9.34001865, ...,  9.45999827,\n",
       "         7.79219606,  7.06585627],\n",
       "       ...,\n",
       "       [ 6.50455303,  8.06017887, 10.12270414, ...,  6.2996454 ,\n",
       "         7.75640636,  7.70965387],\n",
       "       [ 8.28621647,  7.68829877,  8.75206064, ...,  9.37928109,\n",
       "         6.00736354,  8.07520961],\n",
       "       [ 7.56897224,  9.28935865,  9.55596173, ...,  7.8176052 ,\n",
       "         7.76874219,  8.10415577]])"
      ]
     },
     "execution_count": 152,
     "metadata": {},
     "output_type": "execute_result"
    }
   ],
   "source": [
    "ppc_w['log_gdp']"
   ]
  },
  {
   "cell_type": "code",
   "execution_count": null,
   "metadata": {},
   "outputs": [],
   "source": []
  },
  {
   "cell_type": "code",
   "execution_count": 127,
   "metadata": {},
   "outputs": [
    {
     "data": {
      "text/html": [
       "<div>\n",
       "<style scoped>\n",
       "    .dataframe tbody tr th:only-of-type {\n",
       "        vertical-align: middle;\n",
       "    }\n",
       "\n",
       "    .dataframe tbody tr th {\n",
       "        vertical-align: top;\n",
       "    }\n",
       "\n",
       "    .dataframe thead th {\n",
       "        text-align: right;\n",
       "    }\n",
       "</style>\n",
       "<table border=\"1\" class=\"dataframe\">\n",
       "  <thead>\n",
       "    <tr style=\"text-align: right;\">\n",
       "      <th></th>\n",
       "      <th>country</th>\n",
       "      <th>rgdppc_2000</th>\n",
       "      <th>rugged</th>\n",
       "      <th>cont_africa</th>\n",
       "      <th>log_gdp</th>\n",
       "      <th>is_seych</th>\n",
       "      <th>is_africa</th>\n",
       "      <th>gdp_map</th>\n",
       "      <th>lower</th>\n",
       "      <th>upper</th>\n",
       "      <th>mean</th>\n",
       "    </tr>\n",
       "  </thead>\n",
       "  <tbody>\n",
       "    <tr>\n",
       "      <th>2</th>\n",
       "      <td>Angola</td>\n",
       "      <td>1794.729</td>\n",
       "      <td>0.858</td>\n",
       "      <td>1</td>\n",
       "      <td>7.492609</td>\n",
       "      <td>0</td>\n",
       "      <td>1</td>\n",
       "      <td>7.456540</td>\n",
       "      <td>5.726399</td>\n",
       "      <td>9.385420</td>\n",
       "      <td>7.480649</td>\n",
       "    </tr>\n",
       "    <tr>\n",
       "      <th>4</th>\n",
       "      <td>Albania</td>\n",
       "      <td>3703.113</td>\n",
       "      <td>3.427</td>\n",
       "      <td>0</td>\n",
       "      <td>8.216929</td>\n",
       "      <td>0</td>\n",
       "      <td>0</td>\n",
       "      <td>8.549894</td>\n",
       "      <td>6.766692</td>\n",
       "      <td>10.349971</td>\n",
       "      <td>8.576690</td>\n",
       "    </tr>\n",
       "    <tr>\n",
       "      <th>7</th>\n",
       "      <td>United Arab Emirates</td>\n",
       "      <td>20604.460</td>\n",
       "      <td>0.769</td>\n",
       "      <td>0</td>\n",
       "      <td>9.933263</td>\n",
       "      <td>0</td>\n",
       "      <td>0</td>\n",
       "      <td>9.041678</td>\n",
       "      <td>7.219179</td>\n",
       "      <td>10.785075</td>\n",
       "      <td>9.037799</td>\n",
       "    </tr>\n",
       "    <tr>\n",
       "      <th>8</th>\n",
       "      <td>Argentina</td>\n",
       "      <td>12173.680</td>\n",
       "      <td>0.775</td>\n",
       "      <td>0</td>\n",
       "      <td>9.407032</td>\n",
       "      <td>0</td>\n",
       "      <td>0</td>\n",
       "      <td>9.040568</td>\n",
       "      <td>7.114463</td>\n",
       "      <td>10.711988</td>\n",
       "      <td>9.036414</td>\n",
       "    </tr>\n",
       "    <tr>\n",
       "      <th>9</th>\n",
       "      <td>Armenia</td>\n",
       "      <td>2421.985</td>\n",
       "      <td>2.688</td>\n",
       "      <td>0</td>\n",
       "      <td>7.792343</td>\n",
       "      <td>0</td>\n",
       "      <td>0</td>\n",
       "      <td>8.686624</td>\n",
       "      <td>7.112080</td>\n",
       "      <td>10.666588</td>\n",
       "      <td>8.715727</td>\n",
       "    </tr>\n",
       "  </tbody>\n",
       "</table>\n",
       "</div>"
      ],
      "text/plain": [
       "                country  rgdppc_2000  rugged  cont_africa   log_gdp is_seych  \\\n",
       "2                Angola     1794.729   0.858            1  7.492609        0   \n",
       "4               Albania     3703.113   3.427            0  8.216929        0   \n",
       "7  United Arab Emirates    20604.460   0.769            0  9.933263        0   \n",
       "8             Argentina    12173.680   0.775            0  9.407032        0   \n",
       "9               Armenia     2421.985   2.688            0  7.792343        0   \n",
       "\n",
       "  is_africa   gdp_map     lower      upper      mean  \n",
       "2         1  7.456540  5.726399   9.385420  7.480649  \n",
       "4         0  8.549894  6.766692  10.349971  8.576690  \n",
       "7         0  9.041678  7.219179  10.785075  9.037799  \n",
       "8         0  9.040568  7.114463  10.711988  9.036414  \n",
       "9         0  8.686624  7.112080  10.666588  8.715727  "
      ]
     },
     "execution_count": 127,
     "metadata": {},
     "output_type": "execute_result"
    }
   ],
   "source": [
    "# we have 1000 samples for each train observation\n",
    "# plot the mean and 97% interval for comparison\n",
    "\n",
    "# matrix is pred x observation\n",
    "means = []; lowers = []; uppers = [] \n",
    "for obs in range(ppc_w['log_gdp'].shape[1]):\n",
    "    \n",
    "    pred = ppc_w['log_gdp'][:, obs]\n",
    "    mean = pred.mean()\n",
    "    lower_, upper_ = pm.stats.hpd(pred, alpha=0.97)\n",
    "    means.append(mean)\n",
    "    lowers.append(lower_)\n",
    "    uppers.append(upper_)\n",
    "    \n",
    "data_no['mean'] = means\n",
    "data_no['lower'] = lowers\n",
    "data_no['upper'] = uppers\n",
    "data_no.head()"
   ]
  },
  {
   "cell_type": "code",
   "execution_count": 128,
   "metadata": {},
   "outputs": [
    {
     "data": {
      "image/png": "[encoded data removed]",
      "text/plain": [
       "<Figure size 400x400 with 1 Axes>"
      ]
     },
     "metadata": {},
     "output_type": "display_data"
    },
    {
     "data": {
      "image/png": "[encoded data removed]",
      "text/plain": [
       "<Figure size 400x400 with 1 Axes>"
      ]
     },
     "metadata": {},
     "output_type": "display_data"
    }
   ],
   "source": [
    "### for Africa\n",
    "data_af = data_no[data_no['cont_africa'] == 1]\n",
    "\n",
    "plt.figure(figsize=(4,4))\n",
    "\n",
    "# raw data\n",
    "plt.scatter(data_af['rugged'], data_af['log_gdp'], alpha=0.5, color='salmon')\n",
    "\n",
    "# map regression line\n",
    "map_pd = data_af.sort_values(by=['rugged'])\n",
    "plt.plot(map_pd['rugged'], map_pd['mean'])\n",
    "\n",
    "# 95% interval of mean\n",
    "int_pd = data_af.sort_values(by=['rugged'], ascending=True)\n",
    "plt.fill_between(int_pd['rugged'], int_pd['lower'], int_pd['upper'], alpha=0.6, color='dodgerblue')\n",
    "\n",
    "plt.title('Africa, with SEYCH, model_averaged')\n",
    "plt.xlabel('rugged')\n",
    "plt.ylabel('log_gdp')\n",
    "plt.grid()\n",
    "\n",
    "\n",
    "\n",
    "### for Africa\n",
    "data_af = data_no[data_no['cont_africa'] == 0]\n",
    "\n",
    "plt.figure(figsize=(4,4))\n",
    "\n",
    "# raw data\n",
    "plt.scatter(data_af['rugged'], data_af['log_gdp'], alpha=0.5, color='salmon')\n",
    "\n",
    "# map regression line\n",
    "map_pd = data_af.sort_values(by=['rugged'])\n",
    "plt.plot(map_pd['rugged'], map_pd['mean'])\n",
    "\n",
    "# 95% interval of mean\n",
    "int_pd = data_af.sort_values(by=['rugged'], ascending=True)\n",
    "plt.fill_between(int_pd['rugged'], int_pd['lower'], int_pd['upper'], alpha=0.6, color='dodgerblue')\n",
    "\n",
    "plt.title('OTHER, with SEYCH, model_averaged')\n",
    "plt.xlabel('rugged')\n",
    "plt.ylabel('log_gdp')\n",
    "plt.grid()\n",
    "\n",
    "\n"
   ]
  },
  {
   "cell_type": "code",
   "execution_count": null,
   "metadata": {},
   "outputs": [],
   "source": []
  },
  {
   "cell_type": "markdown",
   "metadata": {},
   "source": [
    "# H4"
   ]
  },
  {
   "cell_type": "code",
   "execution_count": 256,
   "metadata": {},
   "outputs": [
    {
     "data": {
      "text/html": [
       "<div>\n",
       "<style scoped>\n",
       "    .dataframe tbody tr th:only-of-type {\n",
       "        vertical-align: middle;\n",
       "    }\n",
       "\n",
       "    .dataframe tbody tr th {\n",
       "        vertical-align: top;\n",
       "    }\n",
       "\n",
       "    .dataframe thead th {\n",
       "        text-align: right;\n",
       "    }\n",
       "</style>\n",
       "<table border=\"1\" class=\"dataframe\">\n",
       "  <thead>\n",
       "    <tr style=\"text-align: right;\">\n",
       "      <th></th>\n",
       "      <th>country</th>\n",
       "      <th>num.lang</th>\n",
       "      <th>area</th>\n",
       "      <th>k.pop</th>\n",
       "      <th>num.stations</th>\n",
       "      <th>mean.growing.season</th>\n",
       "      <th>sd.growing.season</th>\n",
       "    </tr>\n",
       "  </thead>\n",
       "  <tbody>\n",
       "    <tr>\n",
       "      <th>0</th>\n",
       "      <td>Algeria</td>\n",
       "      <td>18</td>\n",
       "      <td>2381741</td>\n",
       "      <td>25660</td>\n",
       "      <td>102</td>\n",
       "      <td>6.60</td>\n",
       "      <td>2.29</td>\n",
       "    </tr>\n",
       "    <tr>\n",
       "      <th>1</th>\n",
       "      <td>Angola</td>\n",
       "      <td>42</td>\n",
       "      <td>1246700</td>\n",
       "      <td>10303</td>\n",
       "      <td>50</td>\n",
       "      <td>6.22</td>\n",
       "      <td>1.87</td>\n",
       "    </tr>\n",
       "  </tbody>\n",
       "</table>\n",
       "</div>"
      ],
      "text/plain": [
       "   country  num.lang     area  k.pop  num.stations  mean.growing.season  \\\n",
       "0  Algeria        18  2381741  25660           102                 6.60   \n",
       "1   Angola        42  1246700  10303            50                 6.22   \n",
       "\n",
       "   sd.growing.season  \n",
       "0               2.29  \n",
       "1               1.87  "
      ]
     },
     "execution_count": 256,
     "metadata": {},
     "output_type": "execute_result"
    }
   ],
   "source": [
    "data = pd.read_csv('nettle.txt', sep=';')\n",
    "data.head(2)"
   ]
  },
  {
   "cell_type": "code",
   "execution_count": 257,
   "metadata": {},
   "outputs": [],
   "source": [
    "# use this data to evaluate hypothesis that language diversity is product of food security\n",
    "# we will try to model the number of languages per capita\n",
    "data['log_lang_cap'] = np.log(data['num.lang'] / data['k.pop'])\n",
    "data['log_area'] = data['area'].apply(np.log)"
   ]
  },
  {
   "cell_type": "code",
   "execution_count": 258,
   "metadata": {},
   "outputs": [
    {
     "data": {
      "text/plain": [
       "(74, 9)"
      ]
     },
     "execution_count": 258,
     "metadata": {},
     "output_type": "execute_result"
    }
   ],
   "source": [
    "data.shape"
   ]
  },
  {
   "cell_type": "code",
   "execution_count": 259,
   "metadata": {},
   "outputs": [
    {
     "data": {
      "text/html": [
       "<div>\n",
       "<style scoped>\n",
       "    .dataframe tbody tr th:only-of-type {\n",
       "        vertical-align: middle;\n",
       "    }\n",
       "\n",
       "    .dataframe tbody tr th {\n",
       "        vertical-align: top;\n",
       "    }\n",
       "\n",
       "    .dataframe thead th {\n",
       "        text-align: right;\n",
       "    }\n",
       "</style>\n",
       "<table border=\"1\" class=\"dataframe\">\n",
       "  <thead>\n",
       "    <tr style=\"text-align: right;\">\n",
       "      <th></th>\n",
       "      <th>country</th>\n",
       "      <th>num.lang</th>\n",
       "      <th>area</th>\n",
       "      <th>k.pop</th>\n",
       "      <th>num.stations</th>\n",
       "      <th>mean.growing.season</th>\n",
       "      <th>sd.growing.season</th>\n",
       "      <th>log_lang_cap</th>\n",
       "      <th>log_area</th>\n",
       "    </tr>\n",
       "  </thead>\n",
       "  <tbody>\n",
       "    <tr>\n",
       "      <th>0</th>\n",
       "      <td>Algeria</td>\n",
       "      <td>18</td>\n",
       "      <td>2381741</td>\n",
       "      <td>25660</td>\n",
       "      <td>102</td>\n",
       "      <td>6.60</td>\n",
       "      <td>2.29</td>\n",
       "      <td>-7.262317</td>\n",
       "      <td>14.683342</td>\n",
       "    </tr>\n",
       "    <tr>\n",
       "      <th>1</th>\n",
       "      <td>Angola</td>\n",
       "      <td>42</td>\n",
       "      <td>1246700</td>\n",
       "      <td>10303</td>\n",
       "      <td>50</td>\n",
       "      <td>6.22</td>\n",
       "      <td>1.87</td>\n",
       "      <td>-5.502521</td>\n",
       "      <td>14.036011</td>\n",
       "    </tr>\n",
       "  </tbody>\n",
       "</table>\n",
       "</div>"
      ],
      "text/plain": [
       "   country  num.lang     area  k.pop  num.stations  mean.growing.season  \\\n",
       "0  Algeria        18  2381741  25660           102                 6.60   \n",
       "1   Angola        42  1246700  10303            50                 6.22   \n",
       "\n",
       "   sd.growing.season  log_lang_cap   log_area  \n",
       "0               2.29     -7.262317  14.683342  \n",
       "1               1.87     -5.502521  14.036011  "
      ]
     },
     "execution_count": 259,
     "metadata": {},
     "output_type": "execute_result"
    }
   ],
   "source": [
    "data.head(2)"
   ]
  },
  {
   "cell_type": "code",
   "execution_count": 260,
   "metadata": {},
   "outputs": [
    {
     "data": {
      "text/plain": [
       "DescribeResult(nobs=74, minmax=(-9.281357859211463, -0.38421999949442825), mean=-5.456606132615029, variance=2.3126681940454623, skewness=0.45548313923644085, kurtosis=1.3017181780114235)"
      ]
     },
     "execution_count": 260,
     "metadata": {},
     "output_type": "execute_result"
    }
   ],
   "source": [
    "scipy.stats.describe(data['log_lang_cap'])"
   ]
  },
  {
   "cell_type": "code",
   "execution_count": 261,
   "metadata": {},
   "outputs": [],
   "source": [
    "# this is an open question; try to evaluate main effects of mean.growing.season and sd.growing.season\n",
    "# as outlined in prob statements to come"
   ]
  },
  {
   "cell_type": "markdown",
   "metadata": {},
   "source": [
    "# A"
   ]
  },
  {
   "cell_type": "code",
   "execution_count": 262,
   "metadata": {},
   "outputs": [
    {
     "data": {
      "image/png": "[encoded data removed]",
      "text/plain": [
       "<Figure size 400x200 with 1 Axes>"
      ]
     },
     "metadata": {},
     "output_type": "display_data"
    },
    {
     "data": {
      "image/png": "[encoded data removed]",
      "text/plain": [
       "<Figure size 400x200 with 1 Axes>"
      ]
     },
     "metadata": {},
     "output_type": "display_data"
    },
    {
     "data": {
      "image/png": "[encoded data removed]",
      "text/plain": [
       "<Figure size 400x200 with 1 Axes>"
      ]
     },
     "metadata": {},
     "output_type": "display_data"
    }
   ],
   "source": [
    "# evaluate lang diveristy / capita is positively associated with lenth of growing season\n",
    "# include log(area) in regression as covariate\n",
    "cols = ['log_lang_cap', 'log_area', 'mean.growing.season']\n",
    "for col in cols:    \n",
    "    plt.figure(figsize=(4,2))\n",
    "    plt.hist(data[col])\n",
    "    plt.xlabel(col)\n",
    "    plt.grid()\n",
    "    plt.show()\n",
    "    "
   ]
  },
  {
   "cell_type": "code",
   "execution_count": 263,
   "metadata": {},
   "outputs": [
    {
     "data": {
      "text/plain": [
       "-5.456606132615029"
      ]
     },
     "execution_count": 263,
     "metadata": {},
     "output_type": "execute_result"
    }
   ],
   "source": [
    "data['log_lang_cap'].mean()"
   ]
  },
  {
   "cell_type": "code",
   "execution_count": 264,
   "metadata": {},
   "outputs": [
    {
     "data": {
      "text/plain": [
       "1.5207459334305198"
      ]
     },
     "execution_count": 264,
     "metadata": {},
     "output_type": "execute_result"
    }
   ],
   "source": [
    "data['log_lang_cap'].std()"
   ]
  },
  {
   "cell_type": "code",
   "execution_count": 265,
   "metadata": {},
   "outputs": [],
   "source": [
    "# normalize the features\n",
    "data['log_area_sc'] = data['log_area'] - data['log_area'].mean()\n",
    "data['mean.growing.season_sc'] = data['mean.growing.season'] - data['mean.growing.season'].mean()"
   ]
  },
  {
   "cell_type": "code",
   "execution_count": 266,
   "metadata": {},
   "outputs": [
    {
     "data": {
      "image/png": "[encoded data removed]",
      "text/plain": [
       "<Figure size 300x300 with 1 Axes>"
      ]
     },
     "metadata": {},
     "output_type": "display_data"
    },
    {
     "data": {
      "image/png": "[encoded data removed]",
      "text/plain": [
       "<Figure size 300x300 with 1 Axes>"
      ]
     },
     "metadata": {},
     "output_type": "display_data"
    }
   ],
   "source": [
    "plt.figure(figsize=(3,3))\n",
    "plt.scatter(data['log_area_sc'], data['log_lang_cap'])\n",
    "plt.xlabel('log_area_sc')\n",
    "plt.ylabel('log_lang_cap')\n",
    "plt.grid()\n",
    "plt.show()\n",
    "\n",
    "\n",
    "plt.figure(figsize=(3,3))\n",
    "plt.scatter(data['mean.growing.season_sc'], data['log_lang_cap'])\n",
    "plt.xlabel('mean.growing.season_sc')\n",
    "plt.ylabel('log_lang_cap')\n",
    "plt.grid()\n",
    "plt.show()\n"
   ]
  },
  {
   "cell_type": "code",
   "execution_count": 267,
   "metadata": {},
   "outputs": [
    {
     "data": {
      "text/plain": [
       "['log_lang_cap', 'log_area', 'mean.growing.season']"
      ]
     },
     "execution_count": 267,
     "metadata": {},
     "output_type": "execute_result"
    }
   ],
   "source": [
    "cols"
   ]
  },
  {
   "cell_type": "code",
   "execution_count": null,
   "metadata": {},
   "outputs": [],
   "source": []
  },
  {
   "cell_type": "code",
   "execution_count": null,
   "metadata": {},
   "outputs": [],
   "source": []
  },
  {
   "cell_type": "code",
   "execution_count": 268,
   "metadata": {},
   "outputs": [
    {
     "name": "stderr",
     "output_type": "stream",
     "text": [
      "Auto-assigning NUTS sampler...\n",
      "Initializing NUTS using jitter+adapt_diag...\n",
      "Multiprocess sampling (2 chains in 2 jobs)\n",
      "NUTS: [sigma, bB, bA, alpha]\n"
     ]
    },
    {
     "data": {
      "text/html": [
       "\n",
       "    <div>\n",
       "        <style>\n",
       "            /* Turns off some styling */\n",
       "            progress {\n",
       "                /* gets rid of default border in Firefox and Opera. */\n",
       "                border: none;\n",
       "                /* Needs to be in here for Safari polyfill so background images work as expected. */\n",
       "                background-size: auto;\n",
       "            }\n",
       "            .progress-bar-interrupted, .progress-bar-interrupted::-webkit-progress-bar {\n",
       "                background: #F44336;\n",
       "            }\n",
       "        </style>\n",
       "      <progress value='4000' class='' max='4000' style='width:300px; height:20px; vertical-align: middle;'></progress>\n",
       "      100.00% [4000/4000 00:06<00:00 Sampling 2 chains, 0 divergences]\n",
       "    </div>\n",
       "    "
      ],
      "text/plain": [
       "<IPython.core.display.HTML object>"
      ]
     },
     "metadata": {},
     "output_type": "display_data"
    },
    {
     "name": "stderr",
     "output_type": "stream",
     "text": [
      "Sampling 2 chains for 1_000 tune and 1_000 draw iterations (2_000 + 2_000 draws total) took 20 seconds.\n"
     ]
    }
   ],
   "source": [
    "with pm.Model() as model_a:\n",
    "    # priors\n",
    "    alpha = pm.Normal('alpha', -5, 1.5)\n",
    "    bA = pm.Normal('bA', 0, 2)\n",
    "    bB = pm.Normal('bB', 0, 2)\n",
    "    sigma = pm.Uniform('sigma', 0, 10)\n",
    "    \n",
    "    # deterministic\n",
    "    mu = alpha + bA*data['mean.growing.season_sc'] + bB*data['log_area_sc'] \n",
    "    \n",
    "    # likelihood\n",
    "    log_lang_cap = pm.Normal('log_lang_cap', mu, sigma, observed=data['log_lang_cap'])\n",
    "    trace_a = pm.sample(1000)\n"
   ]
  },
  {
   "cell_type": "code",
   "execution_count": 269,
   "metadata": {},
   "outputs": [
    {
     "data": {
      "text/html": [
       "<div>\n",
       "<style scoped>\n",
       "    .dataframe tbody tr th:only-of-type {\n",
       "        vertical-align: middle;\n",
       "    }\n",
       "\n",
       "    .dataframe tbody tr th {\n",
       "        vertical-align: top;\n",
       "    }\n",
       "\n",
       "    .dataframe thead th {\n",
       "        text-align: right;\n",
       "    }\n",
       "</style>\n",
       "<table border=\"1\" class=\"dataframe\">\n",
       "  <thead>\n",
       "    <tr style=\"text-align: right;\">\n",
       "      <th></th>\n",
       "      <th>index</th>\n",
       "      <th>mean</th>\n",
       "      <th>sd</th>\n",
       "      <th>hdi_3%</th>\n",
       "      <th>hdi_97%</th>\n",
       "      <th>mcse_mean</th>\n",
       "      <th>mcse_sd</th>\n",
       "      <th>ess_mean</th>\n",
       "      <th>ess_sd</th>\n",
       "      <th>ess_bulk</th>\n",
       "      <th>ess_tail</th>\n",
       "      <th>r_hat</th>\n",
       "    </tr>\n",
       "  </thead>\n",
       "  <tbody>\n",
       "    <tr>\n",
       "      <th>0</th>\n",
       "      <td>alpha</td>\n",
       "      <td>-5.44</td>\n",
       "      <td>0.17</td>\n",
       "      <td>-5.77</td>\n",
       "      <td>-5.14</td>\n",
       "      <td>0.0</td>\n",
       "      <td>0.0</td>\n",
       "      <td>2044.34</td>\n",
       "      <td>2044.34</td>\n",
       "      <td>2066.33</td>\n",
       "      <td>1441.97</td>\n",
       "      <td>1.0</td>\n",
       "    </tr>\n",
       "    <tr>\n",
       "      <th>1</th>\n",
       "      <td>bA</td>\n",
       "      <td>0.14</td>\n",
       "      <td>0.06</td>\n",
       "      <td>0.04</td>\n",
       "      <td>0.26</td>\n",
       "      <td>0.0</td>\n",
       "      <td>0.0</td>\n",
       "      <td>2190.13</td>\n",
       "      <td>2063.05</td>\n",
       "      <td>2191.81</td>\n",
       "      <td>1566.37</td>\n",
       "      <td>1.0</td>\n",
       "    </tr>\n",
       "    <tr>\n",
       "      <th>2</th>\n",
       "      <td>bB</td>\n",
       "      <td>-0.20</td>\n",
       "      <td>0.14</td>\n",
       "      <td>-0.49</td>\n",
       "      <td>0.04</td>\n",
       "      <td>0.0</td>\n",
       "      <td>0.0</td>\n",
       "      <td>2025.18</td>\n",
       "      <td>1898.42</td>\n",
       "      <td>2023.76</td>\n",
       "      <td>1685.19</td>\n",
       "      <td>1.0</td>\n",
       "    </tr>\n",
       "    <tr>\n",
       "      <th>3</th>\n",
       "      <td>sigma</td>\n",
       "      <td>1.45</td>\n",
       "      <td>0.13</td>\n",
       "      <td>1.22</td>\n",
       "      <td>1.70</td>\n",
       "      <td>0.0</td>\n",
       "      <td>0.0</td>\n",
       "      <td>2388.92</td>\n",
       "      <td>2276.24</td>\n",
       "      <td>2531.47</td>\n",
       "      <td>1607.40</td>\n",
       "      <td>1.0</td>\n",
       "    </tr>\n",
       "  </tbody>\n",
       "</table>\n",
       "</div>"
      ],
      "text/plain": [
       "   index  mean    sd  hdi_3%  hdi_97%  mcse_mean  mcse_sd  ess_mean   ess_sd  \\\n",
       "0  alpha -5.44  0.17   -5.77    -5.14        0.0      0.0   2044.34  2044.34   \n",
       "1     bA  0.14  0.06    0.04     0.26        0.0      0.0   2190.13  2063.05   \n",
       "2     bB -0.20  0.14   -0.49     0.04        0.0      0.0   2025.18  1898.42   \n",
       "3  sigma  1.45  0.13    1.22     1.70        0.0      0.0   2388.92  2276.24   \n",
       "\n",
       "   ess_bulk  ess_tail  r_hat  \n",
       "0   2066.33   1441.97    1.0  \n",
       "1   2191.81   1566.37    1.0  \n",
       "2   2023.76   1685.19    1.0  \n",
       "3   2531.47   1607.40    1.0  "
      ]
     },
     "execution_count": 269,
     "metadata": {},
     "output_type": "execute_result"
    }
   ],
   "source": [
    "az.summary(trace_a, round_to=2).reset_index()"
   ]
  },
  {
   "cell_type": "code",
   "execution_count": 270,
   "metadata": {},
   "outputs": [
    {
     "data": {
      "image/png": "[encoded data removed]",
      "text/plain": [
       "<Figure size 400x300 with 1 Axes>"
      ]
     },
     "metadata": {},
     "output_type": "display_data"
    }
   ],
   "source": [
    "plt.figure(figsize=(4,3))\n",
    "plt.hist(trace_a['bA'], label='mean.growing.season_sc')\n",
    "plt.hist(trace_a['bB'], label='log_area_sc')\n",
    "plt.legend()\n",
    "plt.grid()\n",
    "plt.show()\n"
   ]
  },
  {
   "cell_type": "code",
   "execution_count": 279,
   "metadata": {},
   "outputs": [
    {
     "data": {
      "image/png": "[encoded data removed]",
      "text/plain": [
       "<Figure size 400x400 with 1 Axes>"
      ]
     },
     "metadata": {},
     "output_type": "display_data"
    }
   ],
   "source": [
    "# seems to be positively associated, the posterior is solidly > 0\n",
    "# show MAP mean and 96% CI for this parameter\n",
    "# mu = alpha + bA*data['mean.growing.season_sc'] + bB*data['log_area_sc'] \n",
    "\n",
    "map_bA = trace_a['bA'].mean()\n",
    "map_bB = trace_a['bB'].mean()\n",
    "map_alpha = trace_a['alpha'].mean()\n",
    "map_ = map_alpha + map_bA*data['mean.growing.season_sc'] + map_bB*data['log_area_sc'].mean()\n",
    "map_pd = pd.DataFrame({'map':map_, 'mean.growing.season_sc':data['mean.growing.season_sc']})\n",
    "\n",
    "plt.figure(figsize=(4,4))\n",
    "plt.scatter(data['mean.growing.season_sc'], data['log_lang_cap'])\n",
    "\n",
    "# map regression line\n",
    "map_pd = map_pd.sort_values(by='mean.growing.season_sc')\n",
    "plt.plot(map_pd['mean.growing.season_sc'], map_pd['map'])\n",
    "\n",
    "# get the CI\n",
    "ci = 0.96\n",
    "lower = []; upper = []\n",
    "for i, j in zip(data['mean.growing.season_sc'], data['log_area_sc']):\n",
    "    sample_ = np.array(trace_a['alpha'] + i*trace_a['bA'] + data['log_area_sc'].mean()*trace_a['bB'])\n",
    "    lower_, upper_ = pm.stats.hpd(sample_, alpha=ci)\n",
    "    lower.append(lower_)\n",
    "    upper.append(upper_)\n",
    "    \n",
    "# 95% interval of mean\n",
    "int_pd = pd.DataFrame({'x':data['mean.growing.season_sc'], 'low':lower, 'high':upper})\n",
    "int_pd = int_pd.sort_values(by=['x'], ascending=True)\n",
    "plt.fill_between(int_pd['x'], int_pd['low'], int_pd['high'], alpha=0.6, color='dodgerblue')\n",
    "    \n",
    "\n",
    "plt.xlabel('mean.growing.season_sc')\n",
    "plt.ylabel('log_lang_cap')\n",
    "plt.grid()\n",
    "plt.show()"
   ]
  },
  {
   "cell_type": "markdown",
   "metadata": {},
   "source": [
    "## B"
   ]
  },
  {
   "cell_type": "code",
   "execution_count": 283,
   "metadata": {},
   "outputs": [],
   "source": [
    "# evaluate hypothesis that language diversity is negatively associated w/ stdev of growing season\n",
    "# also include area\n",
    "data['sd.growing.season_sc'] = data['sd.growing.season'] - data['sd.growing.season'].mean()"
   ]
  },
  {
   "cell_type": "code",
   "execution_count": 284,
   "metadata": {},
   "outputs": [
    {
     "name": "stderr",
     "output_type": "stream",
     "text": [
      "Auto-assigning NUTS sampler...\n",
      "Initializing NUTS using jitter+adapt_diag...\n",
      "Multiprocess sampling (2 chains in 2 jobs)\n",
      "NUTS: [sigma, bB, bA, alpha]\n"
     ]
    },
    {
     "data": {
      "text/html": [
       "\n",
       "    <div>\n",
       "        <style>\n",
       "            /* Turns off some styling */\n",
       "            progress {\n",
       "                /* gets rid of default border in Firefox and Opera. */\n",
       "                border: none;\n",
       "                /* Needs to be in here for Safari polyfill so background images work as expected. */\n",
       "                background-size: auto;\n",
       "            }\n",
       "            .progress-bar-interrupted, .progress-bar-interrupted::-webkit-progress-bar {\n",
       "                background: #F44336;\n",
       "            }\n",
       "        </style>\n",
       "      <progress value='4000' class='' max='4000' style='width:300px; height:20px; vertical-align: middle;'></progress>\n",
       "      100.00% [4000/4000 00:05<00:00 Sampling 2 chains, 0 divergences]\n",
       "    </div>\n",
       "    "
      ],
      "text/plain": [
       "<IPython.core.display.HTML object>"
      ]
     },
     "metadata": {},
     "output_type": "display_data"
    },
    {
     "name": "stderr",
     "output_type": "stream",
     "text": [
      "Sampling 2 chains for 1_000 tune and 1_000 draw iterations (2_000 + 2_000 draws total) took 18 seconds.\n"
     ]
    }
   ],
   "source": [
    "with pm.Model() as model_b:\n",
    "    # priors\n",
    "    alpha = pm.Normal('alpha', -5, 1.5)\n",
    "    bA = pm.Normal('bA', 0, 2)\n",
    "    bB = pm.Normal('bB', 0, 2)\n",
    "    sigma = pm.Uniform('sigma', 0, 10)\n",
    "    \n",
    "    # deterministic\n",
    "    mu = alpha + bA*data['sd.growing.season_sc'] + bB*data['log_area_sc'] \n",
    "    \n",
    "    # likelihood\n",
    "    log_lang_cap = pm.Normal('log_lang_cap', mu, sigma, observed=data['log_lang_cap'])\n",
    "    trace_b = pm.sample(1000)"
   ]
  },
  {
   "cell_type": "code",
   "execution_count": 286,
   "metadata": {},
   "outputs": [
    {
     "data": {
      "text/html": [
       "<div>\n",
       "<style scoped>\n",
       "    .dataframe tbody tr th:only-of-type {\n",
       "        vertical-align: middle;\n",
       "    }\n",
       "\n",
       "    .dataframe tbody tr th {\n",
       "        vertical-align: top;\n",
       "    }\n",
       "\n",
       "    .dataframe thead th {\n",
       "        text-align: right;\n",
       "    }\n",
       "</style>\n",
       "<table border=\"1\" class=\"dataframe\">\n",
       "  <thead>\n",
       "    <tr style=\"text-align: right;\">\n",
       "      <th></th>\n",
       "      <th>index</th>\n",
       "      <th>mean</th>\n",
       "      <th>sd</th>\n",
       "      <th>hdi_3%</th>\n",
       "      <th>hdi_97%</th>\n",
       "      <th>mcse_mean</th>\n",
       "      <th>mcse_sd</th>\n",
       "      <th>ess_mean</th>\n",
       "      <th>ess_sd</th>\n",
       "      <th>ess_bulk</th>\n",
       "      <th>ess_tail</th>\n",
       "      <th>r_hat</th>\n",
       "    </tr>\n",
       "  </thead>\n",
       "  <tbody>\n",
       "    <tr>\n",
       "      <th>0</th>\n",
       "      <td>alpha</td>\n",
       "      <td>-5.45</td>\n",
       "      <td>0.18</td>\n",
       "      <td>-5.76</td>\n",
       "      <td>-5.10</td>\n",
       "      <td>0.00</td>\n",
       "      <td>0.0</td>\n",
       "      <td>1909.62</td>\n",
       "      <td>1909.62</td>\n",
       "      <td>1924.86</td>\n",
       "      <td>1225.55</td>\n",
       "      <td>1.0</td>\n",
       "    </tr>\n",
       "    <tr>\n",
       "      <th>1</th>\n",
       "      <td>bA</td>\n",
       "      <td>-0.21</td>\n",
       "      <td>0.19</td>\n",
       "      <td>-0.58</td>\n",
       "      <td>0.15</td>\n",
       "      <td>0.01</td>\n",
       "      <td>0.0</td>\n",
       "      <td>1286.26</td>\n",
       "      <td>1286.26</td>\n",
       "      <td>1285.23</td>\n",
       "      <td>1458.85</td>\n",
       "      <td>1.0</td>\n",
       "    </tr>\n",
       "    <tr>\n",
       "      <th>2</th>\n",
       "      <td>bB</td>\n",
       "      <td>-0.23</td>\n",
       "      <td>0.16</td>\n",
       "      <td>-0.55</td>\n",
       "      <td>0.06</td>\n",
       "      <td>0.00</td>\n",
       "      <td>0.0</td>\n",
       "      <td>1266.00</td>\n",
       "      <td>1208.46</td>\n",
       "      <td>1266.78</td>\n",
       "      <td>1389.83</td>\n",
       "      <td>1.0</td>\n",
       "    </tr>\n",
       "    <tr>\n",
       "      <th>3</th>\n",
       "      <td>sigma</td>\n",
       "      <td>1.50</td>\n",
       "      <td>0.13</td>\n",
       "      <td>1.26</td>\n",
       "      <td>1.75</td>\n",
       "      <td>0.00</td>\n",
       "      <td>0.0</td>\n",
       "      <td>1985.32</td>\n",
       "      <td>1951.34</td>\n",
       "      <td>2014.15</td>\n",
       "      <td>1237.42</td>\n",
       "      <td>1.0</td>\n",
       "    </tr>\n",
       "  </tbody>\n",
       "</table>\n",
       "</div>"
      ],
      "text/plain": [
       "   index  mean    sd  hdi_3%  hdi_97%  mcse_mean  mcse_sd  ess_mean   ess_sd  \\\n",
       "0  alpha -5.45  0.18   -5.76    -5.10       0.00      0.0   1909.62  1909.62   \n",
       "1     bA -0.21  0.19   -0.58     0.15       0.01      0.0   1286.26  1286.26   \n",
       "2     bB -0.23  0.16   -0.55     0.06       0.00      0.0   1266.00  1208.46   \n",
       "3  sigma  1.50  0.13    1.26     1.75       0.00      0.0   1985.32  1951.34   \n",
       "\n",
       "   ess_bulk  ess_tail  r_hat  \n",
       "0   1924.86   1225.55    1.0  \n",
       "1   1285.23   1458.85    1.0  \n",
       "2   1266.78   1389.83    1.0  \n",
       "3   2014.15   1237.42    1.0  "
      ]
     },
     "execution_count": 286,
     "metadata": {},
     "output_type": "execute_result"
    }
   ],
   "source": [
    "az.summary(trace_b, round_to=2).reset_index()"
   ]
  },
  {
   "cell_type": "code",
   "execution_count": 288,
   "metadata": {},
   "outputs": [
    {
     "data": {
      "image/png": "[encoded data removed]",
      "text/plain": [
       "<Figure size 400x300 with 1 Axes>"
      ]
     },
     "metadata": {},
     "output_type": "display_data"
    }
   ],
   "source": [
    "plt.figure(figsize=(4,3))\n",
    "plt.hist(trace_b['bA'], label='sd.growing.season_sc')\n",
    "plt.hist(trace_b['bB'], label='log_area_sc')\n",
    "plt.legend()\n",
    "plt.grid()\n",
    "plt.show()"
   ]
  },
  {
   "cell_type": "code",
   "execution_count": 292,
   "metadata": {},
   "outputs": [
    {
     "data": {
      "image/png": "[encoded data removed]",
      "text/plain": [
       "<Figure size 400x400 with 1 Axes>"
      ]
     },
     "metadata": {},
     "output_type": "display_data"
    }
   ],
   "source": [
    "# hella negs\n",
    "# seems to be positively associated, the posterior is solidly > 0\n",
    "# show MAP mean and 96% CI for this parameter\n",
    "# mu = alpha + bA*data['sd.growing.season_sc'] + bB*data['log_area_sc'] \n",
    "\n",
    "\n",
    "map_bA = trace_b['bA'].mean()\n",
    "map_bB = trace_b['bB'].mean()\n",
    "map_alpha = trace_a['alpha'].mean()\n",
    "map_ = map_alpha + map_bA*data['sd.growing.season_sc'] + map_bB*data['log_area_sc'].mean()\n",
    "map_pd = pd.DataFrame({'map':map_, 'sd.growing.season_sc':data['sd.growing.season_sc']})\n",
    "\n",
    "plt.figure(figsize=(4,4))\n",
    "plt.scatter(data['sd.growing.season_sc'], data['log_lang_cap'])\n",
    "\n",
    "# map regression line\n",
    "map_pd = map_pd.sort_values(by='sd.growing.season_sc')\n",
    "plt.plot(map_pd['sd.growing.season_sc'], map_pd['map'])\n",
    "\n",
    "# get the CI\n",
    "ci = 0.96\n",
    "lower = []; upper = []\n",
    "for i, j in zip(data['sd.growing.season_sc'], data['log_area_sc']):\n",
    "    sample_ = np.array(trace_b['alpha'] + i*trace_b['bA'] + data['log_area_sc'].mean()*trace_b['bB'])\n",
    "    lower_, upper_ = pm.stats.hpd(sample_, alpha=ci)\n",
    "    lower.append(lower_)\n",
    "    upper.append(upper_)\n",
    "    \n",
    "# 95% interval of mean\n",
    "int_pd = pd.DataFrame({'x':data['sd.growing.season_sc'], 'low':lower, 'high':upper})\n",
    "int_pd = int_pd.sort_values(by=['x'], ascending=True)\n",
    "plt.fill_between(int_pd['x'], int_pd['low'], int_pd['high'], alpha=0.6, color='dodgerblue')\n",
    "    \n",
    "\n",
    "plt.xlabel('sd.growing.season_sc')\n",
    "plt.ylabel('log_lang_cap')\n",
    "plt.grid()\n",
    "plt.show()"
   ]
  },
  {
   "cell_type": "code",
   "execution_count": 293,
   "metadata": {},
   "outputs": [],
   "source": [
    "# yes, seems to be a negative correlation\n"
   ]
  },
  {
   "cell_type": "markdown",
   "metadata": {},
   "source": [
    "# C"
   ]
  },
  {
   "cell_type": "code",
   "execution_count": null,
   "metadata": {},
   "outputs": [],
   "source": [
    "# evaluate the hypothesis that mean growing and sd growing season interact"
   ]
  },
  {
   "cell_type": "code",
   "execution_count": 298,
   "metadata": {},
   "outputs": [
    {
     "name": "stderr",
     "output_type": "stream",
     "text": [
      "Auto-assigning NUTS sampler...\n",
      "Initializing NUTS using jitter+adapt_diag...\n",
      "Multiprocess sampling (2 chains in 2 jobs)\n",
      "NUTS: [sigma, bAB, bB, bA, alpha]\n"
     ]
    },
    {
     "data": {
      "text/html": [
       "\n",
       "    <div>\n",
       "        <style>\n",
       "            /* Turns off some styling */\n",
       "            progress {\n",
       "                /* gets rid of default border in Firefox and Opera. */\n",
       "                border: none;\n",
       "                /* Needs to be in here for Safari polyfill so background images work as expected. */\n",
       "                background-size: auto;\n",
       "            }\n",
       "            .progress-bar-interrupted, .progress-bar-interrupted::-webkit-progress-bar {\n",
       "                background: #F44336;\n",
       "            }\n",
       "        </style>\n",
       "      <progress value='4000' class='' max='4000' style='width:300px; height:20px; vertical-align: middle;'></progress>\n",
       "      100.00% [4000/4000 00:05<00:00 Sampling 2 chains, 0 divergences]\n",
       "    </div>\n",
       "    "
      ],
      "text/plain": [
       "<IPython.core.display.HTML object>"
      ]
     },
     "metadata": {},
     "output_type": "display_data"
    },
    {
     "name": "stderr",
     "output_type": "stream",
     "text": [
      "Sampling 2 chains for 1_000 tune and 1_000 draw iterations (2_000 + 2_000 draws total) took 11 seconds.\n"
     ]
    }
   ],
   "source": [
    "with pm.Model() as model_c:\n",
    "    # priors\n",
    "    alpha = pm.Normal('alpha', -5, 1.5)\n",
    "    bA = pm.Normal('bA', 0, 2)\n",
    "    bB = pm.Normal('bB', 0, 2)\n",
    "    bAB = pm.Normal('bAB', 0, 2) \n",
    "    sigma = pm.Uniform('sigma', 0, 10)\n",
    "    \n",
    "    # deterministic\n",
    "    mu = alpha + bA*data['sd.growing.season_sc'] + bB*data['mean.growing.season_sc'] + bAB*data['sd.growing.season_sc']*data['mean.growing.season_sc']\n",
    "    \n",
    "    # likelihood\n",
    "    log_lang_cap = pm.Normal('log_lang_cap', mu, sigma, observed=data['log_lang_cap'])\n",
    "    trace_c = pm.sample(1000)"
   ]
  },
  {
   "cell_type": "code",
   "execution_count": 299,
   "metadata": {},
   "outputs": [
    {
     "data": {
      "text/html": [
       "<div>\n",
       "<style scoped>\n",
       "    .dataframe tbody tr th:only-of-type {\n",
       "        vertical-align: middle;\n",
       "    }\n",
       "\n",
       "    .dataframe tbody tr th {\n",
       "        vertical-align: top;\n",
       "    }\n",
       "\n",
       "    .dataframe thead th {\n",
       "        text-align: right;\n",
       "    }\n",
       "</style>\n",
       "<table border=\"1\" class=\"dataframe\">\n",
       "  <thead>\n",
       "    <tr style=\"text-align: right;\">\n",
       "      <th></th>\n",
       "      <th>mean</th>\n",
       "      <th>sd</th>\n",
       "      <th>hdi_3%</th>\n",
       "      <th>hdi_97%</th>\n",
       "      <th>mcse_mean</th>\n",
       "      <th>mcse_sd</th>\n",
       "      <th>ess_mean</th>\n",
       "      <th>ess_sd</th>\n",
       "      <th>ess_bulk</th>\n",
       "      <th>ess_tail</th>\n",
       "      <th>r_hat</th>\n",
       "    </tr>\n",
       "  </thead>\n",
       "  <tbody>\n",
       "    <tr>\n",
       "      <th>alpha</th>\n",
       "      <td>-5.446</td>\n",
       "      <td>0.158</td>\n",
       "      <td>-5.734</td>\n",
       "      <td>-5.149</td>\n",
       "      <td>0.003</td>\n",
       "      <td>0.002</td>\n",
       "      <td>2378.0</td>\n",
       "      <td>2369.0</td>\n",
       "      <td>2388.0</td>\n",
       "      <td>1428.0</td>\n",
       "      <td>1.0</td>\n",
       "    </tr>\n",
       "    <tr>\n",
       "      <th>bA</th>\n",
       "      <td>-0.344</td>\n",
       "      <td>0.151</td>\n",
       "      <td>-0.613</td>\n",
       "      <td>-0.059</td>\n",
       "      <td>0.003</td>\n",
       "      <td>0.003</td>\n",
       "      <td>1924.0</td>\n",
       "      <td>1810.0</td>\n",
       "      <td>1889.0</td>\n",
       "      <td>1561.0</td>\n",
       "      <td>1.0</td>\n",
       "    </tr>\n",
       "    <tr>\n",
       "      <th>bB</th>\n",
       "      <td>0.114</td>\n",
       "      <td>0.058</td>\n",
       "      <td>-0.000</td>\n",
       "      <td>0.220</td>\n",
       "      <td>0.001</td>\n",
       "      <td>0.001</td>\n",
       "      <td>2007.0</td>\n",
       "      <td>1958.0</td>\n",
       "      <td>1963.0</td>\n",
       "      <td>1348.0</td>\n",
       "      <td>1.0</td>\n",
       "    </tr>\n",
       "    <tr>\n",
       "      <th>bAB</th>\n",
       "      <td>-0.108</td>\n",
       "      <td>0.049</td>\n",
       "      <td>-0.199</td>\n",
       "      <td>-0.017</td>\n",
       "      <td>0.001</td>\n",
       "      <td>0.001</td>\n",
       "      <td>1904.0</td>\n",
       "      <td>1759.0</td>\n",
       "      <td>1917.0</td>\n",
       "      <td>1477.0</td>\n",
       "      <td>1.0</td>\n",
       "    </tr>\n",
       "    <tr>\n",
       "      <th>sigma</th>\n",
       "      <td>1.368</td>\n",
       "      <td>0.116</td>\n",
       "      <td>1.157</td>\n",
       "      <td>1.592</td>\n",
       "      <td>0.003</td>\n",
       "      <td>0.002</td>\n",
       "      <td>1981.0</td>\n",
       "      <td>1945.0</td>\n",
       "      <td>2020.0</td>\n",
       "      <td>1531.0</td>\n",
       "      <td>1.0</td>\n",
       "    </tr>\n",
       "  </tbody>\n",
       "</table>\n",
       "</div>"
      ],
      "text/plain": [
       "        mean     sd  hdi_3%  hdi_97%  mcse_mean  mcse_sd  ess_mean  ess_sd  \\\n",
       "alpha -5.446  0.158  -5.734   -5.149      0.003    0.002    2378.0  2369.0   \n",
       "bA    -0.344  0.151  -0.613   -0.059      0.003    0.003    1924.0  1810.0   \n",
       "bB     0.114  0.058  -0.000    0.220      0.001    0.001    2007.0  1958.0   \n",
       "bAB   -0.108  0.049  -0.199   -0.017      0.001    0.001    1904.0  1759.0   \n",
       "sigma  1.368  0.116   1.157    1.592      0.003    0.002    1981.0  1945.0   \n",
       "\n",
       "       ess_bulk  ess_tail  r_hat  \n",
       "alpha    2388.0    1428.0    1.0  \n",
       "bA       1889.0    1561.0    1.0  \n",
       "bB       1963.0    1348.0    1.0  \n",
       "bAB      1917.0    1477.0    1.0  \n",
       "sigma    2020.0    1531.0    1.0  "
      ]
     },
     "execution_count": 299,
     "metadata": {},
     "output_type": "execute_result"
    }
   ],
   "source": [
    "az.summary(trace_c)"
   ]
  },
  {
   "cell_type": "code",
   "execution_count": 306,
   "metadata": {},
   "outputs": [],
   "source": [
    "# calculate the interaction term, gamma\n",
    "sample_pd = pd.DataFrame({'bA':trace_c['bA'], \n",
    "                          'bB':trace_c['bB'], \n",
    "                          'bAB':trace_c['bAB']})\n",
    "\n",
    "sample_pd['gamma']"
   ]
  },
  {
   "cell_type": "code",
   "execution_count": 311,
   "metadata": {},
   "outputs": [
    {
     "data": {
      "image/png": "[encoded data removed]",
      "text/plain": [
       "<Figure size 400x300 with 1 Axes>"
      ]
     },
     "metadata": {},
     "output_type": "display_data"
    }
   ],
   "source": [
    "# ideally we make three different plots.  okay, i guess we will do that\n",
    "# each column will be a different value of 'sd.growing.season_sc'\n",
    "plt.figure(figsize=(4,3))\n",
    "plt.hist(data['sd.growing.season_sc'])\n",
    "plt.xlabel('sd.growing.season_sc')\n",
    "plt.grid()\n",
    "plt.show()"
   ]
  },
  {
   "cell_type": "code",
   "execution_count": null,
   "metadata": {},
   "outputs": [],
   "source": [
    "# we will make plots for MAP predictions will using -1, 0, and +1 for sd.growing.season_sc\n"
   ]
  },
  {
   "cell_type": "code",
   "execution_count": 332,
   "metadata": {},
   "outputs": [
    {
     "data": {
      "image/png": "[encoded data removed]",
      "text/plain": [
       "<Figure size 1200x400 with 3 Axes>"
      ]
     },
     "metadata": {},
     "output_type": "display_data"
    }
   ],
   "source": [
    "# mu = alpha + bA*data['sd.growing.season_sc'] + bB*data['mean.growing.season_sc'] \n",
    "# + bAB*data['sd.growing.season_sc']*data['mean.growing.season_sc']\n",
    "\n",
    "map_bA = trace_c['bA'].mean()\n",
    "map_bB = trace_c['bB'].mean()\n",
    "map_bAB = trace_c['bAB'].mean()\n",
    "map_alpha = trace_c['alpha'].mean()\n",
    "\n",
    "\n",
    "# plot o'clock\n",
    "plt.figure(figsize=(12,4))\n",
    "    \n",
    "\n",
    "for index, const in enumerate([-1, 0, 1]):\n",
    "    map_ = map_alpha + map_bA*const + map_bB*data['mean.growing.season_sc']  + map_bAB*data['mean.growing.season_sc'] *const\n",
    "    map_pd = pd.DataFrame({'map':map_, 'mean.growing.season_sc':data['mean.growing.season_sc']})\n",
    "    \n",
    "    # get the CI\n",
    "    ci = 0.96\n",
    "    lower = []; upper = []\n",
    "    for i, j in zip(data['mean.growing.season_sc'], itertools.repeat(const)):\n",
    "        sample_ = np.array(trace_c['alpha'] + const*trace_c['bA'] + i*trace_c['bB'] + const*i*trace_c['bAB'])\n",
    "        lower_, upper_ = pm.stats.hpd(sample_, alpha=ci)\n",
    "        lower.append(lower_)\n",
    "        upper.append(upper_)\n",
    "    \n",
    "    \n",
    "    int_pd = pd.DataFrame({'x':data['mean.growing.season_sc'], 'low':lower, 'high':upper})\n",
    "    int_pd = int_pd.sort_values(by=['x'], ascending=True)\n",
    "\n",
    "    # PLOT IT UP\n",
    "    plt.subplot(1,3, index+1) \n",
    "    \n",
    "    # raw data\n",
    "    plt.scatter(data['mean.growing.season_sc'], data['log_lang_cap'])\n",
    "    \n",
    "    # map regression line\n",
    "    map_pd = map_pd.sort_values(by='mean.growing.season_sc')\n",
    "    plt.plot(map_pd['mean.growing.season_sc'], map_pd['map'])\n",
    "    \n",
    "    # ci\n",
    "    plt.fill_between(int_pd['x'], int_pd['low'], int_pd['high'], alpha=0.6, color='dodgerblue')\n",
    "    \n",
    "    plt.title(f'mean.growing.season_sc: {const}', fontsize=14)\n",
    "    plt.xlabel('mean.growing.season_sc')\n",
    "    plt.ylabel('log_lang_cap')\n",
    "    plt.grid()\n",
    "    \n",
    "plt.show()"
   ]
  },
  {
   "cell_type": "code",
   "execution_count": null,
   "metadata": {},
   "outputs": [],
   "source": []
  },
  {
   "cell_type": "code",
   "execution_count": null,
   "metadata": {},
   "outputs": [],
   "source": []
  },
  {
   "cell_type": "code",
   "execution_count": null,
   "metadata": {},
   "outputs": [],
   "source": []
  },
  {
   "cell_type": "code",
   "execution_count": 307,
   "metadata": {},
   "outputs": [
    {
     "data": {
      "text/html": [
       "<div>\n",
       "<style scoped>\n",
       "    .dataframe tbody tr th:only-of-type {\n",
       "        vertical-align: middle;\n",
       "    }\n",
       "\n",
       "    .dataframe tbody tr th {\n",
       "        vertical-align: top;\n",
       "    }\n",
       "\n",
       "    .dataframe thead th {\n",
       "        text-align: right;\n",
       "    }\n",
       "</style>\n",
       "<table border=\"1\" class=\"dataframe\">\n",
       "  <thead>\n",
       "    <tr style=\"text-align: right;\">\n",
       "      <th></th>\n",
       "      <th>bA</th>\n",
       "      <th>bB</th>\n",
       "      <th>bAB</th>\n",
       "    </tr>\n",
       "  </thead>\n",
       "  <tbody>\n",
       "    <tr>\n",
       "      <th>0</th>\n",
       "      <td>-0.320250</td>\n",
       "      <td>0.149648</td>\n",
       "      <td>-0.157676</td>\n",
       "    </tr>\n",
       "    <tr>\n",
       "      <th>1</th>\n",
       "      <td>-0.395061</td>\n",
       "      <td>0.113241</td>\n",
       "      <td>-0.030749</td>\n",
       "    </tr>\n",
       "    <tr>\n",
       "      <th>2</th>\n",
       "      <td>-0.344234</td>\n",
       "      <td>0.110670</td>\n",
       "      <td>-0.163890</td>\n",
       "    </tr>\n",
       "    <tr>\n",
       "      <th>3</th>\n",
       "      <td>-0.131657</td>\n",
       "      <td>0.031242</td>\n",
       "      <td>-0.103268</td>\n",
       "    </tr>\n",
       "    <tr>\n",
       "      <th>4</th>\n",
       "      <td>-0.187680</td>\n",
       "      <td>0.067495</td>\n",
       "      <td>-0.196132</td>\n",
       "    </tr>\n",
       "    <tr>\n",
       "      <th>...</th>\n",
       "      <td>...</td>\n",
       "      <td>...</td>\n",
       "      <td>...</td>\n",
       "    </tr>\n",
       "    <tr>\n",
       "      <th>1995</th>\n",
       "      <td>-0.482601</td>\n",
       "      <td>0.129809</td>\n",
       "      <td>-0.069050</td>\n",
       "    </tr>\n",
       "    <tr>\n",
       "      <th>1996</th>\n",
       "      <td>-0.341824</td>\n",
       "      <td>0.191125</td>\n",
       "      <td>-0.105792</td>\n",
       "    </tr>\n",
       "    <tr>\n",
       "      <th>1997</th>\n",
       "      <td>-0.117941</td>\n",
       "      <td>0.085368</td>\n",
       "      <td>-0.128187</td>\n",
       "    </tr>\n",
       "    <tr>\n",
       "      <th>1998</th>\n",
       "      <td>-0.223569</td>\n",
       "      <td>0.113142</td>\n",
       "      <td>-0.123332</td>\n",
       "    </tr>\n",
       "    <tr>\n",
       "      <th>1999</th>\n",
       "      <td>-0.380650</td>\n",
       "      <td>0.105111</td>\n",
       "      <td>-0.110561</td>\n",
       "    </tr>\n",
       "  </tbody>\n",
       "</table>\n",
       "<p>2000 rows × 3 columns</p>\n",
       "</div>"
      ],
      "text/plain": [
       "            bA        bB       bAB\n",
       "0    -0.320250  0.149648 -0.157676\n",
       "1    -0.395061  0.113241 -0.030749\n",
       "2    -0.344234  0.110670 -0.163890\n",
       "3    -0.131657  0.031242 -0.103268\n",
       "4    -0.187680  0.067495 -0.196132\n",
       "...        ...       ...       ...\n",
       "1995 -0.482601  0.129809 -0.069050\n",
       "1996 -0.341824  0.191125 -0.105792\n",
       "1997 -0.117941  0.085368 -0.128187\n",
       "1998 -0.223569  0.113142 -0.123332\n",
       "1999 -0.380650  0.105111 -0.110561\n",
       "\n",
       "[2000 rows x 3 columns]"
      ]
     },
     "execution_count": 307,
     "metadata": {},
     "output_type": "execute_result"
    }
   ],
   "source": [
    "plt.figure(figsize=(4,4))\n",
    "plt.scatter(data['sd.growing.season_sc'], data['log_lang_cap'])\n",
    "\n",
    "# map regression line\n",
    "map_pd = map_pd.sort_values(by='sd.growing.season_sc')\n",
    "plt.plot(map_pd['sd.growing.season_sc'], map_pd['map'])\n",
    "\n",
    "# get the CI\n",
    "ci = 0.96\n",
    "lower = []; upper = []\n",
    "for i, j in zip(data['sd.growing.season_sc'], data['log_area_sc']):\n",
    "    sample_ = np.array(trace_b['alpha'] + i*trace_b['bA'] + data['log_area_sc'].mean()*trace_b['bB'])\n",
    "    lower_, upper_ = pm.stats.hpd(sample_, alpha=ci)\n",
    "    lower.append(lower_)\n",
    "    upper.append(upper_)\n",
    "    \n",
    "# 95% interval of mean\n",
    "int_pd = pd.DataFrame({'x':data['sd.growing.season_sc'], 'low':lower, 'high':upper})\n",
    "int_pd = int_pd.sort_values(by=['x'], ascending=True)\n",
    "plt.fill_between(int_pd['x'], int_pd['low'], int_pd['high'], alpha=0.6, color='dodgerblue')\n",
    "    \n",
    "\n",
    "plt.xlabel('sd.growing.season_sc')\n",
    "plt.ylabel('log_lang_cap')\n",
    "plt.grid()\n",
    "plt.show()"
   ]
  },
  {
   "cell_type": "code",
   "execution_count": null,
   "metadata": {},
   "outputs": [],
   "source": []
  }
 ],
 "metadata": {
  "kernelspec": {
   "display_name": "Python 3",
   "language": "python",
   "name": "python3"
  },
  "language_info": {
   "codemirror_mode": {
    "name": "ipython",
    "version": 3
   },
   "file_extension": ".py",
   "mimetype": "text/x-python",
   "name": "python",
   "nbconvert_exporter": "python",
   "pygments_lexer": "ipython3",
   "version": "3.8.3"
  }
 },
 "nbformat": 4,
 "nbformat_minor": 4
}
