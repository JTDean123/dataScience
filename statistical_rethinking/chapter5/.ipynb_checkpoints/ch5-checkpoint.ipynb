{
 "cells": [
  {
   "cell_type": "markdown",
   "metadata": {},
   "source": [
    "# chapter5"
   ]
  },
  {
   "cell_type": "code",
   "execution_count": 3,
   "metadata": {},
   "outputs": [],
   "source": [
    "import numpy as np\n",
    "import random\n",
    "import pandas as pd\n",
    "import scipy.stats\n",
    "\n",
    "import matplotlib as plt\n",
    "import matplotlib.pyplot as plt\n",
    "plt.rcdefaults()\n",
    "import matplotlib as mpl\n",
    "mpl.rc(\"figure\", facecolor=\"white\")\n",
    "plt.rc('axes', axisbelow=True)\n",
    "\n",
    "import pymc3 as pm"
   ]
  },
  {
   "cell_type": "code",
   "execution_count": null,
   "metadata": {},
   "outputs": [],
   "source": []
  },
  {
   "cell_type": "code",
   "execution_count": null,
   "metadata": {},
   "outputs": [],
   "source": []
  },
  {
   "cell_type": "markdown",
   "metadata": {},
   "source": [
    "# 4M1"
   ]
  },
  {
   "cell_type": "code",
   "execution_count": 135,
   "metadata": {},
   "outputs": [
    {
     "data": {
      "text/html": [
       "<div>\n",
       "<style scoped>\n",
       "    .dataframe tbody tr th:only-of-type {\n",
       "        vertical-align: middle;\n",
       "    }\n",
       "\n",
       "    .dataframe tbody tr th {\n",
       "        vertical-align: top;\n",
       "    }\n",
       "\n",
       "    .dataframe thead th {\n",
       "        text-align: right;\n",
       "    }\n",
       "</style>\n",
       "<table border=\"1\" class=\"dataframe\">\n",
       "  <thead>\n",
       "    <tr style=\"text-align: right;\">\n",
       "      <th></th>\n",
       "      <th>drowning</th>\n",
       "      <th>ice_cream</th>\n",
       "      <th>temperature</th>\n",
       "    </tr>\n",
       "  </thead>\n",
       "  <tbody>\n",
       "    <tr>\n",
       "      <th>0</th>\n",
       "      <td>-1.690282</td>\n",
       "      <td>-1.587659</td>\n",
       "      <td>-1.591902</td>\n",
       "    </tr>\n",
       "    <tr>\n",
       "      <th>1</th>\n",
       "      <td>-1.710511</td>\n",
       "      <td>-2.089103</td>\n",
       "      <td>-1.694985</td>\n",
       "    </tr>\n",
       "    <tr>\n",
       "      <th>2</th>\n",
       "      <td>-1.670763</td>\n",
       "      <td>-1.223004</td>\n",
       "      <td>-1.616103</td>\n",
       "    </tr>\n",
       "    <tr>\n",
       "      <th>3</th>\n",
       "      <td>-1.559625</td>\n",
       "      <td>-0.797216</td>\n",
       "      <td>-1.702660</td>\n",
       "    </tr>\n",
       "    <tr>\n",
       "      <th>4</th>\n",
       "      <td>-1.567629</td>\n",
       "      <td>-2.268184</td>\n",
       "      <td>-1.494324</td>\n",
       "    </tr>\n",
       "  </tbody>\n",
       "</table>\n",
       "</div>"
      ],
      "text/plain": [
       "   drowning  ice_cream  temperature\n",
       "0 -1.690282  -1.587659    -1.591902\n",
       "1 -1.710511  -2.089103    -1.694985\n",
       "2 -1.670763  -1.223004    -1.616103\n",
       "3 -1.559625  -0.797216    -1.702660\n",
       "4 -1.567629  -2.268184    -1.494324"
      ]
     },
     "execution_count": 135,
     "metadata": {},
     "output_type": "execute_result"
    }
   ],
   "source": [
    "# invent your own example of a suprious correlation\n",
    "# drownings / day as a function of ice cream consumption per day and average daily temp\n",
    "\n",
    "data = pd.DataFrame({'drowning':np.arange(0, 10, 0.1) + np.random.normal(2, 0.1, size=data.shape[0]), \n",
    "                     'ice_cream':data['drowning']*0.3 + np.random.normal(2, 0.1, size=data.shape[0]), \n",
    "                     'temperature':data['drowning'] + 20 + np.random.normal(2, 0.1, size=data.shape[0])})\n",
    "\n",
    "# standardize\n",
    "data = (data-data.mean())/data.std()\n",
    "data.head()"
   ]
  },
  {
   "cell_type": "code",
   "execution_count": 136,
   "metadata": {},
   "outputs": [
    {
     "data": {
      "text/plain": [
       "4.4653170050423795e-15"
      ]
     },
     "execution_count": 136,
     "metadata": {},
     "output_type": "execute_result"
    }
   ],
   "source": [
    "data['ice_cream'].mean()"
   ]
  },
  {
   "cell_type": "code",
   "execution_count": null,
   "metadata": {},
   "outputs": [],
   "source": []
  },
  {
   "cell_type": "code",
   "execution_count": 137,
   "metadata": {},
   "outputs": [
    {
     "data": {
      "text/plain": [
       "Text(0, 0.5, 'ice_cream')"
      ]
     },
     "execution_count": 137,
     "metadata": {},
     "output_type": "execute_result"
    },
    {
     "data": {
      "image/png": "[encoded data removed]",
      "text/plain": [
       "<Figure size 400x200 with 1 Axes>"
      ]
     },
     "metadata": {},
     "output_type": "display_data"
    },
    {
     "data": {
      "image/png": "[encoded data removed]",
      "text/plain": [
       "<Figure size 400x200 with 1 Axes>"
      ]
     },
     "metadata": {},
     "output_type": "display_data"
    },
    {
     "data": {
      "image/png": "[encoded data removed]",
      "text/plain": [
       "<Figure size 400x200 with 1 Axes>"
      ]
     },
     "metadata": {},
     "output_type": "display_data"
    }
   ],
   "source": [
    "plt.figure(figsize=(4,2))\n",
    "plt.scatter(data['ice_cream'], data['drowning'])\n",
    "plt.grid()\n",
    "plt.xlabel('ice_cream')\n",
    "plt.ylabel('drowning')\n",
    "\n",
    "plt.figure(figsize=(4,2))\n",
    "plt.scatter(data['temperature'], data['drowning'])\n",
    "plt.grid()\n",
    "plt.xlabel('temperature')\n",
    "plt.ylabel('drowning')\n",
    "\n",
    "plt.figure(figsize=(4,2))\n",
    "plt.scatter(data['temperature'], data['ice_cream'])\n",
    "plt.grid()\n",
    "plt.xlabel('temperature')\n",
    "plt.ylabel('ice_cream')"
   ]
  },
  {
   "cell_type": "code",
   "execution_count": 138,
   "metadata": {},
   "outputs": [
    {
     "data": {
      "text/plain": [
       "-1.5987211554602254e-16"
      ]
     },
     "execution_count": 138,
     "metadata": {},
     "output_type": "execute_result"
    }
   ],
   "source": [
    "data['drowning'].mean()"
   ]
  },
  {
   "cell_type": "code",
   "execution_count": 139,
   "metadata": {},
   "outputs": [
    {
     "data": {
      "text/plain": [
       "0.9999999999999997"
      ]
     },
     "execution_count": 139,
     "metadata": {},
     "output_type": "execute_result"
    }
   ],
   "source": [
    "data['drowning'].std()"
   ]
  },
  {
   "cell_type": "markdown",
   "metadata": {},
   "source": [
    "## ice cream vs drowning"
   ]
  },
  {
   "cell_type": "code",
   "execution_count": 140,
   "metadata": {},
   "outputs": [
    {
     "name": "stderr",
     "output_type": "stream",
     "text": [
      "Auto-assigning NUTS sampler...\n",
      "Initializing NUTS using jitter+adapt_diag...\n",
      "Multiprocess sampling (2 chains in 2 jobs)\n",
      "NUTS: [sigma, beta, alpha]\n"
     ]
    },
    {
     "data": {
      "text/html": [
       "\n",
       "    <div>\n",
       "        <style>\n",
       "            /* Turns off some styling */\n",
       "            progress {\n",
       "                /* gets rid of default border in Firefox and Opera. */\n",
       "                border: none;\n",
       "                /* Needs to be in here for Safari polyfill so background images work as expected. */\n",
       "                background-size: auto;\n",
       "            }\n",
       "            .progress-bar-interrupted, .progress-bar-interrupted::-webkit-progress-bar {\n",
       "                background: #F44336;\n",
       "            }\n",
       "        </style>\n",
       "      <progress value='4000' class='' max='4000' style='width:300px; height:20px; vertical-align: middle;'></progress>\n",
       "      100.00% [4000/4000 00:05<00:00 Sampling 2 chains, 0 divergences]\n",
       "    </div>\n",
       "    "
      ],
      "text/plain": [
       "<IPython.core.display.HTML object>"
      ]
     },
     "metadata": {},
     "output_type": "display_data"
    },
    {
     "name": "stderr",
     "output_type": "stream",
     "text": [
      "Sampling 2 chains for 1_000 tune and 1_000 draw iterations (2_000 + 2_000 draws total) took 11 seconds.\n"
     ]
    }
   ],
   "source": [
    "# model each separately\n",
    "# ice cream vs drowning\n",
    "with pm.Model() as linear_model:\n",
    "    \n",
    "    # priors\n",
    "    alpha = pm.Normal('alpha', mu=7, sigma=3)\n",
    "    beta = pm.Normal('beta', mu=0, sigma=10)\n",
    "    sigma = pm.Uniform('sigma', lower=0, upper=10)\n",
    "    \n",
    "    # discriminative\n",
    "    mu = alpha + beta*data['ice_cream']\n",
    "\n",
    "    # likelihood\n",
    "    drown = pm.Normal('drown', mu=mu, sigma=sigma, observed=data['drowning'])\n",
    "    \n",
    "    # sample from the posterior\n",
    "    trace = pm.sample(draws=1000, model=linear_model)\n",
    "    \n",
    "    "
   ]
  },
  {
   "cell_type": "code",
   "execution_count": 141,
   "metadata": {},
   "outputs": [
    {
     "name": "stdout",
     "output_type": "stream",
     "text": [
      "0.9373674716445157\n",
      "0.037457042907768134\n",
      "[0.88297146 1.00480577]\n"
     ]
    },
    {
     "name": "stderr",
     "output_type": "stream",
     "text": [
      "/opt/anaconda3/lib/python3.8/site-packages/arviz/stats/stats.py:337: UserWarning: hpd will be deprecated Please replace hdi\n",
      "  warnings.warn(\n"
     ]
    }
   ],
   "source": [
    "# get the stats\n",
    "print(trace['beta'].mean())\n",
    "print(trace['beta'].std())\n",
    "print(pm.stats.hpd(trace['beta'], 0.9))"
   ]
  },
  {
   "cell_type": "markdown",
   "metadata": {},
   "source": [
    "## temp vs. drowning"
   ]
  },
  {
   "cell_type": "code",
   "execution_count": 142,
   "metadata": {},
   "outputs": [
    {
     "name": "stderr",
     "output_type": "stream",
     "text": [
      "Auto-assigning NUTS sampler...\n",
      "Initializing NUTS using jitter+adapt_diag...\n",
      "Multiprocess sampling (2 chains in 2 jobs)\n",
      "NUTS: [sigma, beta, alpha]\n"
     ]
    },
    {
     "data": {
      "text/html": [
       "\n",
       "    <div>\n",
       "        <style>\n",
       "            /* Turns off some styling */\n",
       "            progress {\n",
       "                /* gets rid of default border in Firefox and Opera. */\n",
       "                border: none;\n",
       "                /* Needs to be in here for Safari polyfill so background images work as expected. */\n",
       "                background-size: auto;\n",
       "            }\n",
       "            .progress-bar-interrupted, .progress-bar-interrupted::-webkit-progress-bar {\n",
       "                background: #F44336;\n",
       "            }\n",
       "        </style>\n",
       "      <progress value='4000' class='' max='4000' style='width:300px; height:20px; vertical-align: middle;'></progress>\n",
       "      100.00% [4000/4000 00:04<00:00 Sampling 2 chains, 0 divergences]\n",
       "    </div>\n",
       "    "
      ],
      "text/plain": [
       "<IPython.core.display.HTML object>"
      ]
     },
     "metadata": {},
     "output_type": "display_data"
    },
    {
     "name": "stderr",
     "output_type": "stream",
     "text": [
      "Sampling 2 chains for 1_000 tune and 1_000 draw iterations (2_000 + 2_000 draws total) took 10 seconds.\n"
     ]
    }
   ],
   "source": [
    "with pm.Model() as linear_model:\n",
    "    \n",
    "    # priors\n",
    "    alpha = pm.Normal('alpha', mu=7, sigma=3)\n",
    "    beta = pm.Normal('beta', mu=0, sigma=10)\n",
    "    sigma = pm.Uniform('sigma', lower=0, upper=10)\n",
    "    \n",
    "    # discriminative\n",
    "    mu = alpha + beta*data['temperature']\n",
    "\n",
    "    # likelihood\n",
    "    drown = pm.Normal('drown', mu=mu, sigma=sigma, observed=data['drowning'])\n",
    "    \n",
    "    # sample from the posterior\n",
    "    trace = pm.sample(draws=1000, model=linear_model)\n",
    "    "
   ]
  },
  {
   "cell_type": "code",
   "execution_count": 143,
   "metadata": {},
   "outputs": [
    {
     "name": "stdout",
     "output_type": "stream",
     "text": [
      "0.9946805545468058\n",
      "0.01015891056557032\n",
      "[0.97919457 1.01176741]\n"
     ]
    },
    {
     "name": "stderr",
     "output_type": "stream",
     "text": [
      "/opt/anaconda3/lib/python3.8/site-packages/arviz/stats/stats.py:337: UserWarning: hpd will be deprecated Please replace hdi\n",
      "  warnings.warn(\n"
     ]
    }
   ],
   "source": [
    "# get the stats\n",
    "print(trace['beta'].mean())\n",
    "print(trace['beta'].std())\n",
    "print(pm.stats.hpd(trace['beta'], 0.9))"
   ]
  },
  {
   "cell_type": "markdown",
   "metadata": {},
   "source": [
    "## ice cream and temp vs drowning"
   ]
  },
  {
   "cell_type": "code",
   "execution_count": 144,
   "metadata": {},
   "outputs": [
    {
     "name": "stderr",
     "output_type": "stream",
     "text": [
      "Auto-assigning NUTS sampler...\n",
      "Initializing NUTS using jitter+adapt_diag...\n",
      "Multiprocess sampling (2 chains in 2 jobs)\n",
      "NUTS: [sigma, gamma, beta, alpha]\n"
     ]
    },
    {
     "data": {
      "text/html": [
       "\n",
       "    <div>\n",
       "        <style>\n",
       "            /* Turns off some styling */\n",
       "            progress {\n",
       "                /* gets rid of default border in Firefox and Opera. */\n",
       "                border: none;\n",
       "                /* Needs to be in here for Safari polyfill so background images work as expected. */\n",
       "                background-size: auto;\n",
       "            }\n",
       "            .progress-bar-interrupted, .progress-bar-interrupted::-webkit-progress-bar {\n",
       "                background: #F44336;\n",
       "            }\n",
       "        </style>\n",
       "      <progress value='4000' class='' max='4000' style='width:300px; height:20px; vertical-align: middle;'></progress>\n",
       "      100.00% [4000/4000 00:08<00:00 Sampling 2 chains, 0 divergences]\n",
       "    </div>\n",
       "    "
      ],
      "text/plain": [
       "<IPython.core.display.HTML object>"
      ]
     },
     "metadata": {},
     "output_type": "display_data"
    },
    {
     "name": "stderr",
     "output_type": "stream",
     "text": [
      "Sampling 2 chains for 1_000 tune and 1_000 draw iterations (2_000 + 2_000 draws total) took 14 seconds.\n"
     ]
    }
   ],
   "source": [
    "with pm.Model() as linear_model:\n",
    "    \n",
    "    # priors\n",
    "    alpha = pm.Normal('alpha', mu=7, sigma=3)\n",
    "    beta = pm.Normal('beta', mu=0, sigma=10)\n",
    "    gamma = pm.Normal('gamma', mu=0, sigma=10)\n",
    "    sigma = pm.Uniform('sigma', lower=0, upper=10)\n",
    "    \n",
    "    # discriminative\n",
    "    mu = alpha + beta*data['temperature'] + gamma*data['ice_cream']\n",
    "\n",
    "    # likelihood\n",
    "    drown = pm.Normal('drown', mu=mu, sigma=sigma, observed=data['drowning'])\n",
    "    \n",
    "    # sample from the posterior\n",
    "    trace = pm.sample(draws=1000, model=linear_model)"
   ]
  },
  {
   "cell_type": "code",
   "execution_count": 145,
   "metadata": {},
   "outputs": [
    {
     "name": "stdout",
     "output_type": "stream",
     "text": [
      "TEMP\n",
      "0.9142882204323882\n",
      "0.027001496229380813\n",
      "[0.87196389 0.95997883]\n",
      "\n",
      "\n",
      "\n",
      "ICE CREAM\n",
      "0.08694572857186754\n",
      "0.02717676320176203\n",
      "[0.04133335 0.13053294]\n"
     ]
    },
    {
     "name": "stderr",
     "output_type": "stream",
     "text": [
      "/opt/anaconda3/lib/python3.8/site-packages/arviz/stats/stats.py:337: UserWarning: hpd will be deprecated Please replace hdi\n",
      "  warnings.warn(\n"
     ]
    }
   ],
   "source": [
    "# get the stats\n",
    "print('TEMP')\n",
    "print(trace['beta'].mean())\n",
    "print(trace['beta'].std())\n",
    "print(pm.stats.hpd(trace['beta'], 0.9))\n",
    "\n",
    "print('\\n\\n')\n",
    "\n",
    "print('ICE CREAM')\n",
    "print(trace['gamma'].mean())\n",
    "print(trace['gamma'].std())\n",
    "print(pm.stats.hpd(trace['gamma'], 0.9))\n",
    "\n"
   ]
  },
  {
   "cell_type": "code",
   "execution_count": null,
   "metadata": {},
   "outputs": [],
   "source": []
  },
  {
   "cell_type": "markdown",
   "metadata": {},
   "source": [
    "# M2"
   ]
  },
  {
   "cell_type": "code",
   "execution_count": 158,
   "metadata": {},
   "outputs": [
    {
     "data": {
      "text/plain": [
       "Text(0, 0.5, 'ice_cream')"
      ]
     },
     "execution_count": 158,
     "metadata": {},
     "output_type": "execute_result"
    },
    {
     "data": {
      "image/png": "[encoded data removed]",
      "text/plain": [
       "<Figure size 400x200 with 1 Axes>"
      ]
     },
     "metadata": {},
     "output_type": "display_data"
    },
    {
     "data": {
      "image/png": "[encoded data removed]",
      "text/plain": [
       "<Figure size 400x200 with 1 Axes>"
      ]
     },
     "metadata": {},
     "output_type": "display_data"
    }
   ],
   "source": [
    "data['income'] = data['ice_cream']*-2 + np.random.normal(2, 2, size=data.shape[0])\n",
    "data['income'] = (data['income'] - data['income'].mean()) / (data['income'].std())\n",
    "\n",
    "plt.figure(figsize=(4,2))\n",
    "plt.scatter(data['income'], data['drowning'])\n",
    "plt.grid()\n",
    "plt.xlabel('income')\n",
    "plt.ylabel('drowning')\n",
    "\n",
    "plt.figure(figsize=(4,2))\n",
    "plt.scatter(data['income'], data['ice_cream'])\n",
    "plt.grid()\n",
    "plt.xlabel('income')\n",
    "plt.ylabel('ice_cream')"
   ]
  },
  {
   "cell_type": "markdown",
   "metadata": {},
   "source": [
    "## drowning vs income"
   ]
  },
  {
   "cell_type": "code",
   "execution_count": 159,
   "metadata": {},
   "outputs": [
    {
     "name": "stderr",
     "output_type": "stream",
     "text": [
      "Auto-assigning NUTS sampler...\n",
      "Initializing NUTS using jitter+adapt_diag...\n",
      "Multiprocess sampling (2 chains in 2 jobs)\n",
      "NUTS: [sigma, beta, alpha]\n"
     ]
    },
    {
     "data": {
      "text/html": [
       "\n",
       "    <div>\n",
       "        <style>\n",
       "            /* Turns off some styling */\n",
       "            progress {\n",
       "                /* gets rid of default border in Firefox and Opera. */\n",
       "                border: none;\n",
       "                /* Needs to be in here for Safari polyfill so background images work as expected. */\n",
       "                background-size: auto;\n",
       "            }\n",
       "            .progress-bar-interrupted, .progress-bar-interrupted::-webkit-progress-bar {\n",
       "                background: #F44336;\n",
       "            }\n",
       "        </style>\n",
       "      <progress value='4000' class='' max='4000' style='width:300px; height:20px; vertical-align: middle;'></progress>\n",
       "      100.00% [4000/4000 00:05<00:00 Sampling 2 chains, 0 divergences]\n",
       "    </div>\n",
       "    "
      ],
      "text/plain": [
       "<IPython.core.display.HTML object>"
      ]
     },
     "metadata": {},
     "output_type": "display_data"
    },
    {
     "name": "stderr",
     "output_type": "stream",
     "text": [
      "Sampling 2 chains for 1_000 tune and 1_000 draw iterations (2_000 + 2_000 draws total) took 11 seconds.\n"
     ]
    },
    {
     "name": "stdout",
     "output_type": "stream",
     "text": [
      "-0.6150489547320744\n",
      "0.08392386371361396\n",
      "[-0.74153541 -0.4696554 ]\n"
     ]
    },
    {
     "name": "stderr",
     "output_type": "stream",
     "text": [
      "/opt/anaconda3/lib/python3.8/site-packages/arviz/stats/stats.py:337: UserWarning: hpd will be deprecated Please replace hdi\n",
      "  warnings.warn(\n"
     ]
    }
   ],
   "source": [
    "# model each separately\n",
    "# ice cream vs drowning\n",
    "with pm.Model() as linear_model:\n",
    "    \n",
    "    # priors\n",
    "    alpha = pm.Normal('alpha', mu=7, sigma=3)\n",
    "    beta = pm.Normal('beta', mu=0, sigma=10)\n",
    "    sigma = pm.Uniform('sigma', lower=0, upper=10)\n",
    "    \n",
    "    # discriminative\n",
    "    mu = alpha + beta*data['income']\n",
    "\n",
    "    # likelihood\n",
    "    drown = pm.Normal('drown', mu=mu, sigma=sigma, observed=data['drowning'])\n",
    "    \n",
    "    # sample from the posterior\n",
    "    trace = pm.sample(draws=1000, model=linear_model)\n",
    "\n",
    "\n",
    "# get the stats\n",
    "print(trace['beta'].mean())\n",
    "print(trace['beta'].std())\n",
    "print(pm.stats.hpd(trace['beta'], 0.9))"
   ]
  },
  {
   "cell_type": "markdown",
   "metadata": {},
   "source": [
    "## ice cream vs drowing --> see above"
   ]
  },
  {
   "cell_type": "markdown",
   "metadata": {},
   "source": [
    "## ice crean and income vs drowning"
   ]
  },
  {
   "cell_type": "code",
   "execution_count": 160,
   "metadata": {},
   "outputs": [
    {
     "name": "stderr",
     "output_type": "stream",
     "text": [
      "Auto-assigning NUTS sampler...\n",
      "Initializing NUTS using jitter+adapt_diag...\n",
      "Multiprocess sampling (2 chains in 2 jobs)\n",
      "NUTS: [sigma, gamma, beta, alpha]\n"
     ]
    },
    {
     "data": {
      "text/html": [
       "\n",
       "    <div>\n",
       "        <style>\n",
       "            /* Turns off some styling */\n",
       "            progress {\n",
       "                /* gets rid of default border in Firefox and Opera. */\n",
       "                border: none;\n",
       "                /* Needs to be in here for Safari polyfill so background images work as expected. */\n",
       "                background-size: auto;\n",
       "            }\n",
       "            .progress-bar-interrupted, .progress-bar-interrupted::-webkit-progress-bar {\n",
       "                background: #F44336;\n",
       "            }\n",
       "        </style>\n",
       "      <progress value='4000' class='' max='4000' style='width:300px; height:20px; vertical-align: middle;'></progress>\n",
       "      100.00% [4000/4000 00:06<00:00 Sampling 2 chains, 0 divergences]\n",
       "    </div>\n",
       "    "
      ],
      "text/plain": [
       "<IPython.core.display.HTML object>"
      ]
     },
     "metadata": {},
     "output_type": "display_data"
    },
    {
     "name": "stderr",
     "output_type": "stream",
     "text": [
      "Sampling 2 chains for 1_000 tune and 1_000 draw iterations (2_000 + 2_000 draws total) took 11 seconds.\n"
     ]
    }
   ],
   "source": [
    "with pm.Model() as linear_model:\n",
    "    \n",
    "    # priors\n",
    "    alpha = pm.Normal('alpha', mu=7, sigma=3)\n",
    "    beta = pm.Normal('beta', mu=0, sigma=10)\n",
    "    gamma = pm.Normal('gamma', mu=0, sigma=10)\n",
    "    sigma = pm.Uniform('sigma', lower=0, upper=10)\n",
    "    \n",
    "    # deterministic\n",
    "    mu = alpha + beta*data['income'] + gamma*data['ice_cream']\n",
    "\n",
    "    # likelihood\n",
    "    drown = pm.Normal('drown', mu=mu, sigma=sigma, observed=data['drowning'])\n",
    "    \n",
    "    # sample from the posterior\n",
    "    trace = pm.sample(draws=1000, model=linear_model)"
   ]
  },
  {
   "cell_type": "code",
   "execution_count": 162,
   "metadata": {},
   "outputs": [
    {
     "name": "stdout",
     "output_type": "stream",
     "text": [
      "income\n",
      "0.06833528186545766\n",
      "0.05043180004662043\n",
      "[-0.00987713  0.15823923]\n",
      "ICE CREAM\n",
      "0.9859204723160266\n",
      "0.05112912890967793\n",
      "[0.90181978 1.07018542]\n"
     ]
    }
   ],
   "source": [
    "# get the stats\n",
    "print('income')\n",
    "print(trace['beta'].mean())\n",
    "print(trace['beta'].std())\n",
    "print(pm.stats.hpd(trace['beta'], 0.9))\n",
    "\n",
    "print('ICE CREAM')\n",
    "print(trace['gamma'].mean())\n",
    "print(trace['gamma'].std())\n",
    "print(pm.stats.hpd(trace['gamma'], 0.9))\n",
    "\n"
   ]
  },
  {
   "cell_type": "code",
   "execution_count": null,
   "metadata": {},
   "outputs": [],
   "source": []
  },
  {
   "cell_type": "markdown",
   "metadata": {},
   "source": [
    "# 5M4"
   ]
  },
  {
   "cell_type": "code",
   "execution_count": 185,
   "metadata": {},
   "outputs": [
    {
     "data": {
      "text/html": [
       "<div>\n",
       "<style scoped>\n",
       "    .dataframe tbody tr th:only-of-type {\n",
       "        vertical-align: middle;\n",
       "    }\n",
       "\n",
       "    .dataframe tbody tr th {\n",
       "        vertical-align: top;\n",
       "    }\n",
       "\n",
       "    .dataframe thead th {\n",
       "        text-align: right;\n",
       "    }\n",
       "</style>\n",
       "<table border=\"1\" class=\"dataframe\">\n",
       "  <thead>\n",
       "    <tr style=\"text-align: right;\">\n",
       "      <th></th>\n",
       "      <th>Location</th>\n",
       "      <th>Loc</th>\n",
       "      <th>Population</th>\n",
       "      <th>MedianAgeMarriage</th>\n",
       "      <th>Marriage</th>\n",
       "      <th>Marriage SE</th>\n",
       "      <th>Divorce</th>\n",
       "      <th>Divorce SE</th>\n",
       "      <th>WaffleHouses</th>\n",
       "      <th>South</th>\n",
       "      <th>Slaves1860</th>\n",
       "      <th>Population1860</th>\n",
       "      <th>PropSlaves1860</th>\n",
       "      <th>mormons</th>\n",
       "    </tr>\n",
       "  </thead>\n",
       "  <tbody>\n",
       "    <tr>\n",
       "      <th>0</th>\n",
       "      <td>Alabama</td>\n",
       "      <td>AL</td>\n",
       "      <td>4.78</td>\n",
       "      <td>25.3</td>\n",
       "      <td>20.2</td>\n",
       "      <td>1.27</td>\n",
       "      <td>12.7</td>\n",
       "      <td>0.79</td>\n",
       "      <td>128</td>\n",
       "      <td>1</td>\n",
       "      <td>435080</td>\n",
       "      <td>964201</td>\n",
       "      <td>0.45</td>\n",
       "      <td>0.75</td>\n",
       "    </tr>\n",
       "    <tr>\n",
       "      <th>1</th>\n",
       "      <td>Alaska</td>\n",
       "      <td>AK</td>\n",
       "      <td>0.71</td>\n",
       "      <td>25.2</td>\n",
       "      <td>26.0</td>\n",
       "      <td>2.93</td>\n",
       "      <td>12.5</td>\n",
       "      <td>2.05</td>\n",
       "      <td>0</td>\n",
       "      <td>0</td>\n",
       "      <td>0</td>\n",
       "      <td>0</td>\n",
       "      <td>0.00</td>\n",
       "      <td>4.53</td>\n",
       "    </tr>\n",
       "    <tr>\n",
       "      <th>2</th>\n",
       "      <td>Arizona</td>\n",
       "      <td>AZ</td>\n",
       "      <td>6.33</td>\n",
       "      <td>25.8</td>\n",
       "      <td>20.3</td>\n",
       "      <td>0.98</td>\n",
       "      <td>10.8</td>\n",
       "      <td>0.74</td>\n",
       "      <td>18</td>\n",
       "      <td>0</td>\n",
       "      <td>0</td>\n",
       "      <td>0</td>\n",
       "      <td>0.00</td>\n",
       "      <td>6.18</td>\n",
       "    </tr>\n",
       "    <tr>\n",
       "      <th>3</th>\n",
       "      <td>Arkansas</td>\n",
       "      <td>AR</td>\n",
       "      <td>2.92</td>\n",
       "      <td>24.3</td>\n",
       "      <td>26.4</td>\n",
       "      <td>1.70</td>\n",
       "      <td>13.5</td>\n",
       "      <td>1.22</td>\n",
       "      <td>41</td>\n",
       "      <td>1</td>\n",
       "      <td>111115</td>\n",
       "      <td>435450</td>\n",
       "      <td>0.26</td>\n",
       "      <td>1.00</td>\n",
       "    </tr>\n",
       "    <tr>\n",
       "      <th>4</th>\n",
       "      <td>California</td>\n",
       "      <td>CA</td>\n",
       "      <td>37.25</td>\n",
       "      <td>26.8</td>\n",
       "      <td>19.1</td>\n",
       "      <td>0.39</td>\n",
       "      <td>8.0</td>\n",
       "      <td>0.24</td>\n",
       "      <td>0</td>\n",
       "      <td>0</td>\n",
       "      <td>0</td>\n",
       "      <td>379994</td>\n",
       "      <td>0.00</td>\n",
       "      <td>2.01</td>\n",
       "    </tr>\n",
       "  </tbody>\n",
       "</table>\n",
       "</div>"
      ],
      "text/plain": [
       "     Location Loc  Population  MedianAgeMarriage  Marriage  Marriage SE  \\\n",
       "0     Alabama  AL        4.78               25.3      20.2         1.27   \n",
       "1      Alaska  AK        0.71               25.2      26.0         2.93   \n",
       "2     Arizona  AZ        6.33               25.8      20.3         0.98   \n",
       "3    Arkansas  AR        2.92               24.3      26.4         1.70   \n",
       "4  California  CA       37.25               26.8      19.1         0.39   \n",
       "\n",
       "   Divorce  Divorce SE  WaffleHouses  South  Slaves1860  Population1860  \\\n",
       "0     12.7        0.79           128      1      435080          964201   \n",
       "1     12.5        2.05             0      0           0               0   \n",
       "2     10.8        0.74            18      0           0               0   \n",
       "3     13.5        1.22            41      1      111115          435450   \n",
       "4      8.0        0.24             0      0           0          379994   \n",
       "\n",
       "   PropSlaves1860  mormons  \n",
       "0            0.45     0.75  \n",
       "1            0.00     4.53  \n",
       "2            0.00     6.18  \n",
       "3            0.26     1.00  \n",
       "4            0.00     2.01  "
      ]
     },
     "execution_count": 185,
     "metadata": {},
     "output_type": "execute_result"
    }
   ],
   "source": [
    "divorce = pd.read_csv('waffleDivorce.txt', sep=';')\n",
    "divorce = divorce.sort_values(by=['Location'], ascending=True)\n",
    "\n",
    "# from wikiedia\n",
    "divorce['mormons'] = [0.75, 4.53, 6.18, 1, 2.01, 2.82, 0.43, 0.55, 0.38,\n",
    "                      0.75, 0.82, 5.18, 26.35, 0.44, 0.66, 0.87, 1.25, \n",
    "                      0.77, 0.64, 0.81, 0.72, 0.39, 0.44, 0.58, 0.72, 1.14\n",
    "                      , 4.78, 1.29, 0.61, 0.37, 3.34, 0.41, 0.82, 1.48, \n",
    "                      0.52, 1.2, 3.85, 0.4, 0.37, 0.83, 1.27, 0.75, 1.21,\n",
    "                      67.97, 0.74, 1.13, 3.99, 0.92, 0.44, 11.5]\n",
    "\n",
    "divorce.head()"
   ]
  },
  {
   "cell_type": "code",
   "execution_count": 186,
   "metadata": {},
   "outputs": [
    {
     "data": {
      "text/html": [
       "<div>\n",
       "<style scoped>\n",
       "    .dataframe tbody tr th:only-of-type {\n",
       "        vertical-align: middle;\n",
       "    }\n",
       "\n",
       "    .dataframe tbody tr th {\n",
       "        vertical-align: top;\n",
       "    }\n",
       "\n",
       "    .dataframe thead th {\n",
       "        text-align: right;\n",
       "    }\n",
       "</style>\n",
       "<table border=\"1\" class=\"dataframe\">\n",
       "  <thead>\n",
       "    <tr style=\"text-align: right;\">\n",
       "      <th></th>\n",
       "      <th>Location</th>\n",
       "      <th>Divorce</th>\n",
       "      <th>Marriage</th>\n",
       "      <th>MedianAgeMarriage</th>\n",
       "      <th>mormons</th>\n",
       "    </tr>\n",
       "  </thead>\n",
       "  <tbody>\n",
       "    <tr>\n",
       "      <th>0</th>\n",
       "      <td>Alabama</td>\n",
       "      <td>12.7</td>\n",
       "      <td>20.2</td>\n",
       "      <td>25.3</td>\n",
       "      <td>0.75</td>\n",
       "    </tr>\n",
       "    <tr>\n",
       "      <th>1</th>\n",
       "      <td>Alaska</td>\n",
       "      <td>12.5</td>\n",
       "      <td>26.0</td>\n",
       "      <td>25.2</td>\n",
       "      <td>4.53</td>\n",
       "    </tr>\n",
       "    <tr>\n",
       "      <th>2</th>\n",
       "      <td>Arizona</td>\n",
       "      <td>10.8</td>\n",
       "      <td>20.3</td>\n",
       "      <td>25.8</td>\n",
       "      <td>6.18</td>\n",
       "    </tr>\n",
       "    <tr>\n",
       "      <th>3</th>\n",
       "      <td>Arkansas</td>\n",
       "      <td>13.5</td>\n",
       "      <td>26.4</td>\n",
       "      <td>24.3</td>\n",
       "      <td>1.00</td>\n",
       "    </tr>\n",
       "    <tr>\n",
       "      <th>4</th>\n",
       "      <td>California</td>\n",
       "      <td>8.0</td>\n",
       "      <td>19.1</td>\n",
       "      <td>26.8</td>\n",
       "      <td>2.01</td>\n",
       "    </tr>\n",
       "  </tbody>\n",
       "</table>\n",
       "</div>"
      ],
      "text/plain": [
       "     Location  Divorce  Marriage  MedianAgeMarriage  mormons\n",
       "0     Alabama     12.7      20.2               25.3     0.75\n",
       "1      Alaska     12.5      26.0               25.2     4.53\n",
       "2     Arizona     10.8      20.3               25.8     6.18\n",
       "3    Arkansas     13.5      26.4               24.3     1.00\n",
       "4  California      8.0      19.1               26.8     2.01"
      ]
     },
     "execution_count": 186,
     "metadata": {},
     "output_type": "execute_result"
    }
   ],
   "source": [
    "# predict divorce rate using marriage rate, median age at marriage, and percecnt LDS\n",
    "divorce = divorce[['Location', 'Divorce', 'Marriage', 'MedianAgeMarriage', 'mormons']]\n",
    "divorce.head()"
   ]
  },
  {
   "cell_type": "code",
   "execution_count": 187,
   "metadata": {},
   "outputs": [
    {
     "data": {
      "image/png": "[encoded data removed]",
      "text/plain": [
       "<Figure size 600x400 with 1 Axes>"
      ]
     },
     "metadata": {},
     "output_type": "display_data"
    }
   ],
   "source": [
    "plt.figure(figsize=(6,4))\n",
    "bins = np.arange(0, divorce['mormons'].max()+1, 1)\n",
    "plt.hist(divorce['mormons'], bins=bins, color='salmon', edgecolor='black')\n",
    "plt.grid()\n",
    "plt.show()"
   ]
  },
  {
   "cell_type": "code",
   "execution_count": 188,
   "metadata": {},
   "outputs": [
    {
     "data": {
      "text/html": [
       "<div>\n",
       "<style scoped>\n",
       "    .dataframe tbody tr th:only-of-type {\n",
       "        vertical-align: middle;\n",
       "    }\n",
       "\n",
       "    .dataframe tbody tr th {\n",
       "        vertical-align: top;\n",
       "    }\n",
       "\n",
       "    .dataframe thead th {\n",
       "        text-align: right;\n",
       "    }\n",
       "</style>\n",
       "<table border=\"1\" class=\"dataframe\">\n",
       "  <thead>\n",
       "    <tr style=\"text-align: right;\">\n",
       "      <th></th>\n",
       "      <th>Location</th>\n",
       "      <th>Divorce</th>\n",
       "      <th>Marriage</th>\n",
       "      <th>MedianAgeMarriage</th>\n",
       "      <th>mormons</th>\n",
       "    </tr>\n",
       "  </thead>\n",
       "  <tbody>\n",
       "    <tr>\n",
       "      <th>43</th>\n",
       "      <td>Utah</td>\n",
       "      <td>10.2</td>\n",
       "      <td>29.6</td>\n",
       "      <td>23.3</td>\n",
       "      <td>67.97</td>\n",
       "    </tr>\n",
       "  </tbody>\n",
       "</table>\n",
       "</div>"
      ],
      "text/plain": [
       "   Location  Divorce  Marriage  MedianAgeMarriage  mormons\n",
       "43     Utah     10.2      29.6               23.3    67.97"
      ]
     },
     "execution_count": 188,
     "metadata": {},
     "output_type": "execute_result"
    }
   ],
   "source": [
    "# what is that super duper high one (duh)\n",
    "divorce[divorce['mormons'] == divorce['mormons'].max()]"
   ]
  },
  {
   "cell_type": "code",
   "execution_count": 194,
   "metadata": {},
   "outputs": [
    {
     "data": {
      "text/html": [
       "<div>\n",
       "<style scoped>\n",
       "    .dataframe tbody tr th:only-of-type {\n",
       "        vertical-align: middle;\n",
       "    }\n",
       "\n",
       "    .dataframe tbody tr th {\n",
       "        vertical-align: top;\n",
       "    }\n",
       "\n",
       "    .dataframe thead th {\n",
       "        text-align: right;\n",
       "    }\n",
       "</style>\n",
       "<table border=\"1\" class=\"dataframe\">\n",
       "  <thead>\n",
       "    <tr style=\"text-align: right;\">\n",
       "      <th></th>\n",
       "      <th>Divorce</th>\n",
       "      <th>Marriage</th>\n",
       "      <th>MedianAgeMarriage</th>\n",
       "      <th>mormons</th>\n",
       "      <th>log_morm</th>\n",
       "    </tr>\n",
       "  </thead>\n",
       "  <tbody>\n",
       "    <tr>\n",
       "      <th>0</th>\n",
       "      <td>12.7</td>\n",
       "      <td>20.2</td>\n",
       "      <td>25.3</td>\n",
       "      <td>0.75</td>\n",
       "      <td>-0.124939</td>\n",
       "    </tr>\n",
       "    <tr>\n",
       "      <th>1</th>\n",
       "      <td>12.5</td>\n",
       "      <td>26.0</td>\n",
       "      <td>25.2</td>\n",
       "      <td>4.53</td>\n",
       "      <td>0.656098</td>\n",
       "    </tr>\n",
       "  </tbody>\n",
       "</table>\n",
       "</div>"
      ],
      "text/plain": [
       "   Divorce  Marriage  MedianAgeMarriage  mormons  log_morm\n",
       "0     12.7      20.2               25.3     0.75 -0.124939\n",
       "1     12.5      26.0               25.2     4.53  0.656098"
      ]
     },
     "execution_count": 194,
     "metadata": {},
     "output_type": "execute_result"
    }
   ],
   "source": [
    "# model it up\n",
    "#divorce = divorce.drop('Location', axis=1)\n",
    "divorce['log_morm'] = divorce['mormons'].apply(np.log10)\n",
    "divorce.head(2)"
   ]
  },
  {
   "cell_type": "code",
   "execution_count": 195,
   "metadata": {},
   "outputs": [],
   "source": [
    "# center the data\n",
    "divorce = (divorce - divorce.mean())/divorce.std()"
   ]
  },
  {
   "cell_type": "code",
   "execution_count": null,
   "metadata": {},
   "outputs": [],
   "source": []
  },
  {
   "cell_type": "code",
   "execution_count": 207,
   "metadata": {},
   "outputs": [
    {
     "name": "stderr",
     "output_type": "stream",
     "text": [
      "Auto-assigning NUTS sampler...\n",
      "Initializing NUTS using jitter+adapt_diag...\n",
      "Multiprocess sampling (2 chains in 2 jobs)\n",
      "NUTS: [alpha, sigma, x3, x2, x1]\n"
     ]
    },
    {
     "data": {
      "text/html": [
       "\n",
       "    <div>\n",
       "        <style>\n",
       "            /* Turns off some styling */\n",
       "            progress {\n",
       "                /* gets rid of default border in Firefox and Opera. */\n",
       "                border: none;\n",
       "                /* Needs to be in here for Safari polyfill so background images work as expected. */\n",
       "                background-size: auto;\n",
       "            }\n",
       "            .progress-bar-interrupted, .progress-bar-interrupted::-webkit-progress-bar {\n",
       "                background: #F44336;\n",
       "            }\n",
       "        </style>\n",
       "      <progress value='4000' class='' max='4000' style='width:300px; height:20px; vertical-align: middle;'></progress>\n",
       "      100.00% [4000/4000 00:05<00:00 Sampling 2 chains, 0 divergences]\n",
       "    </div>\n",
       "    "
      ],
      "text/plain": [
       "<IPython.core.display.HTML object>"
      ]
     },
     "metadata": {},
     "output_type": "display_data"
    },
    {
     "name": "stderr",
     "output_type": "stream",
     "text": [
      "Sampling 2 chains for 1_000 tune and 1_000 draw iterations (2_000 + 2_000 draws total) took 17 seconds.\n"
     ]
    }
   ],
   "source": [
    "# predict divorce rate using marriage rate, median age at marriage, and percecnt LDS\n",
    "\n",
    "with pm.Model() as morm_model:\n",
    "    \n",
    "    # priors\n",
    "    x1 = pm.Normal('x1', mu=0, sigma=1)\n",
    "    x2 = pm.Normal('x2', mu=0, sigma=1)\n",
    "    x3 = pm.Normal('x3', mu=0, sigma=1)\n",
    "    sigma = pm.Uniform('sigma', lower=0, upper=10)\n",
    "    alpha = pm.Normal('alpha', mu=0, sigma=10)\n",
    "    \n",
    "    # deterministic\n",
    "    mu = alpha + x1*divorce['Marriage'] + x2*divorce['MedianAgeMarriage'] + x3*divorce['log_morm']\n",
    "    \n",
    "    # likelihood\n",
    "    divorce_rate = pm.Normal('divorce_rate', mu=mu, sigma=sigma, observed=divorce['Divorce'])\n",
    "    \n",
    "    # sample from the posterior\n",
    "    trace = pm.sample(draws=1000, model=morm_model)\n",
    "    "
   ]
  },
  {
   "cell_type": "code",
   "execution_count": 219,
   "metadata": {},
   "outputs": [
    {
     "name": "stdout",
     "output_type": "stream",
     "text": [
      "mean:\n",
      "x1 0.055118554790166654\n",
      "std:\n",
      "x1 0.18558091437082955\n",
      "hdpi:\n",
      "x1 [-0.25068409  0.35245812]\n",
      "\n",
      "\n",
      "mean:\n",
      "x2 -0.7482828304914042\n",
      "std:\n",
      "x2 0.17233996121652728\n",
      "hdpi:\n",
      "x2 [-1.03866645 -0.47512826]\n",
      "\n",
      "\n",
      "mean:\n",
      "x3 -0.3192879665901903\n",
      "std:\n",
      "x3 0.1665998421609573\n",
      "hdpi:\n",
      "x3 [-0.58535607 -0.04673389]\n",
      "\n",
      "\n"
     ]
    }
   ],
   "source": [
    "for coeff_ in ['x1', 'x2', 'x3']:\n",
    "    print('mean:')\n",
    "    print(coeff_, trace[coeff_].mean())\n",
    "    \n",
    "    print('std:')\n",
    "    print(coeff_, trace[coeff_].std())\n",
    "    \n",
    "    print('hdpi:')\n",
    "    print(coeff_, pm.stats.hpd(trace[coeff_], 0.9))\n",
    "    \n",
    "    print('\\n')"
   ]
  },
  {
   "cell_type": "code",
   "execution_count": null,
   "metadata": {},
   "outputs": [],
   "source": []
  },
  {
   "cell_type": "code",
   "execution_count": null,
   "metadata": {},
   "outputs": [],
   "source": []
  },
  {
   "cell_type": "markdown",
   "metadata": {},
   "source": [
    "# Hard"
   ]
  },
  {
   "cell_type": "code",
   "execution_count": 225,
   "metadata": {
    "scrolled": true
   },
   "outputs": [
    {
     "data": {
      "text/html": [
       "<div>\n",
       "<style scoped>\n",
       "    .dataframe tbody tr th:only-of-type {\n",
       "        vertical-align: middle;\n",
       "    }\n",
       "\n",
       "    .dataframe tbody tr th {\n",
       "        vertical-align: top;\n",
       "    }\n",
       "\n",
       "    .dataframe thead th {\n",
       "        text-align: right;\n",
       "    }\n",
       "</style>\n",
       "<table border=\"1\" class=\"dataframe\">\n",
       "  <thead>\n",
       "    <tr style=\"text-align: right;\">\n",
       "      <th></th>\n",
       "      <th>group</th>\n",
       "      <th>avgfood</th>\n",
       "      <th>groupsize</th>\n",
       "      <th>area</th>\n",
       "      <th>weight</th>\n",
       "    </tr>\n",
       "  </thead>\n",
       "  <tbody>\n",
       "    <tr>\n",
       "      <th>0</th>\n",
       "      <td>1</td>\n",
       "      <td>0.37</td>\n",
       "      <td>2</td>\n",
       "      <td>1.09</td>\n",
       "      <td>5.02</td>\n",
       "    </tr>\n",
       "    <tr>\n",
       "      <th>1</th>\n",
       "      <td>1</td>\n",
       "      <td>0.37</td>\n",
       "      <td>2</td>\n",
       "      <td>1.09</td>\n",
       "      <td>2.84</td>\n",
       "    </tr>\n",
       "  </tbody>\n",
       "</table>\n",
       "</div>"
      ],
      "text/plain": [
       "   group  avgfood  groupsize  area  weight\n",
       "0      1     0.37          2  1.09    5.02\n",
       "1      1     0.37          2  1.09    2.84"
      ]
     },
     "execution_count": 225,
     "metadata": {},
     "output_type": "execute_result"
    }
   ],
   "source": [
    "data = pd.read_csv('foxes.txt', sep=';')\n",
    "data.head(2)"
   ]
  },
  {
   "cell_type": "raw",
   "metadata": {},
   "source": [
    "group: num of social groups\n",
    "avgfood: avg amount of food available in territory\n",
    "groupsize: number of foxes in the social group\n",
    "area: size of the territory\n",
    "weight:  body weight of the individual fox"
   ]
  },
  {
   "cell_type": "code",
   "execution_count": 226,
   "metadata": {},
   "outputs": [
    {
     "data": {
      "text/plain": [
       "(116, 5)"
      ]
     },
     "execution_count": 226,
     "metadata": {},
     "output_type": "execute_result"
    }
   ],
   "source": [
    "data.shape"
   ]
  },
  {
   "cell_type": "code",
   "execution_count": 227,
   "metadata": {},
   "outputs": [
    {
     "data": {
      "text/plain": [
       "101"
      ]
     },
     "execution_count": 227,
     "metadata": {},
     "output_type": "execute_result"
    }
   ],
   "source": [
    "data['weight'].nunique()"
   ]
  },
  {
   "cell_type": "markdown",
   "metadata": {},
   "source": [
    "## H1"
   ]
  },
  {
   "cell_type": "markdown",
   "metadata": {},
   "source": [
    "### A"
   ]
  },
  {
   "cell_type": "code",
   "execution_count": 230,
   "metadata": {},
   "outputs": [
    {
     "data": {
      "image/png": "[encoded data removed]",
      "text/plain": [
       "<Figure size 600x400 with 1 Axes>"
      ]
     },
     "metadata": {},
     "output_type": "display_data"
    }
   ],
   "source": [
    "# body weight as fxn of territory size\n",
    "plt.figure(figsize=(6,4))\n",
    "plt.hist(data['weight'])\n",
    "plt.xlabel('weight')\n",
    "plt.grid()\n",
    "plt.show()"
   ]
  },
  {
   "cell_type": "code",
   "execution_count": 233,
   "metadata": {},
   "outputs": [
    {
     "name": "stdout",
     "output_type": "stream",
     "text": [
      "4.5296551724137935\n",
      "1.1840225695810702\n"
     ]
    }
   ],
   "source": [
    "print(data['weight'].mean())\n",
    "print(data['weight'].std())"
   ]
  },
  {
   "cell_type": "code",
   "execution_count": 231,
   "metadata": {},
   "outputs": [
    {
     "data": {
      "image/png": "[encoded data removed]",
      "text/plain": [
       "<Figure size 600x400 with 1 Axes>"
      ]
     },
     "metadata": {},
     "output_type": "display_data"
    }
   ],
   "source": [
    "plt.figure(figsize=(6,4))\n",
    "plt.hist(data['area'])\n",
    "plt.xlabel('area')\n",
    "plt.grid()\n",
    "plt.show()"
   ]
  },
  {
   "cell_type": "code",
   "execution_count": 293,
   "metadata": {},
   "outputs": [
    {
     "data": {
      "image/png": "[encoded data removed]",
      "text/plain": [
       "<Figure size 600x400 with 1 Axes>"
      ]
     },
     "metadata": {},
     "output_type": "display_data"
    }
   ],
   "source": [
    "plt.figure(figsize=(6,4))\n",
    "plt.hist(data['groupsize'])\n",
    "plt.xlabel('groupsize')\n",
    "plt.grid()\n",
    "plt.show()"
   ]
  },
  {
   "cell_type": "code",
   "execution_count": 235,
   "metadata": {},
   "outputs": [],
   "source": [
    "# wow, that is not going to work"
   ]
  },
  {
   "cell_type": "code",
   "execution_count": 238,
   "metadata": {},
   "outputs": [
    {
     "name": "stderr",
     "output_type": "stream",
     "text": [
      "Auto-assigning NUTS sampler...\n",
      "Initializing NUTS using jitter+adapt_diag...\n",
      "Multiprocess sampling (2 chains in 2 jobs)\n",
      "NUTS: [sigma, beta, alpha]\n"
     ]
    },
    {
     "data": {
      "text/html": [
       "\n",
       "    <div>\n",
       "        <style>\n",
       "            /* Turns off some styling */\n",
       "            progress {\n",
       "                /* gets rid of default border in Firefox and Opera. */\n",
       "                border: none;\n",
       "                /* Needs to be in here for Safari polyfill so background images work as expected. */\n",
       "                background-size: auto;\n",
       "            }\n",
       "            .progress-bar-interrupted, .progress-bar-interrupted::-webkit-progress-bar {\n",
       "                background: #F44336;\n",
       "            }\n",
       "        </style>\n",
       "      <progress value='4000' class='' max='4000' style='width:300px; height:20px; vertical-align: middle;'></progress>\n",
       "      100.00% [4000/4000 00:06<00:00 Sampling 2 chains, 0 divergences]\n",
       "    </div>\n",
       "    "
      ],
      "text/plain": [
       "<IPython.core.display.HTML object>"
      ]
     },
     "metadata": {},
     "output_type": "display_data"
    },
    {
     "name": "stderr",
     "output_type": "stream",
     "text": [
      "Sampling 2 chains for 1_000 tune and 1_000 draw iterations (2_000 + 2_000 draws total) took 20 seconds.\n",
      "The acceptance probability does not match the target. It is 0.8987507271945322, but should be close to 0.8. Try to increase the number of tuning steps.\n"
     ]
    }
   ],
   "source": [
    "with pm.Model() as linear_model:\n",
    "\n",
    "    # priors\n",
    "    alpha = pm.Normal('alpha', mu=4.5, sigma=1.2)\n",
    "    beta = pm.Normal('beta', mu=0, sigma=10)\n",
    "    sigma = pm.Uniform('sigma', lower=0, upper=10)\n",
    "    \n",
    "    # deterministic\n",
    "    mu = alpha + beta*data['area']\n",
    "    \n",
    "    # likelihood\n",
    "    weight = pm.Normal('weight', mu=mu, sigma=sigma, observed=data['weight'])\n",
    "    \n",
    "    samples = pm.sample(draws=1000, model=linear_model)\n",
    "    "
   ]
  },
  {
   "cell_type": "code",
   "execution_count": 268,
   "metadata": {},
   "outputs": [
    {
     "name": "stderr",
     "output_type": "stream",
     "text": [
      "/opt/anaconda3/lib/python3.8/site-packages/arviz/stats/stats.py:337: UserWarning: hpd will be deprecated Please replace hdi\n",
      "  warnings.warn(\n"
     ]
    }
   ],
   "source": [
    "# MAP regression line and 95% interval of mean\n",
    "sample_pd = pd.DataFrame({'alpha':samples['alpha'],\n",
    "                          'beta':samples['beta']})\n",
    "\n",
    "map_alpha = sample_pd['alpha'].mean()\n",
    "map_beta = sample_pd['beta'].mean()\n",
    "\n",
    "map_weight = map_alpha + map_beta*data['area']\n",
    "\n",
    "interval_samples = []; lower = []; upper = []\n",
    "\n",
    "for i in data['area']:\n",
    "    sample_ = np.array(i*sample_pd['beta'] + sample_pd['alpha'])\n",
    "    lower_, upper_ = pm.stats.hpd(sample_, alpha=0.95)\n",
    "    lower.append(lower_)\n",
    "    upper.append(upper_)\n"
   ]
  },
  {
   "cell_type": "code",
   "execution_count": 290,
   "metadata": {},
   "outputs": [
    {
     "data": {
      "image/png": "[encoded data removed]",
      "text/plain": [
       "<Figure size 400x400 with 1 Axes>"
      ]
     },
     "metadata": {},
     "output_type": "display_data"
    }
   ],
   "source": [
    "plt.figure(figsize=(4,4))\n",
    "\n",
    "# raw data\n",
    "plt.scatter(data['area'], data['weight'], alpha=0.5, color='salmon')\n",
    "\n",
    "# map regression line\n",
    "plt.plot(data['area'], map_weight)\n",
    "\n",
    "# 95% interval of mean\n",
    "int_pd = pd.DataFrame({'x':data['area'], 'low':lower, 'high':upper})\n",
    "int_pd = int_pd.sort_values(by=['x'], ascending=True)\n",
    "plt.fill_between(int_pd['x'], int_pd['low'], int_pd['high'], alpha=0.6, color='dodgerblue')\n",
    "\n",
    "plt.xlabel('area')\n",
    "plt.ylabel('weight')\n",
    "plt.grid()\n",
    "plt.show()"
   ]
  },
  {
   "cell_type": "markdown",
   "metadata": {},
   "source": [
    "### B"
   ]
  },
  {
   "cell_type": "code",
   "execution_count": 294,
   "metadata": {},
   "outputs": [
    {
     "name": "stderr",
     "output_type": "stream",
     "text": [
      "Auto-assigning NUTS sampler...\n",
      "Initializing NUTS using jitter+adapt_diag...\n",
      "Multiprocess sampling (2 chains in 2 jobs)\n",
      "NUTS: [sigma, beta, alpha]\n"
     ]
    },
    {
     "data": {
      "text/html": [
       "\n",
       "    <div>\n",
       "        <style>\n",
       "            /* Turns off some styling */\n",
       "            progress {\n",
       "                /* gets rid of default border in Firefox and Opera. */\n",
       "                border: none;\n",
       "                /* Needs to be in here for Safari polyfill so background images work as expected. */\n",
       "                background-size: auto;\n",
       "            }\n",
       "            .progress-bar-interrupted, .progress-bar-interrupted::-webkit-progress-bar {\n",
       "                background: #F44336;\n",
       "            }\n",
       "        </style>\n",
       "      <progress value='4000' class='' max='4000' style='width:300px; height:20px; vertical-align: middle;'></progress>\n",
       "      100.00% [4000/4000 00:09<00:00 Sampling 2 chains, 0 divergences]\n",
       "    </div>\n",
       "    "
      ],
      "text/plain": [
       "<IPython.core.display.HTML object>"
      ]
     },
     "metadata": {},
     "output_type": "display_data"
    },
    {
     "name": "stderr",
     "output_type": "stream",
     "text": [
      "Sampling 2 chains for 1_000 tune and 1_000 draw iterations (2_000 + 2_000 draws total) took 26 seconds.\n",
      "/opt/anaconda3/lib/python3.8/site-packages/arviz/stats/stats.py:337: UserWarning: hpd will be deprecated Please replace hdi\n",
      "  warnings.warn(\n"
     ]
    },
    {
     "data": {
      "image/png": "[encoded data removed]",
      "text/plain": [
       "<Figure size 400x400 with 1 Axes>"
      ]
     },
     "metadata": {},
     "output_type": "display_data"
    }
   ],
   "source": [
    "# repeat using group size\n",
    "with pm.Model() as linear_model:\n",
    "\n",
    "    # priors\n",
    "    alpha = pm.Normal('alpha', mu=4.5, sigma=1.2)\n",
    "    beta = pm.Normal('beta', mu=0, sigma=10)\n",
    "    sigma = pm.Uniform('sigma', lower=0, upper=10)\n",
    "    \n",
    "    # deterministic\n",
    "    mu = alpha + beta*data['groupsize']\n",
    "    \n",
    "    # likelihood\n",
    "    weight = pm.Normal('weight', mu=mu, sigma=sigma, observed=data['weight'])\n",
    "    \n",
    "    samples = pm.sample(draws=1000, model=linear_model)\n",
    "    \n",
    "\n",
    "# MAP regression line and 95% interval of mean\n",
    "sample_pd = pd.DataFrame({'alpha':samples['alpha'],\n",
    "                          'beta':samples['beta']})\n",
    "\n",
    "map_alpha = sample_pd['alpha'].mean()\n",
    "map_beta = sample_pd['beta'].mean()\n",
    "\n",
    "map_weight = map_alpha + map_beta*data['groupsize']\n",
    "\n",
    "interval_samples = []; lower = []; upper = []\n",
    "\n",
    "for i in data['groupsize']:\n",
    "    sample_ = np.array(i*sample_pd['beta'] + sample_pd['alpha'])\n",
    "    lower_, upper_ = pm.stats.hpd(sample_, alpha=0.95)\n",
    "    lower.append(lower_)\n",
    "    upper.append(upper_)\n",
    "\n",
    "\n",
    "plt.figure(figsize=(4,4))\n",
    "\n",
    "# raw data\n",
    "plt.scatter(data['groupsize'], data['weight'], alpha=0.5, color='salmon')\n",
    "\n",
    "# map regression line\n",
    "plt.plot(data['groupsize'], map_weight)\n",
    "\n",
    "# 95% interval of mean\n",
    "int_pd = pd.DataFrame({'x':data['groupsize'], 'low':lower, 'high':upper})\n",
    "int_pd = int_pd.sort_values(by=['x'], ascending=True)\n",
    "plt.fill_between(int_pd['x'], int_pd['low'], int_pd['high'], alpha=0.6, color='dodgerblue')\n",
    "\n",
    "plt.xlabel('groupsize')\n",
    "plt.ylabel('weight')\n",
    "plt.grid()\n",
    "plt.show()"
   ]
  },
  {
   "cell_type": "code",
   "execution_count": 295,
   "metadata": {},
   "outputs": [],
   "source": [
    "# BOTH OF THESE SUCK "
   ]
  },
  {
   "cell_type": "code",
   "execution_count": null,
   "metadata": {},
   "outputs": [],
   "source": []
  },
  {
   "cell_type": "markdown",
   "metadata": {},
   "source": [
    "# H2"
   ]
  },
  {
   "cell_type": "code",
   "execution_count": 297,
   "metadata": {},
   "outputs": [
    {
     "name": "stderr",
     "output_type": "stream",
     "text": [
      "Auto-assigning NUTS sampler...\n",
      "Initializing NUTS using jitter+adapt_diag...\n",
      "Multiprocess sampling (2 chains in 2 jobs)\n",
      "NUTS: [sigma, gamma, beta, alpha]\n"
     ]
    },
    {
     "data": {
      "text/html": [
       "\n",
       "    <div>\n",
       "        <style>\n",
       "            /* Turns off some styling */\n",
       "            progress {\n",
       "                /* gets rid of default border in Firefox and Opera. */\n",
       "                border: none;\n",
       "                /* Needs to be in here for Safari polyfill so background images work as expected. */\n",
       "                background-size: auto;\n",
       "            }\n",
       "            .progress-bar-interrupted, .progress-bar-interrupted::-webkit-progress-bar {\n",
       "                background: #F44336;\n",
       "            }\n",
       "        </style>\n",
       "      <progress value='4000' class='' max='4000' style='width:300px; height:20px; vertical-align: middle;'></progress>\n",
       "      100.00% [4000/4000 00:10<00:00 Sampling 2 chains, 0 divergences]\n",
       "    </div>\n",
       "    "
      ],
      "text/plain": [
       "<IPython.core.display.HTML object>"
      ]
     },
     "metadata": {},
     "output_type": "display_data"
    },
    {
     "name": "stderr",
     "output_type": "stream",
     "text": [
      "Sampling 2 chains for 1_000 tune and 1_000 draw iterations (2_000 + 2_000 draws total) took 17 seconds.\n"
     ]
    }
   ],
   "source": [
    "# fit using both of these variables\n",
    "with pm.Model() as linear_model:\n",
    "\n",
    "    # priors\n",
    "    alpha = pm.Normal('alpha', mu=4.5, sigma=1.2)\n",
    "    beta = pm.Normal('beta', mu=0, sigma=10)\n",
    "    gamma = pm.Normal('gamma', mu=0, sigma=10)\n",
    "    sigma = pm.Uniform('sigma', lower=0, upper=10)\n",
    "    \n",
    "    # deterministic\n",
    "    mu = alpha + beta*data['groupsize'] + gamma*data['area']\n",
    "    \n",
    "    # likelihood\n",
    "    weight = pm.Normal('weight', mu=mu, sigma=sigma, observed=data['weight'])\n",
    "    \n",
    "    samples = pm.sample(draws=1000, model=linear_model)"
   ]
  },
  {
   "cell_type": "code",
   "execution_count": 298,
   "metadata": {},
   "outputs": [],
   "source": [
    "# plot predictions for each model, holding the other variable constant at its mean"
   ]
  },
  {
   "cell_type": "code",
   "execution_count": 306,
   "metadata": {},
   "outputs": [
    {
     "data": {
      "text/html": [
       "<div>\n",
       "<style scoped>\n",
       "    .dataframe tbody tr th:only-of-type {\n",
       "        vertical-align: middle;\n",
       "    }\n",
       "\n",
       "    .dataframe tbody tr th {\n",
       "        vertical-align: top;\n",
       "    }\n",
       "\n",
       "    .dataframe thead th {\n",
       "        text-align: right;\n",
       "    }\n",
       "</style>\n",
       "<table border=\"1\" class=\"dataframe\">\n",
       "  <thead>\n",
       "    <tr style=\"text-align: right;\">\n",
       "      <th></th>\n",
       "      <th>alpha</th>\n",
       "      <th>beta</th>\n",
       "      <th>gamma</th>\n",
       "    </tr>\n",
       "  </thead>\n",
       "  <tbody>\n",
       "    <tr>\n",
       "      <th>0</th>\n",
       "      <td>4.470571</td>\n",
       "      <td>-0.596056</td>\n",
       "      <td>0.837644</td>\n",
       "    </tr>\n",
       "    <tr>\n",
       "      <th>1</th>\n",
       "      <td>4.369058</td>\n",
       "      <td>-0.357277</td>\n",
       "      <td>0.567456</td>\n",
       "    </tr>\n",
       "    <tr>\n",
       "      <th>2</th>\n",
       "      <td>4.783587</td>\n",
       "      <td>-0.431169</td>\n",
       "      <td>0.506125</td>\n",
       "    </tr>\n",
       "    <tr>\n",
       "      <th>3</th>\n",
       "      <td>4.621521</td>\n",
       "      <td>-0.364856</td>\n",
       "      <td>0.489240</td>\n",
       "    </tr>\n",
       "    <tr>\n",
       "      <th>4</th>\n",
       "      <td>3.874263</td>\n",
       "      <td>-0.282513</td>\n",
       "      <td>0.579893</td>\n",
       "    </tr>\n",
       "  </tbody>\n",
       "</table>\n",
       "</div>"
      ],
      "text/plain": [
       "      alpha      beta     gamma\n",
       "0  4.470571 -0.596056  0.837644\n",
       "1  4.369058 -0.357277  0.567456\n",
       "2  4.783587 -0.431169  0.506125\n",
       "3  4.621521 -0.364856  0.489240\n",
       "4  3.874263 -0.282513  0.579893"
      ]
     },
     "execution_count": 306,
     "metadata": {},
     "output_type": "execute_result"
    }
   ],
   "source": [
    "sample_pd = pd.DataFrame({'alpha':samples['alpha'],\n",
    "                          'beta':samples['beta'], \n",
    "                          'gamma':samples['gamma']})\n",
    "\n",
    "map_alpha = sample_pd['alpha'].mean()\n",
    "map_beta = sample_pd['beta'].mean()\n",
    "map_gamma = sample_pd['gamma'].mean()\n",
    "\n",
    "sample_pd.head()"
   ]
  },
  {
   "cell_type": "code",
   "execution_count": 319,
   "metadata": {},
   "outputs": [
    {
     "name": "stderr",
     "output_type": "stream",
     "text": [
      "/opt/anaconda3/lib/python3.8/site-packages/arviz/stats/stats.py:337: UserWarning: hpd will be deprecated Please replace hdi\n",
      "  warnings.warn(\n"
     ]
    },
    {
     "data": {
      "image/png": "[encoded data removed]",
      "text/plain": [
       "<Figure size 400x400 with 1 Axes>"
      ]
     },
     "metadata": {},
     "output_type": "display_data"
    }
   ],
   "source": [
    "# hold area constant\n",
    "map_weight = map_alpha + map_beta*data['groupsize'] + map_gamma*data['area'].mean()\n",
    "\n",
    "interval_samples = []; lower = []; upper = []\n",
    "\n",
    "for i in data['groupsize']:\n",
    "    sample_ = np.array(i*sample_pd['beta'] + sample_pd['alpha'] +  sample_pd['gamma']*data['area'].mean())\n",
    "    lower_, upper_ = pm.stats.hpd(sample_, alpha=0.95)\n",
    "    lower.append(lower_)\n",
    "    upper.append(upper_)\n",
    "\n",
    "plt.figure(figsize=(4,4))\n",
    "\n",
    "# raw data\n",
    "plt.scatter(data['groupsize'], data['weight'], alpha=0.5, color='salmon')\n",
    "\n",
    "# map regression line\n",
    "plt.plot(data['groupsize'], map_weight)\n",
    "\n",
    "# 95% interval of mean\n",
    "int_pd = pd.DataFrame({'x':data['groupsize'], 'low':lower, 'high':upper})\n",
    "int_pd = int_pd.sort_values(by=['x'], ascending=True)\n",
    "plt.fill_between(int_pd['x'], int_pd['low'], int_pd['high'], alpha=0.6, color='dodgerblue')\n",
    "\n",
    "plt.xlabel('groupsize')\n",
    "plt.ylabel('weight')\n",
    "plt.grid()\n",
    "plt.show()  \n"
   ]
  },
  {
   "cell_type": "code",
   "execution_count": 321,
   "metadata": {},
   "outputs": [
    {
     "name": "stderr",
     "output_type": "stream",
     "text": [
      "/opt/anaconda3/lib/python3.8/site-packages/arviz/stats/stats.py:337: UserWarning: hpd will be deprecated Please replace hdi\n",
      "  warnings.warn(\n"
     ]
    },
    {
     "data": {
      "image/png": "[encoded data removed]",
      "text/plain": [
       "<Figure size 400x400 with 1 Axes>"
      ]
     },
     "metadata": {},
     "output_type": "display_data"
    }
   ],
   "source": [
    "# hold groupsize constant\n",
    "map_weight = map_alpha + map_beta*data['groupsize'].mean() + map_gamma*data['area']\n",
    "\n",
    "interval_samples = []; lower = []; upper = []\n",
    "\n",
    "for i in data['area']:\n",
    "    sample_ = np.array(data['groupsize'].mean()*sample_pd['beta'] + sample_pd['alpha'] +  i*sample_pd['gamma'])\n",
    "    lower_, upper_ = pm.stats.hpd(sample_, alpha=0.95)\n",
    "    lower.append(lower_)\n",
    "    upper.append(upper_)\n",
    "\n",
    "plt.figure(figsize=(4,4))\n",
    "\n",
    "# raw data\n",
    "plt.scatter(data['area'], data['weight'], alpha=0.5, color='salmon')\n",
    "\n",
    "# map regression line\n",
    "plt.plot(data['area'], map_weight)\n",
    "\n",
    "# 95% interval of mean\n",
    "int_pd = pd.DataFrame({'x':data['area'], 'low':lower, 'high':upper})\n",
    "int_pd = int_pd.sort_values(by=['x'], ascending=True)\n",
    "plt.fill_between(int_pd['x'], int_pd['low'], int_pd['high'], alpha=0.6, color='dodgerblue')\n",
    "\n",
    "plt.xlabel('area')\n",
    "plt.ylabel('weight')\n",
    "plt.grid()\n",
    "plt.show()  \n",
    "\n"
   ]
  },
  {
   "cell_type": "code",
   "execution_count": 325,
   "metadata": {},
   "outputs": [
    {
     "data": {
      "image/png": "[encoded data removed]",
      "text/plain": [
       "<Figure size 400x400 with 1 Axes>"
      ]
     },
     "metadata": {},
     "output_type": "display_data"
    }
   ],
   "source": [
    "plt.figure(figsize=(4,4))\n",
    "\n",
    "# raw data\n",
    "plt.scatter(data['area'], data['groupsize'], alpha=0.5, color='salmon')\n",
    "\n",
    "plt.xlabel('area')\n",
    "plt.ylabel('groupsize')\n",
    "plt.grid()\n",
    "plt.show()"
   ]
  },
  {
   "cell_type": "code",
   "execution_count": null,
   "metadata": {},
   "outputs": [],
   "source": []
  },
  {
   "cell_type": "code",
   "execution_count": null,
   "metadata": {},
   "outputs": [],
   "source": []
  },
  {
   "cell_type": "markdown",
   "metadata": {},
   "source": [
    "# Hard 3"
   ]
  },
  {
   "cell_type": "markdown",
   "metadata": {},
   "source": [
    "weight ~ avgfood and groupsize"
   ]
  },
  {
   "cell_type": "code",
   "execution_count": 326,
   "metadata": {},
   "outputs": [
    {
     "data": {
      "image/png": "[encoded data removed]",
      "text/plain": [
       "<Figure size 400x400 with 1 Axes>"
      ]
     },
     "metadata": {},
     "output_type": "display_data"
    }
   ],
   "source": [
    "plt.figure(figsize=(4,4))\n",
    "\n",
    "# raw data\n",
    "plt.scatter(data['avgfood'], data['weight'], alpha=0.5, color='salmon')\n",
    "\n",
    "plt.xlabel('avgfood')\n",
    "plt.ylabel('weight')\n",
    "plt.grid()\n",
    "plt.show()  "
   ]
  },
  {
   "cell_type": "code",
   "execution_count": null,
   "metadata": {},
   "outputs": [],
   "source": [
    "# fit using both of these variables\n",
    "with pm.Model() as linear_model_2:\n",
    "\n",
    "    # priors\n",
    "    alpha = pm.Normal('alpha', mu=4.5, sigma=1.2)\n",
    "    beta = pm.Normal('beta', mu=0, sigma=10)\n",
    "    gamma = pm.Normal('gamma', mu=0, sigma=10)\n",
    "    sigma = pm.Uniform('sigma', lower=0, upper=10)\n",
    "    \n",
    "    # deterministic\n",
    "    mu = alpha + beta*data['groupsize'] + gamma*data['area']\n",
    "    \n",
    "    # likelihood\n",
    "    weight = pm.Normal('weight', mu=mu, sigma=sigma, observed=data['weight'])\n",
    "    \n",
    "    samples = pm.sample(draws=1000, model=linear_model)"
   ]
  },
  {
   "cell_type": "code",
   "execution_count": null,
   "metadata": {},
   "outputs": [],
   "source": []
  },
  {
   "cell_type": "code",
   "execution_count": null,
   "metadata": {},
   "outputs": [],
   "source": []
  },
  {
   "cell_type": "code",
   "execution_count": null,
   "metadata": {},
   "outputs": [],
   "source": []
  },
  {
   "cell_type": "code",
   "execution_count": null,
   "metadata": {},
   "outputs": [],
   "source": []
  },
  {
   "cell_type": "code",
   "execution_count": null,
   "metadata": {},
   "outputs": [],
   "source": []
  },
  {
   "cell_type": "code",
   "execution_count": null,
   "metadata": {},
   "outputs": [],
   "source": []
  },
  {
   "cell_type": "code",
   "execution_count": null,
   "metadata": {},
   "outputs": [],
   "source": []
  }
 ],
 "metadata": {
  "kernelspec": {
   "display_name": "Python 3",
   "language": "python",
   "name": "python3"
  },
  "language_info": {
   "codemirror_mode": {
    "name": "ipython",
    "version": 3
   },
   "file_extension": ".py",
   "mimetype": "text/x-python",
   "name": "python",
   "nbconvert_exporter": "python",
   "pygments_lexer": "ipython3",
   "version": "3.8.3"
  }
 },
 "nbformat": 4,
 "nbformat_minor": 4
}
